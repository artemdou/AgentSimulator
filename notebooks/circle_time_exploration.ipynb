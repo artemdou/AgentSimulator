{
 "cells": [
  {
   "cell_type": "code",
   "execution_count": 62,
   "metadata": {},
   "outputs": [],
   "source": [
    "import pandas as pd\n",
    "import numpy as np\n",
    "import os\n",
    "import copy\n",
    "import itertools\n",
    "from operator import itemgetter\n",
    "import plotly.express as px\n",
    "\n",
    "import sys\n",
    "\n",
    "sys.path.append(os.path.abspath(os.path.join(\"../..\"))) \n",
    "from source.train_test_split import split_data\n",
    "\n"
   ]
  },
  {
   "cell_type": "markdown",
   "metadata": {},
   "source": [
    "Load Data"
   ]
  },
  {
   "cell_type": "code",
   "execution_count": 63,
   "metadata": {},
   "outputs": [],
   "source": [
    "def load_all_simulated_logs(base_simulation_dir):\n",
    "    \"\"\"\n",
    "    Load all simulated log CSVs from a given base directory into a single DataFrame.\n",
    "    \n",
    "    Parameters:\n",
    "        base_simulation_dir (str): Path to the directory containing simulated_log_*.csv files.\n",
    "    \n",
    "    Returns:\n",
    "        pd.DataFrame: A combined DataFrame of all simulated logs, with a 'simulation_run' column.\n",
    "    \"\"\"\n",
    "    simulated_logs = []\n",
    "    for root, dirs, files in os.walk(base_simulation_dir):\n",
    "        for file in files:\n",
    "            if file.startswith(\"simulated_log_\") and file.endswith(\".csv\"):\n",
    "                simulated_logs.append(os.path.join(root, file))\n",
    "\n",
    "    simulated_log_dfs = []\n",
    "    for log_path in simulated_logs:\n",
    "        df = pd.read_csv(log_path)\n",
    "        simulation_index = int(os.path.basename(log_path).split('_')[-1].split('.')[0])\n",
    "        df[\"simulation_run\"] = simulation_index\n",
    "        simulated_log_dfs.append(df)\n",
    "\n",
    "    if simulated_log_dfs:\n",
    "        return pd.concat(simulated_log_dfs, ignore_index=True)\n",
    "    else:\n",
    "        raise FileNotFoundError(f\"No simulated logs found in {base_simulation_dir}\")\n",
    "\n"
   ]
  },
  {
   "cell_type": "code",
   "execution_count": 64,
   "metadata": {},
   "outputs": [
    {
     "name": "stdout",
     "output_type": "stream",
     "text": [
      "The train log conisists of 797 cases\n",
      "The test log conisists of 200 cases\n"
     ]
    }
   ],
   "source": [
    "raw_df_train, raw_df_test, num_cases_to_simulate = split_data(\"../../raw_data/LoanApp.csv.gz\", \n",
    "                                                        {\n",
    "                                                            \"case_id\": \"case_id\", \n",
    "                                                            \"activity_name\": \"activity\",\n",
    "                                                            \"resource_name\": \"resource\",\n",
    "                                                            \"end_time\": \"end_timestamp\",\n",
    "                                                            \"start_time\": \"start_timestamp\"\n",
    "                                                            },\n",
    "                                                        None\n",
    "                                                        )\n"
   ]
  },
  {
   "cell_type": "code",
   "execution_count": 117,
   "metadata": {},
   "outputs": [],
   "source": [
    "simulated_logs_df = load_all_simulated_logs(\"../../simulated_data/LoanApp.csv/main_results/\")\n",
    "simulated_logs_df = simulated_logs_df.rename(columns={'activity_name': 'activity'})\n",
    "# simulated_logs_df = load_all_simulated_logs(\"../../simulated_data/LoanApp.csv/autonomous/\")"
   ]
  },
  {
   "cell_type": "markdown",
   "metadata": {},
   "source": [
    "Circle Time Calculation"
   ]
  },
  {
   "cell_type": "code",
   "execution_count": 98,
   "metadata": {},
   "outputs": [],
   "source": [
    "def calculate_cycle_time(df, start_column, end_column):\n",
    "    temp = df.copy()\n",
    "    try:\n",
    "        temp['start_time'] = pd.to_datetime(df[start_column])\n",
    "    except:\n",
    "        temp['start_time'] = pd.to_datetime(df[start_column], utc=True, format=\"mixed\")\n",
    "    try:\n",
    "        temp['end_time'] = pd.to_datetime(df[end_column])\n",
    "    except:\n",
    "        temp['end_time'] = pd.to_datetime(df[end_column], utc=True, format=\"mixed\")\n",
    "\n",
    "    grouped = temp.groupby('case_id').agg(start=('start_time', 'min'), end=('end_time', 'max'))\n",
    "    grouped['cycle_time'] = (grouped['end'] - grouped['start']).dt.total_seconds()/60 # minites\n",
    "    return grouped"
   ]
  },
  {
   "cell_type": "code",
   "execution_count": 99,
   "metadata": {},
   "outputs": [],
   "source": [
    "raw_logs_cycle_times = calculate_cycle_time(raw_df_test, 'start_timestamp', 'end_timestamp').reset_index()\n",
    "# raw_logs_cycle_times = raw_df_test.merge(raw_logs_cycle_times.reset_index()).drop_duplicates(subset='case_id', keep='first')\n",
    "simulated_logs_cycle_times = calculate_cycle_time(simulated_logs_df, 'start_timestamp', 'end_timestamp').reset_index()\n",
    "# simulated_logs_cycle_times = simulated_logs_df.merge(simulated_logs_cycle_times.reset_index())"
   ]
  },
  {
   "cell_type": "code",
   "execution_count": 100,
   "metadata": {},
   "outputs": [
    {
     "data": {
      "text/html": [
       "<div>\n",
       "<style scoped>\n",
       "    .dataframe tbody tr th:only-of-type {\n",
       "        vertical-align: middle;\n",
       "    }\n",
       "\n",
       "    .dataframe tbody tr th {\n",
       "        vertical-align: top;\n",
       "    }\n",
       "\n",
       "    .dataframe thead th {\n",
       "        text-align: right;\n",
       "    }\n",
       "</style>\n",
       "<table border=\"1\" class=\"dataframe\">\n",
       "  <thead>\n",
       "    <tr style=\"text-align: right;\">\n",
       "      <th></th>\n",
       "      <th>case_id</th>\n",
       "      <th>start</th>\n",
       "      <th>end</th>\n",
       "      <th>cycle_time</th>\n",
       "    </tr>\n",
       "  </thead>\n",
       "  <tbody>\n",
       "    <tr>\n",
       "      <th>0</th>\n",
       "      <td>0</td>\n",
       "      <td>2023-04-20 08:00:00+00:00</td>\n",
       "      <td>2023-04-20 12:10:01.063148979+00:00</td>\n",
       "      <td>250.017719</td>\n",
       "    </tr>\n",
       "    <tr>\n",
       "      <th>1</th>\n",
       "      <td>1</td>\n",
       "      <td>2023-04-20 08:30:00+00:00</td>\n",
       "      <td>2023-04-20 13:43:22.096051463+00:00</td>\n",
       "      <td>313.368268</td>\n",
       "    </tr>\n",
       "    <tr>\n",
       "      <th>2</th>\n",
       "      <td>2</td>\n",
       "      <td>2023-04-20 09:00:00+00:00</td>\n",
       "      <td>2023-04-20 12:21:25.923659805+00:00</td>\n",
       "      <td>201.432061</td>\n",
       "    </tr>\n",
       "    <tr>\n",
       "      <th>3</th>\n",
       "      <td>3</td>\n",
       "      <td>2023-04-20 09:30:00+00:00</td>\n",
       "      <td>2023-04-20 14:02:47.334061884+00:00</td>\n",
       "      <td>272.788901</td>\n",
       "    </tr>\n",
       "    <tr>\n",
       "      <th>4</th>\n",
       "      <td>4</td>\n",
       "      <td>2023-04-20 10:00:00+00:00</td>\n",
       "      <td>2023-04-20 12:34:28.303846782+00:00</td>\n",
       "      <td>154.471731</td>\n",
       "    </tr>\n",
       "    <tr>\n",
       "      <th>...</th>\n",
       "      <td>...</td>\n",
       "      <td>...</td>\n",
       "      <td>...</td>\n",
       "      <td>...</td>\n",
       "    </tr>\n",
       "    <tr>\n",
       "      <th>195</th>\n",
       "      <td>195</td>\n",
       "      <td>2023-05-08 09:30:00+00:00</td>\n",
       "      <td>2023-05-08 14:47:30.544967068+00:00</td>\n",
       "      <td>317.509083</td>\n",
       "    </tr>\n",
       "    <tr>\n",
       "      <th>196</th>\n",
       "      <td>196</td>\n",
       "      <td>2023-05-08 10:00:00+00:00</td>\n",
       "      <td>2023-05-09 07:40:41.970868449+00:00</td>\n",
       "      <td>1300.699514</td>\n",
       "    </tr>\n",
       "    <tr>\n",
       "      <th>197</th>\n",
       "      <td>197</td>\n",
       "      <td>2023-05-08 10:30:00+00:00</td>\n",
       "      <td>2023-05-09 08:16:28.558184950+00:00</td>\n",
       "      <td>1306.475970</td>\n",
       "    </tr>\n",
       "    <tr>\n",
       "      <th>198</th>\n",
       "      <td>198</td>\n",
       "      <td>2023-05-08 11:00:00+00:00</td>\n",
       "      <td>2023-05-08 14:59:54.398954666+00:00</td>\n",
       "      <td>239.906649</td>\n",
       "    </tr>\n",
       "    <tr>\n",
       "      <th>199</th>\n",
       "      <td>199</td>\n",
       "      <td>2023-05-08 11:30:00+00:00</td>\n",
       "      <td>2023-05-08 14:29:55.646703479+00:00</td>\n",
       "      <td>179.927445</td>\n",
       "    </tr>\n",
       "  </tbody>\n",
       "</table>\n",
       "<p>200 rows × 4 columns</p>\n",
       "</div>"
      ],
      "text/plain": [
       "     case_id                     start                                 end  \\\n",
       "0          0 2023-04-20 08:00:00+00:00 2023-04-20 12:10:01.063148979+00:00   \n",
       "1          1 2023-04-20 08:30:00+00:00 2023-04-20 13:43:22.096051463+00:00   \n",
       "2          2 2023-04-20 09:00:00+00:00 2023-04-20 12:21:25.923659805+00:00   \n",
       "3          3 2023-04-20 09:30:00+00:00 2023-04-20 14:02:47.334061884+00:00   \n",
       "4          4 2023-04-20 10:00:00+00:00 2023-04-20 12:34:28.303846782+00:00   \n",
       "..       ...                       ...                                 ...   \n",
       "195      195 2023-05-08 09:30:00+00:00 2023-05-08 14:47:30.544967068+00:00   \n",
       "196      196 2023-05-08 10:00:00+00:00 2023-05-09 07:40:41.970868449+00:00   \n",
       "197      197 2023-05-08 10:30:00+00:00 2023-05-09 08:16:28.558184950+00:00   \n",
       "198      198 2023-05-08 11:00:00+00:00 2023-05-08 14:59:54.398954666+00:00   \n",
       "199      199 2023-05-08 11:30:00+00:00 2023-05-08 14:29:55.646703479+00:00   \n",
       "\n",
       "      cycle_time  \n",
       "0     250.017719  \n",
       "1     313.368268  \n",
       "2     201.432061  \n",
       "3     272.788901  \n",
       "4     154.471731  \n",
       "..           ...  \n",
       "195   317.509083  \n",
       "196  1300.699514  \n",
       "197  1306.475970  \n",
       "198   239.906649  \n",
       "199   179.927445  \n",
       "\n",
       "[200 rows x 4 columns]"
      ]
     },
     "execution_count": 100,
     "metadata": {},
     "output_type": "execute_result"
    }
   ],
   "source": [
    "simulated_logs_cycle_times"
   ]
  },
  {
   "cell_type": "code",
   "execution_count": 101,
   "metadata": {},
   "outputs": [
    {
     "data": {
      "text/html": [
       "<div>\n",
       "<style scoped>\n",
       "    .dataframe tbody tr th:only-of-type {\n",
       "        vertical-align: middle;\n",
       "    }\n",
       "\n",
       "    .dataframe tbody tr th {\n",
       "        vertical-align: top;\n",
       "    }\n",
       "\n",
       "    .dataframe thead th {\n",
       "        text-align: right;\n",
       "    }\n",
       "</style>\n",
       "<table border=\"1\" class=\"dataframe\">\n",
       "  <thead>\n",
       "    <tr style=\"text-align: right;\">\n",
       "      <th></th>\n",
       "      <th>case_id</th>\n",
       "      <th>start</th>\n",
       "      <th>end</th>\n",
       "      <th>cycle_time</th>\n",
       "    </tr>\n",
       "  </thead>\n",
       "  <tbody>\n",
       "    <tr>\n",
       "      <th>0</th>\n",
       "      <td>800</td>\n",
       "      <td>2023-04-20 08:00:00</td>\n",
       "      <td>2023-04-20 10:00:00.265</td>\n",
       "      <td>120.004417</td>\n",
       "    </tr>\n",
       "    <tr>\n",
       "      <th>1</th>\n",
       "      <td>801</td>\n",
       "      <td>2023-04-20 08:30:00</td>\n",
       "      <td>2023-04-20 11:57:19.826</td>\n",
       "      <td>207.330433</td>\n",
       "    </tr>\n",
       "    <tr>\n",
       "      <th>2</th>\n",
       "      <td>802</td>\n",
       "      <td>2023-04-20 09:00:00</td>\n",
       "      <td>2023-04-20 13:23:18.894</td>\n",
       "      <td>263.314900</td>\n",
       "    </tr>\n",
       "    <tr>\n",
       "      <th>3</th>\n",
       "      <td>803</td>\n",
       "      <td>2023-04-20 09:30:00</td>\n",
       "      <td>2023-04-20 11:04:47.091</td>\n",
       "      <td>94.784850</td>\n",
       "    </tr>\n",
       "    <tr>\n",
       "      <th>4</th>\n",
       "      <td>804</td>\n",
       "      <td>2023-04-20 10:00:00</td>\n",
       "      <td>2023-04-20 13:26:49.419</td>\n",
       "      <td>206.823650</td>\n",
       "    </tr>\n",
       "    <tr>\n",
       "      <th>...</th>\n",
       "      <td>...</td>\n",
       "      <td>...</td>\n",
       "      <td>...</td>\n",
       "      <td>...</td>\n",
       "    </tr>\n",
       "    <tr>\n",
       "      <th>195</th>\n",
       "      <td>995</td>\n",
       "      <td>2023-05-08 09:30:00</td>\n",
       "      <td>2023-05-08 10:41:48.529</td>\n",
       "      <td>71.808817</td>\n",
       "    </tr>\n",
       "    <tr>\n",
       "      <th>196</th>\n",
       "      <td>996</td>\n",
       "      <td>2023-05-08 10:00:00</td>\n",
       "      <td>2023-05-08 11:02:40.519</td>\n",
       "      <td>62.675317</td>\n",
       "    </tr>\n",
       "    <tr>\n",
       "      <th>197</th>\n",
       "      <td>997</td>\n",
       "      <td>2023-05-08 10:30:00</td>\n",
       "      <td>2023-05-08 13:07:09.378</td>\n",
       "      <td>157.156300</td>\n",
       "    </tr>\n",
       "    <tr>\n",
       "      <th>198</th>\n",
       "      <td>998</td>\n",
       "      <td>2023-05-08 11:00:00</td>\n",
       "      <td>2023-05-08 12:12:48.215</td>\n",
       "      <td>72.803583</td>\n",
       "    </tr>\n",
       "    <tr>\n",
       "      <th>199</th>\n",
       "      <td>999</td>\n",
       "      <td>2023-05-08 11:30:00</td>\n",
       "      <td>2023-05-09 08:31:13.935</td>\n",
       "      <td>1261.232250</td>\n",
       "    </tr>\n",
       "  </tbody>\n",
       "</table>\n",
       "<p>200 rows × 4 columns</p>\n",
       "</div>"
      ],
      "text/plain": [
       "     case_id               start                     end   cycle_time\n",
       "0        800 2023-04-20 08:00:00 2023-04-20 10:00:00.265   120.004417\n",
       "1        801 2023-04-20 08:30:00 2023-04-20 11:57:19.826   207.330433\n",
       "2        802 2023-04-20 09:00:00 2023-04-20 13:23:18.894   263.314900\n",
       "3        803 2023-04-20 09:30:00 2023-04-20 11:04:47.091    94.784850\n",
       "4        804 2023-04-20 10:00:00 2023-04-20 13:26:49.419   206.823650\n",
       "..       ...                 ...                     ...          ...\n",
       "195      995 2023-05-08 09:30:00 2023-05-08 10:41:48.529    71.808817\n",
       "196      996 2023-05-08 10:00:00 2023-05-08 11:02:40.519    62.675317\n",
       "197      997 2023-05-08 10:30:00 2023-05-08 13:07:09.378   157.156300\n",
       "198      998 2023-05-08 11:00:00 2023-05-08 12:12:48.215    72.803583\n",
       "199      999 2023-05-08 11:30:00 2023-05-09 08:31:13.935  1261.232250\n",
       "\n",
       "[200 rows x 4 columns]"
      ]
     },
     "execution_count": 101,
     "metadata": {},
     "output_type": "execute_result"
    }
   ],
   "source": [
    "raw_logs_cycle_times"
   ]
  },
  {
   "cell_type": "markdown",
   "metadata": {},
   "source": [
    "Circle Time Distribution Histograms"
   ]
  },
  {
   "cell_type": "code",
   "execution_count": 102,
   "metadata": {},
   "outputs": [
    {
     "data": {
      "application/vnd.plotly.v1+json": {
       "config": {
        "plotlyServerURL": "https://plot.ly"
       },
       "data": [
        {
         "alignmentgroup": "True",
         "hovertemplate": "Type=Raw<br>Cycle Time Bin=%{x}<br>Number of Cases=%{y}<extra></extra>",
         "legendgroup": "Raw",
         "marker": {
          "color": "#636efa",
          "pattern": {
           "shape": ""
          }
         },
         "name": "Raw",
         "offsetgroup": "Raw",
         "orientation": "v",
         "showlegend": true,
         "textposition": "auto",
         "type": "bar",
         "x": [
          "0-20 min",
          "20-40 min",
          "40-60 min",
          "60-80 min",
          "80-100 min",
          "100-120 min",
          "120-140 min",
          "140-160 min",
          "160-180 min",
          "180-200 min",
          "200-220 min",
          "220-240 min",
          "240-260 min",
          "260-280 min",
          "280-300 min",
          "300-320 min",
          "320-340 min",
          "340-360 min",
          "360-380 min",
          "380-400 min",
          "400-420 min",
          "420-440 min",
          "440-460 min",
          "460-480 min",
          "480-500 min",
          "500-520 min",
          "520-540 min",
          "540-560 min",
          "560-580 min",
          "580-600 min",
          "600-620 min",
          "620-640 min",
          "640-660 min",
          "660-680 min",
          "680-700 min",
          "700-720 min",
          "720-740 min",
          "740-760 min",
          "760-780 min",
          "780-800 min",
          "800-820 min",
          "820-840 min",
          "840-860 min",
          "860-880 min",
          "880-900 min",
          "900-920 min",
          "920-940 min",
          "940-960 min",
          "960-980 min",
          "980-1000 min",
          "1000-1020 min",
          "1020-1040 min",
          "1040-1060 min",
          "1060-1080 min",
          "1080-1100 min",
          "1100-1120 min",
          "1120-1140 min",
          "1140-1160 min",
          "1160-1180 min",
          "1180-1200 min",
          "1200-1220 min",
          "1220-1240 min",
          "1240-1260 min",
          "1260-1280 min",
          "1280-1300 min",
          "1300-1320 min",
          "1320-1340 min",
          "1340-1360 min",
          "1360-1380 min",
          "1380-1400 min",
          "1400-1420 min",
          "1420-1440 min",
          "1440-1460 min",
          "1460-1480 min",
          "1480-1500 min",
          "1500-1520 min",
          "1520-1540 min",
          "1540-1560 min",
          "1560-1580 min",
          "1580-1600 min",
          "1600-1620 min",
          "1620-1640 min",
          "1640-1660 min",
          "1660-1680 min",
          "1680-1700 min",
          "1700-1720 min",
          "1720-1740 min",
          "1740-1760 min",
          "1760-1780 min",
          "1780-1800 min",
          "1800-1820 min",
          "1820-1840 min",
          "1840-1860 min",
          "1860-1880 min",
          "1880-1900 min",
          "1900-1920 min",
          "1920-1940 min",
          "1940-1960 min",
          "1960-1980 min",
          "1980-2000 min",
          "2000-2020 min",
          "2020-2040 min",
          "2040-2060 min",
          "2060-2080 min",
          "2080-2100 min",
          "2100-2120 min",
          "2120-2140 min",
          "2140-2160 min",
          "2160-2180 min",
          "2180-2200 min",
          "2200-2220 min",
          "2220-2240 min",
          "2240-2260 min",
          "2260-2280 min",
          "2280-2300 min",
          "2300-2320 min",
          "2320-2340 min",
          "2340-2360 min",
          "2360-2380 min",
          "2380-2400 min",
          "2400-2420 min",
          "2420-2440 min",
          "2440-2460 min",
          "2460-2480 min",
          "2480-2500 min",
          "2500-2520 min",
          "2520-2540 min",
          "2540-2560 min",
          "2560-2580 min",
          "2580-2600 min",
          "2600-2620 min",
          "2620-2640 min",
          "2640-2660 min",
          "2660-2680 min",
          "2680-2700 min",
          "2700-2720 min",
          "2720-2740 min",
          "2740-2760 min",
          "2760-2780 min",
          "2780-2800 min",
          "2800-2820 min",
          "2820-2840 min",
          "2840-2860 min",
          "2860-2880 min",
          "2880-2900 min",
          "2900-2920 min",
          "2920-2940 min",
          "2940-2960 min",
          "2960-2980 min",
          "2980-3000 min",
          "3000-3020 min",
          "3020-3040 min",
          "3040-3060 min",
          "3060-3080 min",
          "3080-3100 min",
          "3100-3120 min",
          "3120-3140 min",
          "3140-3160 min",
          "3160-3180 min",
          "3180-3200 min",
          "3200-3220 min",
          "3220-3240 min",
          "3240-3260 min",
          "3260-3280 min",
          "3280-3300 min",
          "3300-3320 min",
          "3320-3340 min",
          "3340-3360 min",
          "3360-3380 min",
          "3380-3400 min",
          "3400-3420 min",
          "3420-3440 min",
          "3440-3460 min",
          "3460-3480 min",
          "3480-3500 min",
          "3500-3520 min",
          "3520-3540 min",
          "3540-3560 min",
          "3560-3580 min",
          "3580-3600 min",
          "3600-3620 min",
          "3620-3640 min",
          "3640-3660 min",
          "3660-3680 min",
          "3680-3700 min",
          "3700-3720 min",
          "3720-3740 min",
          "3740-3760 min",
          "3760-3780 min",
          "3780-3800 min",
          "3800-3820 min",
          "3820-3840 min",
          "3840-3860 min",
          "3860-3880 min",
          "3880-3900 min",
          "3900-3920 min",
          "3920-3940 min",
          "3940-3960 min",
          "3960-3980 min",
          "3980-4000 min",
          "4000-4020 min",
          "4020-4040 min",
          "4040-4060 min",
          "4060-4080 min",
          "4080-4100 min",
          "4100-4120 min",
          "4120-4140 min",
          "4140-4160 min",
          "4160-4180 min",
          "4180-4200 min",
          "4200-4220 min",
          "4220-4240 min",
          "4240-4260 min",
          "4260-4280 min",
          "4280-4300 min",
          "4300-4320 min"
         ],
         "xaxis": "x",
         "y": {
          "bdata": "AAAIERMWFw8OBwgBAAEAAAAAAAAAAAAAAAAAAAAAAAAAAAAAAAAAAAAAAAAAAAAAAAAAAQQIAQkCCAQEBAIBAQABAAAAAAAAAAAAAAAAAAAAAAAAAAAAAAAAAAAAAAAAAAAAAAAAAAAAAAAAAAAAAAAAAAAAAAAAAAAAAAAAAAAAAAAAAAAAAAAAAAAAAAAAAAAAAAAAAAAAAAAAAAAAAAAAAAAAAAAAAAAAAAAAAAAAAAAAAAAAAAAAAAAAAAAAAAAAAAAFBAICAQAAAQAAAAAAAAAAAAAA",
          "dtype": "i1"
         },
         "yaxis": "y"
        },
        {
         "alignmentgroup": "True",
         "hovertemplate": "Type=Simulated<br>Cycle Time Bin=%{x}<br>Number of Cases=%{y}<extra></extra>",
         "legendgroup": "Simulated",
         "marker": {
          "color": "#EF553B",
          "pattern": {
           "shape": ""
          }
         },
         "name": "Simulated",
         "offsetgroup": "Simulated",
         "orientation": "v",
         "showlegend": true,
         "textposition": "auto",
         "type": "bar",
         "x": [
          "0-20 min",
          "20-40 min",
          "40-60 min",
          "60-80 min",
          "80-100 min",
          "100-120 min",
          "120-140 min",
          "140-160 min",
          "160-180 min",
          "180-200 min",
          "200-220 min",
          "220-240 min",
          "240-260 min",
          "260-280 min",
          "280-300 min",
          "300-320 min",
          "320-340 min",
          "340-360 min",
          "360-380 min",
          "380-400 min",
          "400-420 min",
          "420-440 min",
          "440-460 min",
          "460-480 min",
          "480-500 min",
          "500-520 min",
          "520-540 min",
          "540-560 min",
          "560-580 min",
          "580-600 min",
          "600-620 min",
          "620-640 min",
          "640-660 min",
          "660-680 min",
          "680-700 min",
          "700-720 min",
          "720-740 min",
          "740-760 min",
          "760-780 min",
          "780-800 min",
          "800-820 min",
          "820-840 min",
          "840-860 min",
          "860-880 min",
          "880-900 min",
          "900-920 min",
          "920-940 min",
          "940-960 min",
          "960-980 min",
          "980-1000 min",
          "1000-1020 min",
          "1020-1040 min",
          "1040-1060 min",
          "1060-1080 min",
          "1080-1100 min",
          "1100-1120 min",
          "1120-1140 min",
          "1140-1160 min",
          "1160-1180 min",
          "1180-1200 min",
          "1200-1220 min",
          "1220-1240 min",
          "1240-1260 min",
          "1260-1280 min",
          "1280-1300 min",
          "1300-1320 min",
          "1320-1340 min",
          "1340-1360 min",
          "1360-1380 min",
          "1380-1400 min",
          "1400-1420 min",
          "1420-1440 min",
          "1440-1460 min",
          "1460-1480 min",
          "1480-1500 min",
          "1500-1520 min",
          "1520-1540 min",
          "1540-1560 min",
          "1560-1580 min",
          "1580-1600 min",
          "1600-1620 min",
          "1620-1640 min",
          "1640-1660 min",
          "1660-1680 min",
          "1680-1700 min",
          "1700-1720 min",
          "1720-1740 min",
          "1740-1760 min",
          "1760-1780 min",
          "1780-1800 min",
          "1800-1820 min",
          "1820-1840 min",
          "1840-1860 min",
          "1860-1880 min",
          "1880-1900 min",
          "1900-1920 min",
          "1920-1940 min",
          "1940-1960 min",
          "1960-1980 min",
          "1980-2000 min",
          "2000-2020 min",
          "2020-2040 min",
          "2040-2060 min",
          "2060-2080 min",
          "2080-2100 min",
          "2100-2120 min",
          "2120-2140 min",
          "2140-2160 min",
          "2160-2180 min",
          "2180-2200 min",
          "2200-2220 min",
          "2220-2240 min",
          "2240-2260 min",
          "2260-2280 min",
          "2280-2300 min",
          "2300-2320 min",
          "2320-2340 min",
          "2340-2360 min",
          "2360-2380 min",
          "2380-2400 min",
          "2400-2420 min",
          "2420-2440 min",
          "2440-2460 min",
          "2460-2480 min",
          "2480-2500 min",
          "2500-2520 min",
          "2520-2540 min",
          "2540-2560 min",
          "2560-2580 min",
          "2580-2600 min",
          "2600-2620 min",
          "2620-2640 min",
          "2640-2660 min",
          "2660-2680 min",
          "2680-2700 min",
          "2700-2720 min",
          "2720-2740 min",
          "2740-2760 min",
          "2760-2780 min",
          "2780-2800 min",
          "2800-2820 min",
          "2820-2840 min",
          "2840-2860 min",
          "2860-2880 min",
          "2880-2900 min",
          "2900-2920 min",
          "2920-2940 min",
          "2940-2960 min",
          "2960-2980 min",
          "2980-3000 min",
          "3000-3020 min",
          "3020-3040 min",
          "3040-3060 min",
          "3060-3080 min",
          "3080-3100 min",
          "3100-3120 min",
          "3120-3140 min",
          "3140-3160 min",
          "3160-3180 min",
          "3180-3200 min",
          "3200-3220 min",
          "3220-3240 min",
          "3240-3260 min",
          "3260-3280 min",
          "3280-3300 min",
          "3300-3320 min",
          "3320-3340 min",
          "3340-3360 min",
          "3360-3380 min",
          "3380-3400 min",
          "3400-3420 min",
          "3420-3440 min",
          "3440-3460 min",
          "3460-3480 min",
          "3480-3500 min",
          "3500-3520 min",
          "3520-3540 min",
          "3540-3560 min",
          "3560-3580 min",
          "3580-3600 min",
          "3600-3620 min",
          "3620-3640 min",
          "3640-3660 min",
          "3660-3680 min",
          "3680-3700 min",
          "3700-3720 min",
          "3720-3740 min",
          "3740-3760 min",
          "3760-3780 min",
          "3780-3800 min",
          "3800-3820 min",
          "3820-3840 min",
          "3840-3860 min",
          "3860-3880 min",
          "3880-3900 min",
          "3900-3920 min",
          "3920-3940 min",
          "3940-3960 min",
          "3960-3980 min",
          "3980-4000 min",
          "4000-4020 min",
          "4020-4040 min",
          "4040-4060 min",
          "4060-4080 min",
          "4080-4100 min",
          "4100-4120 min",
          "4120-4140 min",
          "4140-4160 min",
          "4160-4180 min",
          "4180-4200 min",
          "4200-4220 min",
          "4220-4240 min",
          "4240-4260 min",
          "4260-4280 min",
          "4280-4300 min",
          "4300-4320 min"
         ],
         "xaxis": "x",
         "y": {
          "bdata": "AAAAAAAAAAECBQUOCQYGDwMCAgEAAgAAAAAAAAAAAAAAAAAAAAAAAAAAAAAAAAAAAAAAAAAAAAABAwQIAwsKBQgGAwQCBQQIAwYAAQMAAAAAAAAAAAAAAAAAAAAAAAAAAAAAAAAAAAAAAAAAAAAAAAAAAAAAAAAAAAAAAAAAAAAAAAAAAAAAAAAAAAAAAAAAAAAAAAAAAAAAAAAAAAAAAAAAAAAAAAAAAAAAAAAAAAAAAAAAAAAAAAAAAAAAAAAAAAAAAAAAAAAAAwUDAgEGAAMEAAAAAQAB",
          "dtype": "i1"
         },
         "yaxis": "y"
        }
       ],
       "layout": {
        "barmode": "group",
        "height": 700,
        "legend": {
         "title": {
          "text": "Type"
         },
         "tracegroupgap": 0
        },
        "template": {
         "data": {
          "bar": [
           {
            "error_x": {
             "color": "#2a3f5f"
            },
            "error_y": {
             "color": "#2a3f5f"
            },
            "marker": {
             "line": {
              "color": "#E5ECF6",
              "width": 0.5
             },
             "pattern": {
              "fillmode": "overlay",
              "size": 10,
              "solidity": 0.2
             }
            },
            "type": "bar"
           }
          ],
          "barpolar": [
           {
            "marker": {
             "line": {
              "color": "#E5ECF6",
              "width": 0.5
             },
             "pattern": {
              "fillmode": "overlay",
              "size": 10,
              "solidity": 0.2
             }
            },
            "type": "barpolar"
           }
          ],
          "carpet": [
           {
            "aaxis": {
             "endlinecolor": "#2a3f5f",
             "gridcolor": "white",
             "linecolor": "white",
             "minorgridcolor": "white",
             "startlinecolor": "#2a3f5f"
            },
            "baxis": {
             "endlinecolor": "#2a3f5f",
             "gridcolor": "white",
             "linecolor": "white",
             "minorgridcolor": "white",
             "startlinecolor": "#2a3f5f"
            },
            "type": "carpet"
           }
          ],
          "choropleth": [
           {
            "colorbar": {
             "outlinewidth": 0,
             "ticks": ""
            },
            "type": "choropleth"
           }
          ],
          "contour": [
           {
            "colorbar": {
             "outlinewidth": 0,
             "ticks": ""
            },
            "colorscale": [
             [
              0,
              "#0d0887"
             ],
             [
              0.1111111111111111,
              "#46039f"
             ],
             [
              0.2222222222222222,
              "#7201a8"
             ],
             [
              0.3333333333333333,
              "#9c179e"
             ],
             [
              0.4444444444444444,
              "#bd3786"
             ],
             [
              0.5555555555555556,
              "#d8576b"
             ],
             [
              0.6666666666666666,
              "#ed7953"
             ],
             [
              0.7777777777777778,
              "#fb9f3a"
             ],
             [
              0.8888888888888888,
              "#fdca26"
             ],
             [
              1,
              "#f0f921"
             ]
            ],
            "type": "contour"
           }
          ],
          "contourcarpet": [
           {
            "colorbar": {
             "outlinewidth": 0,
             "ticks": ""
            },
            "type": "contourcarpet"
           }
          ],
          "heatmap": [
           {
            "colorbar": {
             "outlinewidth": 0,
             "ticks": ""
            },
            "colorscale": [
             [
              0,
              "#0d0887"
             ],
             [
              0.1111111111111111,
              "#46039f"
             ],
             [
              0.2222222222222222,
              "#7201a8"
             ],
             [
              0.3333333333333333,
              "#9c179e"
             ],
             [
              0.4444444444444444,
              "#bd3786"
             ],
             [
              0.5555555555555556,
              "#d8576b"
             ],
             [
              0.6666666666666666,
              "#ed7953"
             ],
             [
              0.7777777777777778,
              "#fb9f3a"
             ],
             [
              0.8888888888888888,
              "#fdca26"
             ],
             [
              1,
              "#f0f921"
             ]
            ],
            "type": "heatmap"
           }
          ],
          "histogram": [
           {
            "marker": {
             "pattern": {
              "fillmode": "overlay",
              "size": 10,
              "solidity": 0.2
             }
            },
            "type": "histogram"
           }
          ],
          "histogram2d": [
           {
            "colorbar": {
             "outlinewidth": 0,
             "ticks": ""
            },
            "colorscale": [
             [
              0,
              "#0d0887"
             ],
             [
              0.1111111111111111,
              "#46039f"
             ],
             [
              0.2222222222222222,
              "#7201a8"
             ],
             [
              0.3333333333333333,
              "#9c179e"
             ],
             [
              0.4444444444444444,
              "#bd3786"
             ],
             [
              0.5555555555555556,
              "#d8576b"
             ],
             [
              0.6666666666666666,
              "#ed7953"
             ],
             [
              0.7777777777777778,
              "#fb9f3a"
             ],
             [
              0.8888888888888888,
              "#fdca26"
             ],
             [
              1,
              "#f0f921"
             ]
            ],
            "type": "histogram2d"
           }
          ],
          "histogram2dcontour": [
           {
            "colorbar": {
             "outlinewidth": 0,
             "ticks": ""
            },
            "colorscale": [
             [
              0,
              "#0d0887"
             ],
             [
              0.1111111111111111,
              "#46039f"
             ],
             [
              0.2222222222222222,
              "#7201a8"
             ],
             [
              0.3333333333333333,
              "#9c179e"
             ],
             [
              0.4444444444444444,
              "#bd3786"
             ],
             [
              0.5555555555555556,
              "#d8576b"
             ],
             [
              0.6666666666666666,
              "#ed7953"
             ],
             [
              0.7777777777777778,
              "#fb9f3a"
             ],
             [
              0.8888888888888888,
              "#fdca26"
             ],
             [
              1,
              "#f0f921"
             ]
            ],
            "type": "histogram2dcontour"
           }
          ],
          "mesh3d": [
           {
            "colorbar": {
             "outlinewidth": 0,
             "ticks": ""
            },
            "type": "mesh3d"
           }
          ],
          "parcoords": [
           {
            "line": {
             "colorbar": {
              "outlinewidth": 0,
              "ticks": ""
             }
            },
            "type": "parcoords"
           }
          ],
          "pie": [
           {
            "automargin": true,
            "type": "pie"
           }
          ],
          "scatter": [
           {
            "fillpattern": {
             "fillmode": "overlay",
             "size": 10,
             "solidity": 0.2
            },
            "type": "scatter"
           }
          ],
          "scatter3d": [
           {
            "line": {
             "colorbar": {
              "outlinewidth": 0,
              "ticks": ""
             }
            },
            "marker": {
             "colorbar": {
              "outlinewidth": 0,
              "ticks": ""
             }
            },
            "type": "scatter3d"
           }
          ],
          "scattercarpet": [
           {
            "marker": {
             "colorbar": {
              "outlinewidth": 0,
              "ticks": ""
             }
            },
            "type": "scattercarpet"
           }
          ],
          "scattergeo": [
           {
            "marker": {
             "colorbar": {
              "outlinewidth": 0,
              "ticks": ""
             }
            },
            "type": "scattergeo"
           }
          ],
          "scattergl": [
           {
            "marker": {
             "colorbar": {
              "outlinewidth": 0,
              "ticks": ""
             }
            },
            "type": "scattergl"
           }
          ],
          "scattermap": [
           {
            "marker": {
             "colorbar": {
              "outlinewidth": 0,
              "ticks": ""
             }
            },
            "type": "scattermap"
           }
          ],
          "scattermapbox": [
           {
            "marker": {
             "colorbar": {
              "outlinewidth": 0,
              "ticks": ""
             }
            },
            "type": "scattermapbox"
           }
          ],
          "scatterpolar": [
           {
            "marker": {
             "colorbar": {
              "outlinewidth": 0,
              "ticks": ""
             }
            },
            "type": "scatterpolar"
           }
          ],
          "scatterpolargl": [
           {
            "marker": {
             "colorbar": {
              "outlinewidth": 0,
              "ticks": ""
             }
            },
            "type": "scatterpolargl"
           }
          ],
          "scatterternary": [
           {
            "marker": {
             "colorbar": {
              "outlinewidth": 0,
              "ticks": ""
             }
            },
            "type": "scatterternary"
           }
          ],
          "surface": [
           {
            "colorbar": {
             "outlinewidth": 0,
             "ticks": ""
            },
            "colorscale": [
             [
              0,
              "#0d0887"
             ],
             [
              0.1111111111111111,
              "#46039f"
             ],
             [
              0.2222222222222222,
              "#7201a8"
             ],
             [
              0.3333333333333333,
              "#9c179e"
             ],
             [
              0.4444444444444444,
              "#bd3786"
             ],
             [
              0.5555555555555556,
              "#d8576b"
             ],
             [
              0.6666666666666666,
              "#ed7953"
             ],
             [
              0.7777777777777778,
              "#fb9f3a"
             ],
             [
              0.8888888888888888,
              "#fdca26"
             ],
             [
              1,
              "#f0f921"
             ]
            ],
            "type": "surface"
           }
          ],
          "table": [
           {
            "cells": {
             "fill": {
              "color": "#EBF0F8"
             },
             "line": {
              "color": "white"
             }
            },
            "header": {
             "fill": {
              "color": "#C8D4E3"
             },
             "line": {
              "color": "white"
             }
            },
            "type": "table"
           }
          ]
         },
         "layout": {
          "annotationdefaults": {
           "arrowcolor": "#2a3f5f",
           "arrowhead": 0,
           "arrowwidth": 1
          },
          "autotypenumbers": "strict",
          "coloraxis": {
           "colorbar": {
            "outlinewidth": 0,
            "ticks": ""
           }
          },
          "colorscale": {
           "diverging": [
            [
             0,
             "#8e0152"
            ],
            [
             0.1,
             "#c51b7d"
            ],
            [
             0.2,
             "#de77ae"
            ],
            [
             0.3,
             "#f1b6da"
            ],
            [
             0.4,
             "#fde0ef"
            ],
            [
             0.5,
             "#f7f7f7"
            ],
            [
             0.6,
             "#e6f5d0"
            ],
            [
             0.7,
             "#b8e186"
            ],
            [
             0.8,
             "#7fbc41"
            ],
            [
             0.9,
             "#4d9221"
            ],
            [
             1,
             "#276419"
            ]
           ],
           "sequential": [
            [
             0,
             "#0d0887"
            ],
            [
             0.1111111111111111,
             "#46039f"
            ],
            [
             0.2222222222222222,
             "#7201a8"
            ],
            [
             0.3333333333333333,
             "#9c179e"
            ],
            [
             0.4444444444444444,
             "#bd3786"
            ],
            [
             0.5555555555555556,
             "#d8576b"
            ],
            [
             0.6666666666666666,
             "#ed7953"
            ],
            [
             0.7777777777777778,
             "#fb9f3a"
            ],
            [
             0.8888888888888888,
             "#fdca26"
            ],
            [
             1,
             "#f0f921"
            ]
           ],
           "sequentialminus": [
            [
             0,
             "#0d0887"
            ],
            [
             0.1111111111111111,
             "#46039f"
            ],
            [
             0.2222222222222222,
             "#7201a8"
            ],
            [
             0.3333333333333333,
             "#9c179e"
            ],
            [
             0.4444444444444444,
             "#bd3786"
            ],
            [
             0.5555555555555556,
             "#d8576b"
            ],
            [
             0.6666666666666666,
             "#ed7953"
            ],
            [
             0.7777777777777778,
             "#fb9f3a"
            ],
            [
             0.8888888888888888,
             "#fdca26"
            ],
            [
             1,
             "#f0f921"
            ]
           ]
          },
          "colorway": [
           "#636efa",
           "#EF553B",
           "#00cc96",
           "#ab63fa",
           "#FFA15A",
           "#19d3f3",
           "#FF6692",
           "#B6E880",
           "#FF97FF",
           "#FECB52"
          ],
          "font": {
           "color": "#2a3f5f"
          },
          "geo": {
           "bgcolor": "white",
           "lakecolor": "white",
           "landcolor": "#E5ECF6",
           "showlakes": true,
           "showland": true,
           "subunitcolor": "white"
          },
          "hoverlabel": {
           "align": "left"
          },
          "hovermode": "closest",
          "mapbox": {
           "style": "light"
          },
          "paper_bgcolor": "white",
          "plot_bgcolor": "#E5ECF6",
          "polar": {
           "angularaxis": {
            "gridcolor": "white",
            "linecolor": "white",
            "ticks": ""
           },
           "bgcolor": "#E5ECF6",
           "radialaxis": {
            "gridcolor": "white",
            "linecolor": "white",
            "ticks": ""
           }
          },
          "scene": {
           "xaxis": {
            "backgroundcolor": "#E5ECF6",
            "gridcolor": "white",
            "gridwidth": 2,
            "linecolor": "white",
            "showbackground": true,
            "ticks": "",
            "zerolinecolor": "white"
           },
           "yaxis": {
            "backgroundcolor": "#E5ECF6",
            "gridcolor": "white",
            "gridwidth": 2,
            "linecolor": "white",
            "showbackground": true,
            "ticks": "",
            "zerolinecolor": "white"
           },
           "zaxis": {
            "backgroundcolor": "#E5ECF6",
            "gridcolor": "white",
            "gridwidth": 2,
            "linecolor": "white",
            "showbackground": true,
            "ticks": "",
            "zerolinecolor": "white"
           }
          },
          "shapedefaults": {
           "line": {
            "color": "#2a3f5f"
           }
          },
          "ternary": {
           "aaxis": {
            "gridcolor": "white",
            "linecolor": "white",
            "ticks": ""
           },
           "baxis": {
            "gridcolor": "white",
            "linecolor": "white",
            "ticks": ""
           },
           "bgcolor": "#E5ECF6",
           "caxis": {
            "gridcolor": "white",
            "linecolor": "white",
            "ticks": ""
           }
          },
          "title": {
           "x": 0.05
          },
          "xaxis": {
           "automargin": true,
           "gridcolor": "white",
           "linecolor": "white",
           "ticks": "",
           "title": {
            "standoff": 15
           },
           "zerolinecolor": "white",
           "zerolinewidth": 2
          },
          "yaxis": {
           "automargin": true,
           "gridcolor": "white",
           "linecolor": "white",
           "ticks": "",
           "title": {
            "standoff": 15
           },
           "zerolinecolor": "white",
           "zerolinewidth": 2
          }
         }
        },
        "title": {
         "text": "Comparison of Raw vs Simulated Cycle Time Distributions"
        },
        "xaxis": {
         "anchor": "y",
         "domain": [
          0,
          1
         ],
         "title": {
          "text": "Cycle Time (Minutes)"
         }
        },
        "yaxis": {
         "anchor": "x",
         "domain": [
          0,
          1
         ],
         "title": {
          "text": "Number of Cases"
         }
        }
       }
      }
     },
     "metadata": {},
     "output_type": "display_data"
    }
   ],
   "source": [
    "raw_times = raw_logs_cycle_times['cycle_time']\n",
    "sim_times = simulated_logs_cycle_times['cycle_time']\n",
    "\n",
    "# Shared bin edges\n",
    "max_time = max(raw_times.max(), sim_times.max())\n",
    "bin_edges = np.arange(0, max_time + 20, 20)\n",
    "\n",
    "# Bin and count\n",
    "raw_bins = pd.cut(raw_times, bins=bin_edges)\n",
    "sim_bins = pd.cut(sim_times, bins=bin_edges)\n",
    "\n",
    "raw_counts = raw_bins.value_counts().sort_index()\n",
    "sim_counts = sim_bins.value_counts().sort_index()\n",
    "\n",
    "# Bin labels\n",
    "bin_labels = [f\"{int(interval.left)}-{int(interval.right)} min\" for interval in raw_counts.index]\n",
    "\n",
    "# Build long-format DataFrame for grouped bars\n",
    "df_raw = pd.DataFrame({\n",
    "    \"Cycle Time Bin\": bin_labels,\n",
    "    \"Number of Cases\": raw_counts.values,\n",
    "    \"Type\": \"Raw\"\n",
    "})\n",
    "\n",
    "df_sim = pd.DataFrame({\n",
    "    \"Cycle Time Bin\": bin_labels,\n",
    "    \"Number of Cases\": sim_counts.values,\n",
    "    \"Type\": \"Simulated\"\n",
    "})\n",
    "\n",
    "combined_df = pd.concat([df_raw, df_sim], ignore_index=True)\n",
    "\n",
    "# Plot grouped vertical bars\n",
    "fig = px.bar(combined_df,\n",
    "             x=\"Cycle Time Bin\",\n",
    "             y=\"Number of Cases\",\n",
    "             color=\"Type\",\n",
    "             barmode=\"group\",\n",
    "             title=\"Comparison of Raw vs Simulated Cycle Time Distributions\")\n",
    "\n",
    "fig.update_layout(xaxis_title=\"Cycle Time (Minutes)\", yaxis_title=\"Number of Cases\", height=700)\n",
    "fig.show()\n"
   ]
  },
  {
   "cell_type": "code",
   "execution_count": 103,
   "metadata": {},
   "outputs": [
    {
     "data": {
      "text/html": [
       "<div>\n",
       "<style scoped>\n",
       "    .dataframe tbody tr th:only-of-type {\n",
       "        vertical-align: middle;\n",
       "    }\n",
       "\n",
       "    .dataframe tbody tr th {\n",
       "        vertical-align: top;\n",
       "    }\n",
       "\n",
       "    .dataframe thead th {\n",
       "        text-align: right;\n",
       "    }\n",
       "</style>\n",
       "<table border=\"1\" class=\"dataframe\">\n",
       "  <thead>\n",
       "    <tr style=\"text-align: right;\">\n",
       "      <th></th>\n",
       "      <th>case_id</th>\n",
       "      <th>cycle_time</th>\n",
       "    </tr>\n",
       "  </thead>\n",
       "  <tbody>\n",
       "    <tr>\n",
       "      <th>count</th>\n",
       "      <td>200.000000</td>\n",
       "      <td>200.000000</td>\n",
       "    </tr>\n",
       "    <tr>\n",
       "      <th>mean</th>\n",
       "      <td>899.500000</td>\n",
       "      <td>667.278783</td>\n",
       "    </tr>\n",
       "    <tr>\n",
       "      <th>std</th>\n",
       "      <td>57.879185</td>\n",
       "      <td>1042.410255</td>\n",
       "    </tr>\n",
       "    <tr>\n",
       "      <th>min</th>\n",
       "      <td>800.000000</td>\n",
       "      <td>45.125017</td>\n",
       "    </tr>\n",
       "    <tr>\n",
       "      <th>25%</th>\n",
       "      <td>849.750000</td>\n",
       "      <td>104.211967</td>\n",
       "    </tr>\n",
       "    <tr>\n",
       "      <th>50%</th>\n",
       "      <td>899.500000</td>\n",
       "      <td>156.245383</td>\n",
       "    </tr>\n",
       "    <tr>\n",
       "      <th>75%</th>\n",
       "      <td>949.250000</td>\n",
       "      <td>1101.242067</td>\n",
       "    </tr>\n",
       "    <tr>\n",
       "      <th>max</th>\n",
       "      <td>999.000000</td>\n",
       "      <td>4082.978850</td>\n",
       "    </tr>\n",
       "  </tbody>\n",
       "</table>\n",
       "</div>"
      ],
      "text/plain": [
       "          case_id   cycle_time\n",
       "count  200.000000   200.000000\n",
       "mean   899.500000   667.278783\n",
       "std     57.879185  1042.410255\n",
       "min    800.000000    45.125017\n",
       "25%    849.750000   104.211967\n",
       "50%    899.500000   156.245383\n",
       "75%    949.250000  1101.242067\n",
       "max    999.000000  4082.978850"
      ]
     },
     "execution_count": 103,
     "metadata": {},
     "output_type": "execute_result"
    }
   ],
   "source": [
    "raw_logs_cycle_times[['case_id', 'cycle_time']].describe()"
   ]
  },
  {
   "cell_type": "code",
   "execution_count": 104,
   "metadata": {},
   "outputs": [
    {
     "data": {
      "text/html": [
       "<div>\n",
       "<style scoped>\n",
       "    .dataframe tbody tr th:only-of-type {\n",
       "        vertical-align: middle;\n",
       "    }\n",
       "\n",
       "    .dataframe tbody tr th {\n",
       "        vertical-align: top;\n",
       "    }\n",
       "\n",
       "    .dataframe thead th {\n",
       "        text-align: right;\n",
       "    }\n",
       "</style>\n",
       "<table border=\"1\" class=\"dataframe\">\n",
       "  <thead>\n",
       "    <tr style=\"text-align: right;\">\n",
       "      <th></th>\n",
       "      <th>case_id</th>\n",
       "      <th>cycle_time</th>\n",
       "    </tr>\n",
       "  </thead>\n",
       "  <tbody>\n",
       "    <tr>\n",
       "      <th>count</th>\n",
       "      <td>200.000000</td>\n",
       "      <td>200.000000</td>\n",
       "    </tr>\n",
       "    <tr>\n",
       "      <th>mean</th>\n",
       "      <td>99.500000</td>\n",
       "      <td>1337.407959</td>\n",
       "    </tr>\n",
       "    <tr>\n",
       "      <th>std</th>\n",
       "      <td>57.879185</td>\n",
       "      <td>1246.567160</td>\n",
       "    </tr>\n",
       "    <tr>\n",
       "      <th>min</th>\n",
       "      <td>0.000000</td>\n",
       "      <td>154.471731</td>\n",
       "    </tr>\n",
       "    <tr>\n",
       "      <th>25%</th>\n",
       "      <td>49.750000</td>\n",
       "      <td>301.830407</td>\n",
       "    </tr>\n",
       "    <tr>\n",
       "      <th>50%</th>\n",
       "      <td>99.500000</td>\n",
       "      <td>1233.453911</td>\n",
       "    </tr>\n",
       "    <tr>\n",
       "      <th>75%</th>\n",
       "      <td>149.250000</td>\n",
       "      <td>1417.599856</td>\n",
       "    </tr>\n",
       "    <tr>\n",
       "      <th>max</th>\n",
       "      <td>199.000000</td>\n",
       "      <td>4306.685183</td>\n",
       "    </tr>\n",
       "  </tbody>\n",
       "</table>\n",
       "</div>"
      ],
      "text/plain": [
       "          case_id   cycle_time\n",
       "count  200.000000   200.000000\n",
       "mean    99.500000  1337.407959\n",
       "std     57.879185  1246.567160\n",
       "min      0.000000   154.471731\n",
       "25%     49.750000   301.830407\n",
       "50%     99.500000  1233.453911\n",
       "75%    149.250000  1417.599856\n",
       "max    199.000000  4306.685183"
      ]
     },
     "execution_count": 104,
     "metadata": {},
     "output_type": "execute_result"
    }
   ],
   "source": [
    "simulated_logs_cycle_times.describe()"
   ]
  },
  {
   "cell_type": "markdown",
   "metadata": {},
   "source": [
    "We see that comparing the original simulator logs and the raw logs the distribution of the cycle time is the similar (slightly shofted to the right) but the actual mean and median is too skewed. This makes sense if we consider that the original agents can conduct actions concurently while the simulated ones only one at a time"
   ]
  },
  {
   "cell_type": "code",
   "execution_count": 108,
   "metadata": {},
   "outputs": [
    {
     "data": {
      "text/html": [
       "<div>\n",
       "<style scoped>\n",
       "    .dataframe tbody tr th:only-of-type {\n",
       "        vertical-align: middle;\n",
       "    }\n",
       "\n",
       "    .dataframe tbody tr th {\n",
       "        vertical-align: top;\n",
       "    }\n",
       "\n",
       "    .dataframe thead th {\n",
       "        text-align: right;\n",
       "    }\n",
       "</style>\n",
       "<table border=\"1\" class=\"dataframe\">\n",
       "  <thead>\n",
       "    <tr style=\"text-align: right;\">\n",
       "      <th></th>\n",
       "      <th>case_id</th>\n",
       "      <th>agent</th>\n",
       "      <th>activity_name</th>\n",
       "      <th>start_timestamp</th>\n",
       "      <th>end_timestamp</th>\n",
       "      <th>TimeStep</th>\n",
       "      <th>resource</th>\n",
       "      <th>simulation_run</th>\n",
       "    </tr>\n",
       "  </thead>\n",
       "  <tbody>\n",
       "    <tr>\n",
       "      <th>2</th>\n",
       "      <td>1</td>\n",
       "      <td>1</td>\n",
       "      <td>Check application form completeness</td>\n",
       "      <td>2023-04-20 08:30:00+00:00</td>\n",
       "      <td>2023-04-20 09:47:59.629677030+00:00</td>\n",
       "      <td>2</td>\n",
       "      <td>Clerk-000002</td>\n",
       "      <td>8</td>\n",
       "    </tr>\n",
       "    <tr>\n",
       "      <th>5</th>\n",
       "      <td>1</td>\n",
       "      <td>6</td>\n",
       "      <td>Appraise property</td>\n",
       "      <td>2023-04-20 09:47:59.629677030+00:00</td>\n",
       "      <td>2023-04-20 09:57:21.627302392+00:00</td>\n",
       "      <td>5</td>\n",
       "      <td>Appraiser-000002</td>\n",
       "      <td>8</td>\n",
       "    </tr>\n",
       "    <tr>\n",
       "      <th>9</th>\n",
       "      <td>1</td>\n",
       "      <td>9</td>\n",
       "      <td>Check credit history</td>\n",
       "      <td>2023-04-20 09:57:21.627302392+00:00</td>\n",
       "      <td>2023-04-20 11:37:52.675070524+00:00</td>\n",
       "      <td>9</td>\n",
       "      <td>Clerk-000006</td>\n",
       "      <td>8</td>\n",
       "    </tr>\n",
       "    <tr>\n",
       "      <th>15</th>\n",
       "      <td>1</td>\n",
       "      <td>2</td>\n",
       "      <td>AML check</td>\n",
       "      <td>2023-04-20 11:37:52.675070524+00:00</td>\n",
       "      <td>2023-04-20 12:16:35.896546521+00:00</td>\n",
       "      <td>15</td>\n",
       "      <td>AML Investigator-000001</td>\n",
       "      <td>8</td>\n",
       "    </tr>\n",
       "    <tr>\n",
       "      <th>21</th>\n",
       "      <td>1</td>\n",
       "      <td>16</td>\n",
       "      <td>Assess loan risk</td>\n",
       "      <td>2023-04-20 12:16:35.896546521+00:00</td>\n",
       "      <td>2023-04-20 12:36:35.896546521+00:00</td>\n",
       "      <td>21</td>\n",
       "      <td>Loan Officer-000004</td>\n",
       "      <td>8</td>\n",
       "    </tr>\n",
       "    <tr>\n",
       "      <th>...</th>\n",
       "      <td>...</td>\n",
       "      <td>...</td>\n",
       "      <td>...</td>\n",
       "      <td>...</td>\n",
       "      <td>...</td>\n",
       "      <td>...</td>\n",
       "      <td>...</td>\n",
       "      <td>...</td>\n",
       "    </tr>\n",
       "    <tr>\n",
       "      <th>13538</th>\n",
       "      <td>1</td>\n",
       "      <td>10</td>\n",
       "      <td>Check credit history</td>\n",
       "      <td>2023-04-20 08:42:04.261173922+00:00</td>\n",
       "      <td>2023-04-20 09:53:14.364257103+00:00</td>\n",
       "      <td>3</td>\n",
       "      <td>Clerk-000007</td>\n",
       "      <td>0</td>\n",
       "    </tr>\n",
       "    <tr>\n",
       "      <th>13543</th>\n",
       "      <td>1</td>\n",
       "      <td>2</td>\n",
       "      <td>AML check</td>\n",
       "      <td>2023-04-20 09:53:14.364257103+00:00</td>\n",
       "      <td>2023-04-20 10:28:08.647016887+00:00</td>\n",
       "      <td>8</td>\n",
       "      <td>AML Investigator-000001</td>\n",
       "      <td>0</td>\n",
       "    </tr>\n",
       "    <tr>\n",
       "      <th>13546</th>\n",
       "      <td>1</td>\n",
       "      <td>6</td>\n",
       "      <td>Appraise property</td>\n",
       "      <td>2023-04-20 10:28:08.647016887+00:00</td>\n",
       "      <td>2023-04-20 10:34:26.605728399+00:00</td>\n",
       "      <td>11</td>\n",
       "      <td>Appraiser-000002</td>\n",
       "      <td>0</td>\n",
       "    </tr>\n",
       "    <tr>\n",
       "      <th>13551</th>\n",
       "      <td>1</td>\n",
       "      <td>13</td>\n",
       "      <td>Assess loan risk</td>\n",
       "      <td>2023-04-20 10:34:26.605728399+00:00</td>\n",
       "      <td>2023-04-20 10:54:26.605728399+00:00</td>\n",
       "      <td>16</td>\n",
       "      <td>Loan Officer-000002</td>\n",
       "      <td>0</td>\n",
       "    </tr>\n",
       "    <tr>\n",
       "      <th>13555</th>\n",
       "      <td>1</td>\n",
       "      <td>5</td>\n",
       "      <td>Reject application</td>\n",
       "      <td>2023-04-20 10:54:26.605728399+00:00</td>\n",
       "      <td>2023-04-20 11:04:26.605728399+00:00</td>\n",
       "      <td>22</td>\n",
       "      <td>Clerk-000004</td>\n",
       "      <td>0</td>\n",
       "    </tr>\n",
       "  </tbody>\n",
       "</table>\n",
       "<p>68 rows × 8 columns</p>\n",
       "</div>"
      ],
      "text/plain": [
       "       case_id  agent                        activity_name  \\\n",
       "2            1      1  Check application form completeness   \n",
       "5            1      6                    Appraise property   \n",
       "9            1      9                 Check credit history   \n",
       "15           1      2                            AML check   \n",
       "21           1     16                     Assess loan risk   \n",
       "...        ...    ...                                  ...   \n",
       "13538        1     10                 Check credit history   \n",
       "13543        1      2                            AML check   \n",
       "13546        1      6                    Appraise property   \n",
       "13551        1     13                     Assess loan risk   \n",
       "13555        1      5                   Reject application   \n",
       "\n",
       "                           start_timestamp  \\\n",
       "2                2023-04-20 08:30:00+00:00   \n",
       "5      2023-04-20 09:47:59.629677030+00:00   \n",
       "9      2023-04-20 09:57:21.627302392+00:00   \n",
       "15     2023-04-20 11:37:52.675070524+00:00   \n",
       "21     2023-04-20 12:16:35.896546521+00:00   \n",
       "...                                    ...   \n",
       "13538  2023-04-20 08:42:04.261173922+00:00   \n",
       "13543  2023-04-20 09:53:14.364257103+00:00   \n",
       "13546  2023-04-20 10:28:08.647016887+00:00   \n",
       "13551  2023-04-20 10:34:26.605728399+00:00   \n",
       "13555  2023-04-20 10:54:26.605728399+00:00   \n",
       "\n",
       "                             end_timestamp  TimeStep                 resource  \\\n",
       "2      2023-04-20 09:47:59.629677030+00:00         2             Clerk-000002   \n",
       "5      2023-04-20 09:57:21.627302392+00:00         5         Appraiser-000002   \n",
       "9      2023-04-20 11:37:52.675070524+00:00         9             Clerk-000006   \n",
       "15     2023-04-20 12:16:35.896546521+00:00        15  AML Investigator-000001   \n",
       "21     2023-04-20 12:36:35.896546521+00:00        21      Loan Officer-000004   \n",
       "...                                    ...       ...                      ...   \n",
       "13538  2023-04-20 09:53:14.364257103+00:00         3             Clerk-000007   \n",
       "13543  2023-04-20 10:28:08.647016887+00:00         8  AML Investigator-000001   \n",
       "13546  2023-04-20 10:34:26.605728399+00:00        11         Appraiser-000002   \n",
       "13551  2023-04-20 10:54:26.605728399+00:00        16      Loan Officer-000002   \n",
       "13555  2023-04-20 11:04:26.605728399+00:00        22             Clerk-000004   \n",
       "\n",
       "       simulation_run  \n",
       "2                   8  \n",
       "5                   8  \n",
       "9                   8  \n",
       "15                  8  \n",
       "21                  8  \n",
       "...               ...  \n",
       "13538               0  \n",
       "13543               0  \n",
       "13546               0  \n",
       "13551               0  \n",
       "13555               0  \n",
       "\n",
       "[68 rows x 8 columns]"
      ]
     },
     "execution_count": 108,
     "metadata": {},
     "output_type": "execute_result"
    }
   ],
   "source": [
    "simulated_logs_df[simulated_logs_df['case_id']==1]"
   ]
  },
  {
   "cell_type": "markdown",
   "metadata": {},
   "source": [
    "We also notice that the number of activities in a case is way larger in the simulated log"
   ]
  },
  {
   "cell_type": "code",
   "execution_count": 119,
   "metadata": {},
   "outputs": [
    {
     "data": {
      "application/vnd.plotly.v1+json": {
       "config": {
        "plotlyServerURL": "https://plot.ly"
       },
       "data": [
        {
         "bingroup": "x",
         "hovertemplate": "Type=Raw<br>Unique Activities in Case=%{x}<br>count=%{y}<extra></extra>",
         "legendgroup": "Raw",
         "marker": {
          "color": "#636efa",
          "opacity": 0.5,
          "pattern": {
           "shape": ""
          }
         },
         "name": "Raw",
         "nbinsx": 20,
         "orientation": "v",
         "showlegend": true,
         "type": "histogram",
         "x": {
          "bdata": "BggICAgGCAgICAoICAYGCAYICAgICAYGBgYIBgYGBgYIBggICAYICAYGCAgICAgICAgGBggKBggICAoICAYGBggICAgGBggGBggGCAoICAgKBggGCAgGBggICAYIBgoGCAgICAgICAgGBggGCAgIBgYGCAgGBgYGBggGBggICAgGCgYIBggGCAgGBggGBggICAgGCAYIBgoIBggIBggGBggGCAYGCAgKCggICAgIBgYICAgICAYGCAYIBgYICAgICAYIBgYICAo=",
          "dtype": "i1"
         },
         "xaxis": "x",
         "yaxis": "y"
        },
        {
         "bingroup": "x",
         "hovertemplate": "Type=Simulated<br>Unique Activities in Case=%{x}<br>count=%{y}<extra></extra>",
         "legendgroup": "Simulated",
         "marker": {
          "color": "#EF553B",
          "opacity": 0.5,
          "pattern": {
           "shape": ""
          }
         },
         "name": "Simulated",
         "nbinsx": 20,
         "orientation": "v",
         "showlegend": true,
         "type": "histogram",
         "x": {
          "bdata": "DAoJDAoMCgoKCQwMDAwMCgkKDAoMDAwMDAsKCwoMDAwMCgwMDAwLDAwMDAwMDAkMDAkMDAwJDAwKCgwMDAwMCgwKCwwJDAsMDAoMDAoMDAwMDAoKDAwMDAwMDAsMCwoMCgwKDAoMDAoJCgoMCwwJCgwMDAwMCgoKCwoKCgwMDAoMCgwMDAkKCgkKDAoLDAwKCQoMDAwMDAwMDAwMDAwJDAoMDAsMDAwMDAwMDAwKDAwKDAoMDAoKDAoKDAoKCwwJCgwMDAwMCgo=",
          "dtype": "i1"
         },
         "xaxis": "x",
         "yaxis": "y"
        }
       ],
       "layout": {
        "bargap": 0.2,
        "barmode": "overlay",
        "legend": {
         "title": {
          "text": "Log Type"
         },
         "tracegroupgap": 0
        },
        "template": {
         "data": {
          "bar": [
           {
            "error_x": {
             "color": "#2a3f5f"
            },
            "error_y": {
             "color": "#2a3f5f"
            },
            "marker": {
             "line": {
              "color": "white",
              "width": 0.5
             },
             "pattern": {
              "fillmode": "overlay",
              "size": 10,
              "solidity": 0.2
             }
            },
            "type": "bar"
           }
          ],
          "barpolar": [
           {
            "marker": {
             "line": {
              "color": "white",
              "width": 0.5
             },
             "pattern": {
              "fillmode": "overlay",
              "size": 10,
              "solidity": 0.2
             }
            },
            "type": "barpolar"
           }
          ],
          "carpet": [
           {
            "aaxis": {
             "endlinecolor": "#2a3f5f",
             "gridcolor": "#C8D4E3",
             "linecolor": "#C8D4E3",
             "minorgridcolor": "#C8D4E3",
             "startlinecolor": "#2a3f5f"
            },
            "baxis": {
             "endlinecolor": "#2a3f5f",
             "gridcolor": "#C8D4E3",
             "linecolor": "#C8D4E3",
             "minorgridcolor": "#C8D4E3",
             "startlinecolor": "#2a3f5f"
            },
            "type": "carpet"
           }
          ],
          "choropleth": [
           {
            "colorbar": {
             "outlinewidth": 0,
             "ticks": ""
            },
            "type": "choropleth"
           }
          ],
          "contour": [
           {
            "colorbar": {
             "outlinewidth": 0,
             "ticks": ""
            },
            "colorscale": [
             [
              0,
              "#0d0887"
             ],
             [
              0.1111111111111111,
              "#46039f"
             ],
             [
              0.2222222222222222,
              "#7201a8"
             ],
             [
              0.3333333333333333,
              "#9c179e"
             ],
             [
              0.4444444444444444,
              "#bd3786"
             ],
             [
              0.5555555555555556,
              "#d8576b"
             ],
             [
              0.6666666666666666,
              "#ed7953"
             ],
             [
              0.7777777777777778,
              "#fb9f3a"
             ],
             [
              0.8888888888888888,
              "#fdca26"
             ],
             [
              1,
              "#f0f921"
             ]
            ],
            "type": "contour"
           }
          ],
          "contourcarpet": [
           {
            "colorbar": {
             "outlinewidth": 0,
             "ticks": ""
            },
            "type": "contourcarpet"
           }
          ],
          "heatmap": [
           {
            "colorbar": {
             "outlinewidth": 0,
             "ticks": ""
            },
            "colorscale": [
             [
              0,
              "#0d0887"
             ],
             [
              0.1111111111111111,
              "#46039f"
             ],
             [
              0.2222222222222222,
              "#7201a8"
             ],
             [
              0.3333333333333333,
              "#9c179e"
             ],
             [
              0.4444444444444444,
              "#bd3786"
             ],
             [
              0.5555555555555556,
              "#d8576b"
             ],
             [
              0.6666666666666666,
              "#ed7953"
             ],
             [
              0.7777777777777778,
              "#fb9f3a"
             ],
             [
              0.8888888888888888,
              "#fdca26"
             ],
             [
              1,
              "#f0f921"
             ]
            ],
            "type": "heatmap"
           }
          ],
          "histogram": [
           {
            "marker": {
             "pattern": {
              "fillmode": "overlay",
              "size": 10,
              "solidity": 0.2
             }
            },
            "type": "histogram"
           }
          ],
          "histogram2d": [
           {
            "colorbar": {
             "outlinewidth": 0,
             "ticks": ""
            },
            "colorscale": [
             [
              0,
              "#0d0887"
             ],
             [
              0.1111111111111111,
              "#46039f"
             ],
             [
              0.2222222222222222,
              "#7201a8"
             ],
             [
              0.3333333333333333,
              "#9c179e"
             ],
             [
              0.4444444444444444,
              "#bd3786"
             ],
             [
              0.5555555555555556,
              "#d8576b"
             ],
             [
              0.6666666666666666,
              "#ed7953"
             ],
             [
              0.7777777777777778,
              "#fb9f3a"
             ],
             [
              0.8888888888888888,
              "#fdca26"
             ],
             [
              1,
              "#f0f921"
             ]
            ],
            "type": "histogram2d"
           }
          ],
          "histogram2dcontour": [
           {
            "colorbar": {
             "outlinewidth": 0,
             "ticks": ""
            },
            "colorscale": [
             [
              0,
              "#0d0887"
             ],
             [
              0.1111111111111111,
              "#46039f"
             ],
             [
              0.2222222222222222,
              "#7201a8"
             ],
             [
              0.3333333333333333,
              "#9c179e"
             ],
             [
              0.4444444444444444,
              "#bd3786"
             ],
             [
              0.5555555555555556,
              "#d8576b"
             ],
             [
              0.6666666666666666,
              "#ed7953"
             ],
             [
              0.7777777777777778,
              "#fb9f3a"
             ],
             [
              0.8888888888888888,
              "#fdca26"
             ],
             [
              1,
              "#f0f921"
             ]
            ],
            "type": "histogram2dcontour"
           }
          ],
          "mesh3d": [
           {
            "colorbar": {
             "outlinewidth": 0,
             "ticks": ""
            },
            "type": "mesh3d"
           }
          ],
          "parcoords": [
           {
            "line": {
             "colorbar": {
              "outlinewidth": 0,
              "ticks": ""
             }
            },
            "type": "parcoords"
           }
          ],
          "pie": [
           {
            "automargin": true,
            "type": "pie"
           }
          ],
          "scatter": [
           {
            "fillpattern": {
             "fillmode": "overlay",
             "size": 10,
             "solidity": 0.2
            },
            "type": "scatter"
           }
          ],
          "scatter3d": [
           {
            "line": {
             "colorbar": {
              "outlinewidth": 0,
              "ticks": ""
             }
            },
            "marker": {
             "colorbar": {
              "outlinewidth": 0,
              "ticks": ""
             }
            },
            "type": "scatter3d"
           }
          ],
          "scattercarpet": [
           {
            "marker": {
             "colorbar": {
              "outlinewidth": 0,
              "ticks": ""
             }
            },
            "type": "scattercarpet"
           }
          ],
          "scattergeo": [
           {
            "marker": {
             "colorbar": {
              "outlinewidth": 0,
              "ticks": ""
             }
            },
            "type": "scattergeo"
           }
          ],
          "scattergl": [
           {
            "marker": {
             "colorbar": {
              "outlinewidth": 0,
              "ticks": ""
             }
            },
            "type": "scattergl"
           }
          ],
          "scattermap": [
           {
            "marker": {
             "colorbar": {
              "outlinewidth": 0,
              "ticks": ""
             }
            },
            "type": "scattermap"
           }
          ],
          "scattermapbox": [
           {
            "marker": {
             "colorbar": {
              "outlinewidth": 0,
              "ticks": ""
             }
            },
            "type": "scattermapbox"
           }
          ],
          "scatterpolar": [
           {
            "marker": {
             "colorbar": {
              "outlinewidth": 0,
              "ticks": ""
             }
            },
            "type": "scatterpolar"
           }
          ],
          "scatterpolargl": [
           {
            "marker": {
             "colorbar": {
              "outlinewidth": 0,
              "ticks": ""
             }
            },
            "type": "scatterpolargl"
           }
          ],
          "scatterternary": [
           {
            "marker": {
             "colorbar": {
              "outlinewidth": 0,
              "ticks": ""
             }
            },
            "type": "scatterternary"
           }
          ],
          "surface": [
           {
            "colorbar": {
             "outlinewidth": 0,
             "ticks": ""
            },
            "colorscale": [
             [
              0,
              "#0d0887"
             ],
             [
              0.1111111111111111,
              "#46039f"
             ],
             [
              0.2222222222222222,
              "#7201a8"
             ],
             [
              0.3333333333333333,
              "#9c179e"
             ],
             [
              0.4444444444444444,
              "#bd3786"
             ],
             [
              0.5555555555555556,
              "#d8576b"
             ],
             [
              0.6666666666666666,
              "#ed7953"
             ],
             [
              0.7777777777777778,
              "#fb9f3a"
             ],
             [
              0.8888888888888888,
              "#fdca26"
             ],
             [
              1,
              "#f0f921"
             ]
            ],
            "type": "surface"
           }
          ],
          "table": [
           {
            "cells": {
             "fill": {
              "color": "#EBF0F8"
             },
             "line": {
              "color": "white"
             }
            },
            "header": {
             "fill": {
              "color": "#C8D4E3"
             },
             "line": {
              "color": "white"
             }
            },
            "type": "table"
           }
          ]
         },
         "layout": {
          "annotationdefaults": {
           "arrowcolor": "#2a3f5f",
           "arrowhead": 0,
           "arrowwidth": 1
          },
          "autotypenumbers": "strict",
          "coloraxis": {
           "colorbar": {
            "outlinewidth": 0,
            "ticks": ""
           }
          },
          "colorscale": {
           "diverging": [
            [
             0,
             "#8e0152"
            ],
            [
             0.1,
             "#c51b7d"
            ],
            [
             0.2,
             "#de77ae"
            ],
            [
             0.3,
             "#f1b6da"
            ],
            [
             0.4,
             "#fde0ef"
            ],
            [
             0.5,
             "#f7f7f7"
            ],
            [
             0.6,
             "#e6f5d0"
            ],
            [
             0.7,
             "#b8e186"
            ],
            [
             0.8,
             "#7fbc41"
            ],
            [
             0.9,
             "#4d9221"
            ],
            [
             1,
             "#276419"
            ]
           ],
           "sequential": [
            [
             0,
             "#0d0887"
            ],
            [
             0.1111111111111111,
             "#46039f"
            ],
            [
             0.2222222222222222,
             "#7201a8"
            ],
            [
             0.3333333333333333,
             "#9c179e"
            ],
            [
             0.4444444444444444,
             "#bd3786"
            ],
            [
             0.5555555555555556,
             "#d8576b"
            ],
            [
             0.6666666666666666,
             "#ed7953"
            ],
            [
             0.7777777777777778,
             "#fb9f3a"
            ],
            [
             0.8888888888888888,
             "#fdca26"
            ],
            [
             1,
             "#f0f921"
            ]
           ],
           "sequentialminus": [
            [
             0,
             "#0d0887"
            ],
            [
             0.1111111111111111,
             "#46039f"
            ],
            [
             0.2222222222222222,
             "#7201a8"
            ],
            [
             0.3333333333333333,
             "#9c179e"
            ],
            [
             0.4444444444444444,
             "#bd3786"
            ],
            [
             0.5555555555555556,
             "#d8576b"
            ],
            [
             0.6666666666666666,
             "#ed7953"
            ],
            [
             0.7777777777777778,
             "#fb9f3a"
            ],
            [
             0.8888888888888888,
             "#fdca26"
            ],
            [
             1,
             "#f0f921"
            ]
           ]
          },
          "colorway": [
           "#636efa",
           "#EF553B",
           "#00cc96",
           "#ab63fa",
           "#FFA15A",
           "#19d3f3",
           "#FF6692",
           "#B6E880",
           "#FF97FF",
           "#FECB52"
          ],
          "font": {
           "color": "#2a3f5f"
          },
          "geo": {
           "bgcolor": "white",
           "lakecolor": "white",
           "landcolor": "white",
           "showlakes": true,
           "showland": true,
           "subunitcolor": "#C8D4E3"
          },
          "hoverlabel": {
           "align": "left"
          },
          "hovermode": "closest",
          "mapbox": {
           "style": "light"
          },
          "paper_bgcolor": "white",
          "plot_bgcolor": "white",
          "polar": {
           "angularaxis": {
            "gridcolor": "#EBF0F8",
            "linecolor": "#EBF0F8",
            "ticks": ""
           },
           "bgcolor": "white",
           "radialaxis": {
            "gridcolor": "#EBF0F8",
            "linecolor": "#EBF0F8",
            "ticks": ""
           }
          },
          "scene": {
           "xaxis": {
            "backgroundcolor": "white",
            "gridcolor": "#DFE8F3",
            "gridwidth": 2,
            "linecolor": "#EBF0F8",
            "showbackground": true,
            "ticks": "",
            "zerolinecolor": "#EBF0F8"
           },
           "yaxis": {
            "backgroundcolor": "white",
            "gridcolor": "#DFE8F3",
            "gridwidth": 2,
            "linecolor": "#EBF0F8",
            "showbackground": true,
            "ticks": "",
            "zerolinecolor": "#EBF0F8"
           },
           "zaxis": {
            "backgroundcolor": "white",
            "gridcolor": "#DFE8F3",
            "gridwidth": 2,
            "linecolor": "#EBF0F8",
            "showbackground": true,
            "ticks": "",
            "zerolinecolor": "#EBF0F8"
           }
          },
          "shapedefaults": {
           "line": {
            "color": "#2a3f5f"
           }
          },
          "ternary": {
           "aaxis": {
            "gridcolor": "#DFE8F3",
            "linecolor": "#A2B1C6",
            "ticks": ""
           },
           "baxis": {
            "gridcolor": "#DFE8F3",
            "linecolor": "#A2B1C6",
            "ticks": ""
           },
           "bgcolor": "white",
           "caxis": {
            "gridcolor": "#DFE8F3",
            "linecolor": "#A2B1C6",
            "ticks": ""
           }
          },
          "title": {
           "x": 0.05
          },
          "xaxis": {
           "automargin": true,
           "gridcolor": "#EBF0F8",
           "linecolor": "#EBF0F8",
           "ticks": "",
           "title": {
            "standoff": 15
           },
           "zerolinecolor": "#EBF0F8",
           "zerolinewidth": 2
          },
          "yaxis": {
           "automargin": true,
           "gridcolor": "#EBF0F8",
           "linecolor": "#EBF0F8",
           "ticks": "",
           "title": {
            "standoff": 15
           },
           "zerolinecolor": "#EBF0F8",
           "zerolinewidth": 2
          }
         }
        },
        "title": {
         "text": "Distribution of Number of Unique Activities per Case"
        },
        "xaxis": {
         "anchor": "y",
         "domain": [
          0,
          1
         ],
         "title": {
          "text": "Unique Activities in Case"
         }
        },
        "yaxis": {
         "anchor": "x",
         "domain": [
          0,
          1
         ],
         "title": {
          "text": "count"
         }
        }
       }
      }
     },
     "metadata": {},
     "output_type": "display_data"
    }
   ],
   "source": [
    "def activities_per_case_distribution(df, label):\n",
    "    return (\n",
    "        df.groupby(\"case_id\")[\"activity\"]\n",
    "        .nunique()\n",
    "        .reset_index(name=\"num_activities\")\n",
    "        .assign(Type=label)\n",
    "    )\n",
    "\n",
    "# Compute distribution\n",
    "df_raw_acts = activities_per_case_distribution(raw_df_test, \"Raw\")\n",
    "df_sim_acts = activities_per_case_distribution(simulated_logs_df, \"Simulated\")\n",
    "\n",
    "# Combine\n",
    "df_acts = pd.concat([df_raw_acts, df_sim_acts], ignore_index=True)\n",
    "\n",
    "# Plot\n",
    "fig = px.histogram(\n",
    "    df_acts,\n",
    "    x=\"num_activities\",\n",
    "    color=\"Type\",\n",
    "    barmode=\"overlay\",  # use \"group\" for side-by-side\n",
    "    nbins=20,\n",
    "    title=\"Distribution of Number of Unique Activities per Case\",\n",
    "    labels={\"num_activities\": \"Unique Activities in Case\", \"count\": \"Number of Cases\"}\n",
    ")\n",
    "\n",
    "fig.update_layout(\n",
    "    bargap=0.2,\n",
    "    template=\"plotly_white\",\n",
    "    legend_title=\"Log Type\"\n",
    ")\n",
    "\n",
    "fig.show()\n"
   ]
  },
  {
   "cell_type": "markdown",
   "metadata": {},
   "source": [
    "This raises questions about the correctless of the outputed traces. I'm using a function I made for my optimizer to check. It is checking for correct endings, pre and post conditions"
   ]
  },
  {
   "cell_type": "code",
   "execution_count": 124,
   "metadata": {},
   "outputs": [],
   "source": [
    "def validate_simulated_log(df, prerequisites, post_conditions, valid_end_activities, case_col='case_id', activity_col='activity', order_by='start_timestamp'):\n",
    "    issues = []\n",
    "\n",
    "    for case_id, group in df.groupby(case_col):\n",
    "        sorted_activities = group.sort_values(by=order_by)[activity_col].tolist()\n",
    "\n",
    "        if not sorted_activities:\n",
    "            issues.append((case_id, \"Empty trace\"))\n",
    "            continue\n",
    "\n",
    "        # Remove zzz_end for logic checks\n",
    "        activities_no_end = [a for a in sorted_activities if a != \"zzz_end\"]\n",
    "\n",
    "        # 🚨 1. Prerequisites check\n",
    "        performed = set()\n",
    "        for act in activities_no_end:\n",
    "            required = prerequisites.get(act, [])\n",
    "            if not all(pre in performed for pre in required):\n",
    "                missing = [pre for pre in required if pre not in performed]\n",
    "                issues.append((case_id, f\"Activity '{act}' missing prerequisites {missing}\"))\n",
    "            performed.add(act)\n",
    "\n",
    "        # 🚨 2. Post-conditions check\n",
    "        for i, act in enumerate(activities_no_end):\n",
    "            required_posts = post_conditions.get(act, [])\n",
    "            future_acts = set(activities_no_end[i+1:])  # only activities after current one\n",
    "            for post in required_posts:\n",
    "                if post not in future_acts:\n",
    "                    issues.append((case_id, f\"Activity '{act}' missing required post-condition '{post}'\"))\n",
    "\n",
    "        # 🚨 3. End correctness check\n",
    "        if activities_no_end:\n",
    "            last_real_activity = activities_no_end[-1]\n",
    "            if last_real_activity not in valid_end_activities:\n",
    "                issues.append((case_id, f\"Case ends incorrectly on '{last_real_activity}'\"))\n",
    "\n",
    "    return issues\n",
    "\n",
    "# discovered from my mining\n",
    "prereqs = {\n",
    "    'Check application form completeness': [],\n",
    "    'Check credit history': ['Check application form completeness'],\n",
    "    'AML check': ['Check application form completeness'],\n",
    "    'Appraise property': ['Check application form completeness'],\n",
    "    'Assess loan risk': ['Appraise property',\n",
    "    'AML check',\n",
    "    'Check credit history'],\n",
    "    'Design loan offer': ['Assess loan risk'],\n",
    "    'Approve loan offer': ['Design loan offer'],\n",
    "    'Cancel application': ['Approve loan offer'],\n",
    "    'Approve application': ['Approve loan offer'],\n",
    "    'Reject application': ['Assess loan risk'],\n",
    "    'Return application back to applicant': ['Check application form completeness'],\n",
    "    'Applicant completes form': ['Return application back to applicant']\n",
    "    }\n",
    "\n",
    "post_conditions = {\n",
    "    'Check application form completeness': ['Appraise property',\n",
    "    'AML check',\n",
    "    'Check credit history'],\n",
    "    'Check credit history': ['Assess loan risk'],\n",
    "    'AML check': ['Assess loan risk'],\n",
    "    'Appraise property': ['Assess loan risk'],\n",
    "    'Design loan offer': ['Approve loan offer'],\n",
    "    'Return application back to applicant': ['Applicant completes form'],\n",
    "    'Applicant completes form': ['Check application form completeness']\n",
    "    }\n",
    "\n",
    "valid_ends = {'Approve application', 'Cancel application', 'Reject application'}\n"
   ]
  },
  {
   "cell_type": "code",
   "execution_count": 125,
   "metadata": {},
   "outputs": [
    {
     "name": "stdout",
     "output_type": "stream",
     "text": [
      "❌ Found 9 problems:\n",
      "Case 5: Activity 'Check application form completeness' missing required post-condition 'Appraise property'\n",
      "Case 5: Activity 'Check application form completeness' missing required post-condition 'AML check'\n",
      "Case 5: Activity 'Check application form completeness' missing required post-condition 'Appraise property'\n",
      "Case 5: Activity 'Check application form completeness' missing required post-condition 'AML check'\n",
      "Case 5: Activity 'Applicant completes form' missing required post-condition 'Check application form completeness'\n",
      "Case 152: Activity 'Check application form completeness' missing required post-condition 'Appraise property'\n",
      "Case 152: Activity 'Check application form completeness' missing required post-condition 'Appraise property'\n",
      "Case 152: Activity 'Check application form completeness' missing required post-condition 'Appraise property'\n",
      "Case 152: Activity 'Applicant completes form' missing required post-condition 'Check application form completeness'\n"
     ]
    }
   ],
   "source": [
    "issues = validate_simulated_log(simulated_logs_df, prereqs, post_conditions, valid_ends)\n",
    "if not issues:\n",
    "    print(\"✅ All simulated cases passed validation!\")\n",
    "else:\n",
    "    print(f\"❌ Found {len(issues)} problems:\")\n",
    "    for case_id, problem in issues:\n",
    "        print(f\"Case {case_id}: {problem}\")\n"
   ]
  },
  {
   "cell_type": "markdown",
   "metadata": {},
   "source": [
    "We see that some post conditions are not respected. Other than that the system is correct. Of course only for this dataset. Other more complex datasets with complex post conditions will not be able to be handled properly by the system"
   ]
  },
  {
   "cell_type": "code",
   "execution_count": 136,
   "metadata": {},
   "outputs": [],
   "source": [
    "def plot_avg_duration_per_activity(df_raw, df_simulated, time_unit=\"seconds\"):\n",
    "    \"\"\"\n",
    "    Compare average duration per activity between raw and simulated logs.\n",
    "\n",
    "    Parameters:\n",
    "    - df_raw: DataFrame with 'activity', 'start_timestamp', 'end_timestamp' columns\n",
    "    - df_simulated: Same as df_raw, simulated log\n",
    "    - time_unit: 'seconds', 'minutes', or 'hours' for duration units\n",
    "\n",
    "    Returns:\n",
    "    - Plotly figure\n",
    "    \"\"\"\n",
    "    unit_divisor = {\n",
    "        \"seconds\": 1,\n",
    "        \"minutes\": 60,\n",
    "        \"hours\": 3600\n",
    "    }.get(time_unit, 1)\n",
    "\n",
    "    def compute_avg(df, label):\n",
    "        df = df.copy()\n",
    "        # Auto-detect correct column names\n",
    "        start_col = \"start\" if \"start\" in df.columns else \"start_timestamp\"\n",
    "        end_col = \"end\" if \"end\" in df.columns else \"end_timestamp\"\n",
    "\n",
    "        df[start_col] = pd.to_datetime(df[start_col], format=\"mixed\")\n",
    "        df[end_col] = pd.to_datetime(df[end_col], format=\"mixed\")\n",
    "        \n",
    "        return (\n",
    "            df[df[\"activity\"] != \"zzz_end\"]\n",
    "            .assign(duration=(df[\"end_timestamp\"] - df[\"start_timestamp\"]).dt.total_seconds() / unit_divisor)\n",
    "            .groupby(\"activity\")[\"duration\"]\n",
    "            .mean()\n",
    "            .reset_index()\n",
    "            .assign(Type=label)\n",
    "        )\n",
    "\n",
    "    avg_raw = compute_avg(df_raw, \"Raw\")\n",
    "    avg_sim = compute_avg(df_simulated, \"Simulated\")\n",
    "    df_avg = pd.concat([avg_raw, avg_sim], ignore_index=True)\n",
    "\n",
    "    fig = px.bar(\n",
    "        df_avg,\n",
    "        x=\"activity\",\n",
    "        y=\"duration\",\n",
    "        color=\"Type\",\n",
    "        barmode=\"group\",\n",
    "        title=f\"Average Activity Duration ({time_unit.title()}): Raw vs Simulated\",\n",
    "        labels={\"duration\": f\"Avg Duration ({time_unit})\", \"activity\": \"Activity\"}\n",
    "    )\n",
    "\n",
    "    fig.update_layout(xaxis_tickangle=-45)\n",
    "    fig.show()"
   ]
  },
  {
   "cell_type": "code",
   "execution_count": 137,
   "metadata": {},
   "outputs": [
    {
     "data": {
      "application/vnd.plotly.v1+json": {
       "config": {
        "plotlyServerURL": "https://plot.ly"
       },
       "data": [
        {
         "alignmentgroup": "True",
         "hovertemplate": "Type=Raw<br>Activity=%{x}<br>Avg Duration (minutes)=%{y}<extra></extra>",
         "legendgroup": "Raw",
         "marker": {
          "color": "#636efa",
          "pattern": {
           "shape": ""
          }
         },
         "name": "Raw",
         "offsetgroup": "Raw",
         "orientation": "v",
         "showlegend": true,
         "textposition": "auto",
         "type": "bar",
         "x": [
          "AML check",
          "Applicant completes form",
          "Appraise property",
          "Approve application",
          "Approve loan offer",
          "Assess loan risk",
          "Cancel application",
          "Check application form completeness",
          "Check credit history",
          "Design loan offer",
          "Reject application",
          "Return application back to applicant"
         ],
         "xaxis": "x",
         "y": {
          "bdata": "Di+ISE2+X0AAAAAAAIBjQLrOmcc0ul5AMzMzMzOzRUCGLGQhC1lCQGZmZmZm5mBAAAAAAAAAFEDMs0GpwtNjQGonXQ1jIl5AEfc14upRNEAeHh4eHp5QQAAAAAAAABRA",
          "dtype": "f8"
         },
         "yaxis": "y"
        },
        {
         "alignmentgroup": "True",
         "hovertemplate": "Type=Simulated<br>Activity=%{x}<br>Avg Duration (minutes)=%{y}<extra></extra>",
         "legendgroup": "Simulated",
         "marker": {
          "color": "#EF553B",
          "pattern": {
           "shape": ""
          }
         },
         "name": "Simulated",
         "offsetgroup": "Simulated",
         "orientation": "v",
         "showlegend": true,
         "textposition": "auto",
         "type": "bar",
         "x": [
          "AML check",
          "Applicant completes form",
          "Appraise property",
          "Approve application",
          "Approve loan offer",
          "Assess loan risk",
          "Cancel application",
          "Check application form completeness",
          "Check credit history",
          "Design loan offer",
          "Reject application",
          "Return application back to applicant"
         ],
         "xaxis": "x",
         "y": {
          "bdata": "oj7HUX1AOEAAAAAAAABOQNTwOAnSJDhAAAAAAAAAFEAAAAAAAAA0QAAAAAAAADRAAAAAAAAAFEBi222gHDMzQDTJg1uySDtAYriqx7YLI0AAAAAAAAAkQAAAAAAAABRA",
          "dtype": "f8"
         },
         "yaxis": "y"
        }
       ],
       "layout": {
        "barmode": "group",
        "legend": {
         "title": {
          "text": "Type"
         },
         "tracegroupgap": 0
        },
        "template": {
         "data": {
          "bar": [
           {
            "error_x": {
             "color": "#2a3f5f"
            },
            "error_y": {
             "color": "#2a3f5f"
            },
            "marker": {
             "line": {
              "color": "#E5ECF6",
              "width": 0.5
             },
             "pattern": {
              "fillmode": "overlay",
              "size": 10,
              "solidity": 0.2
             }
            },
            "type": "bar"
           }
          ],
          "barpolar": [
           {
            "marker": {
             "line": {
              "color": "#E5ECF6",
              "width": 0.5
             },
             "pattern": {
              "fillmode": "overlay",
              "size": 10,
              "solidity": 0.2
             }
            },
            "type": "barpolar"
           }
          ],
          "carpet": [
           {
            "aaxis": {
             "endlinecolor": "#2a3f5f",
             "gridcolor": "white",
             "linecolor": "white",
             "minorgridcolor": "white",
             "startlinecolor": "#2a3f5f"
            },
            "baxis": {
             "endlinecolor": "#2a3f5f",
             "gridcolor": "white",
             "linecolor": "white",
             "minorgridcolor": "white",
             "startlinecolor": "#2a3f5f"
            },
            "type": "carpet"
           }
          ],
          "choropleth": [
           {
            "colorbar": {
             "outlinewidth": 0,
             "ticks": ""
            },
            "type": "choropleth"
           }
          ],
          "contour": [
           {
            "colorbar": {
             "outlinewidth": 0,
             "ticks": ""
            },
            "colorscale": [
             [
              0,
              "#0d0887"
             ],
             [
              0.1111111111111111,
              "#46039f"
             ],
             [
              0.2222222222222222,
              "#7201a8"
             ],
             [
              0.3333333333333333,
              "#9c179e"
             ],
             [
              0.4444444444444444,
              "#bd3786"
             ],
             [
              0.5555555555555556,
              "#d8576b"
             ],
             [
              0.6666666666666666,
              "#ed7953"
             ],
             [
              0.7777777777777778,
              "#fb9f3a"
             ],
             [
              0.8888888888888888,
              "#fdca26"
             ],
             [
              1,
              "#f0f921"
             ]
            ],
            "type": "contour"
           }
          ],
          "contourcarpet": [
           {
            "colorbar": {
             "outlinewidth": 0,
             "ticks": ""
            },
            "type": "contourcarpet"
           }
          ],
          "heatmap": [
           {
            "colorbar": {
             "outlinewidth": 0,
             "ticks": ""
            },
            "colorscale": [
             [
              0,
              "#0d0887"
             ],
             [
              0.1111111111111111,
              "#46039f"
             ],
             [
              0.2222222222222222,
              "#7201a8"
             ],
             [
              0.3333333333333333,
              "#9c179e"
             ],
             [
              0.4444444444444444,
              "#bd3786"
             ],
             [
              0.5555555555555556,
              "#d8576b"
             ],
             [
              0.6666666666666666,
              "#ed7953"
             ],
             [
              0.7777777777777778,
              "#fb9f3a"
             ],
             [
              0.8888888888888888,
              "#fdca26"
             ],
             [
              1,
              "#f0f921"
             ]
            ],
            "type": "heatmap"
           }
          ],
          "histogram": [
           {
            "marker": {
             "pattern": {
              "fillmode": "overlay",
              "size": 10,
              "solidity": 0.2
             }
            },
            "type": "histogram"
           }
          ],
          "histogram2d": [
           {
            "colorbar": {
             "outlinewidth": 0,
             "ticks": ""
            },
            "colorscale": [
             [
              0,
              "#0d0887"
             ],
             [
              0.1111111111111111,
              "#46039f"
             ],
             [
              0.2222222222222222,
              "#7201a8"
             ],
             [
              0.3333333333333333,
              "#9c179e"
             ],
             [
              0.4444444444444444,
              "#bd3786"
             ],
             [
              0.5555555555555556,
              "#d8576b"
             ],
             [
              0.6666666666666666,
              "#ed7953"
             ],
             [
              0.7777777777777778,
              "#fb9f3a"
             ],
             [
              0.8888888888888888,
              "#fdca26"
             ],
             [
              1,
              "#f0f921"
             ]
            ],
            "type": "histogram2d"
           }
          ],
          "histogram2dcontour": [
           {
            "colorbar": {
             "outlinewidth": 0,
             "ticks": ""
            },
            "colorscale": [
             [
              0,
              "#0d0887"
             ],
             [
              0.1111111111111111,
              "#46039f"
             ],
             [
              0.2222222222222222,
              "#7201a8"
             ],
             [
              0.3333333333333333,
              "#9c179e"
             ],
             [
              0.4444444444444444,
              "#bd3786"
             ],
             [
              0.5555555555555556,
              "#d8576b"
             ],
             [
              0.6666666666666666,
              "#ed7953"
             ],
             [
              0.7777777777777778,
              "#fb9f3a"
             ],
             [
              0.8888888888888888,
              "#fdca26"
             ],
             [
              1,
              "#f0f921"
             ]
            ],
            "type": "histogram2dcontour"
           }
          ],
          "mesh3d": [
           {
            "colorbar": {
             "outlinewidth": 0,
             "ticks": ""
            },
            "type": "mesh3d"
           }
          ],
          "parcoords": [
           {
            "line": {
             "colorbar": {
              "outlinewidth": 0,
              "ticks": ""
             }
            },
            "type": "parcoords"
           }
          ],
          "pie": [
           {
            "automargin": true,
            "type": "pie"
           }
          ],
          "scatter": [
           {
            "fillpattern": {
             "fillmode": "overlay",
             "size": 10,
             "solidity": 0.2
            },
            "type": "scatter"
           }
          ],
          "scatter3d": [
           {
            "line": {
             "colorbar": {
              "outlinewidth": 0,
              "ticks": ""
             }
            },
            "marker": {
             "colorbar": {
              "outlinewidth": 0,
              "ticks": ""
             }
            },
            "type": "scatter3d"
           }
          ],
          "scattercarpet": [
           {
            "marker": {
             "colorbar": {
              "outlinewidth": 0,
              "ticks": ""
             }
            },
            "type": "scattercarpet"
           }
          ],
          "scattergeo": [
           {
            "marker": {
             "colorbar": {
              "outlinewidth": 0,
              "ticks": ""
             }
            },
            "type": "scattergeo"
           }
          ],
          "scattergl": [
           {
            "marker": {
             "colorbar": {
              "outlinewidth": 0,
              "ticks": ""
             }
            },
            "type": "scattergl"
           }
          ],
          "scattermap": [
           {
            "marker": {
             "colorbar": {
              "outlinewidth": 0,
              "ticks": ""
             }
            },
            "type": "scattermap"
           }
          ],
          "scattermapbox": [
           {
            "marker": {
             "colorbar": {
              "outlinewidth": 0,
              "ticks": ""
             }
            },
            "type": "scattermapbox"
           }
          ],
          "scatterpolar": [
           {
            "marker": {
             "colorbar": {
              "outlinewidth": 0,
              "ticks": ""
             }
            },
            "type": "scatterpolar"
           }
          ],
          "scatterpolargl": [
           {
            "marker": {
             "colorbar": {
              "outlinewidth": 0,
              "ticks": ""
             }
            },
            "type": "scatterpolargl"
           }
          ],
          "scatterternary": [
           {
            "marker": {
             "colorbar": {
              "outlinewidth": 0,
              "ticks": ""
             }
            },
            "type": "scatterternary"
           }
          ],
          "surface": [
           {
            "colorbar": {
             "outlinewidth": 0,
             "ticks": ""
            },
            "colorscale": [
             [
              0,
              "#0d0887"
             ],
             [
              0.1111111111111111,
              "#46039f"
             ],
             [
              0.2222222222222222,
              "#7201a8"
             ],
             [
              0.3333333333333333,
              "#9c179e"
             ],
             [
              0.4444444444444444,
              "#bd3786"
             ],
             [
              0.5555555555555556,
              "#d8576b"
             ],
             [
              0.6666666666666666,
              "#ed7953"
             ],
             [
              0.7777777777777778,
              "#fb9f3a"
             ],
             [
              0.8888888888888888,
              "#fdca26"
             ],
             [
              1,
              "#f0f921"
             ]
            ],
            "type": "surface"
           }
          ],
          "table": [
           {
            "cells": {
             "fill": {
              "color": "#EBF0F8"
             },
             "line": {
              "color": "white"
             }
            },
            "header": {
             "fill": {
              "color": "#C8D4E3"
             },
             "line": {
              "color": "white"
             }
            },
            "type": "table"
           }
          ]
         },
         "layout": {
          "annotationdefaults": {
           "arrowcolor": "#2a3f5f",
           "arrowhead": 0,
           "arrowwidth": 1
          },
          "autotypenumbers": "strict",
          "coloraxis": {
           "colorbar": {
            "outlinewidth": 0,
            "ticks": ""
           }
          },
          "colorscale": {
           "diverging": [
            [
             0,
             "#8e0152"
            ],
            [
             0.1,
             "#c51b7d"
            ],
            [
             0.2,
             "#de77ae"
            ],
            [
             0.3,
             "#f1b6da"
            ],
            [
             0.4,
             "#fde0ef"
            ],
            [
             0.5,
             "#f7f7f7"
            ],
            [
             0.6,
             "#e6f5d0"
            ],
            [
             0.7,
             "#b8e186"
            ],
            [
             0.8,
             "#7fbc41"
            ],
            [
             0.9,
             "#4d9221"
            ],
            [
             1,
             "#276419"
            ]
           ],
           "sequential": [
            [
             0,
             "#0d0887"
            ],
            [
             0.1111111111111111,
             "#46039f"
            ],
            [
             0.2222222222222222,
             "#7201a8"
            ],
            [
             0.3333333333333333,
             "#9c179e"
            ],
            [
             0.4444444444444444,
             "#bd3786"
            ],
            [
             0.5555555555555556,
             "#d8576b"
            ],
            [
             0.6666666666666666,
             "#ed7953"
            ],
            [
             0.7777777777777778,
             "#fb9f3a"
            ],
            [
             0.8888888888888888,
             "#fdca26"
            ],
            [
             1,
             "#f0f921"
            ]
           ],
           "sequentialminus": [
            [
             0,
             "#0d0887"
            ],
            [
             0.1111111111111111,
             "#46039f"
            ],
            [
             0.2222222222222222,
             "#7201a8"
            ],
            [
             0.3333333333333333,
             "#9c179e"
            ],
            [
             0.4444444444444444,
             "#bd3786"
            ],
            [
             0.5555555555555556,
             "#d8576b"
            ],
            [
             0.6666666666666666,
             "#ed7953"
            ],
            [
             0.7777777777777778,
             "#fb9f3a"
            ],
            [
             0.8888888888888888,
             "#fdca26"
            ],
            [
             1,
             "#f0f921"
            ]
           ]
          },
          "colorway": [
           "#636efa",
           "#EF553B",
           "#00cc96",
           "#ab63fa",
           "#FFA15A",
           "#19d3f3",
           "#FF6692",
           "#B6E880",
           "#FF97FF",
           "#FECB52"
          ],
          "font": {
           "color": "#2a3f5f"
          },
          "geo": {
           "bgcolor": "white",
           "lakecolor": "white",
           "landcolor": "#E5ECF6",
           "showlakes": true,
           "showland": true,
           "subunitcolor": "white"
          },
          "hoverlabel": {
           "align": "left"
          },
          "hovermode": "closest",
          "mapbox": {
           "style": "light"
          },
          "paper_bgcolor": "white",
          "plot_bgcolor": "#E5ECF6",
          "polar": {
           "angularaxis": {
            "gridcolor": "white",
            "linecolor": "white",
            "ticks": ""
           },
           "bgcolor": "#E5ECF6",
           "radialaxis": {
            "gridcolor": "white",
            "linecolor": "white",
            "ticks": ""
           }
          },
          "scene": {
           "xaxis": {
            "backgroundcolor": "#E5ECF6",
            "gridcolor": "white",
            "gridwidth": 2,
            "linecolor": "white",
            "showbackground": true,
            "ticks": "",
            "zerolinecolor": "white"
           },
           "yaxis": {
            "backgroundcolor": "#E5ECF6",
            "gridcolor": "white",
            "gridwidth": 2,
            "linecolor": "white",
            "showbackground": true,
            "ticks": "",
            "zerolinecolor": "white"
           },
           "zaxis": {
            "backgroundcolor": "#E5ECF6",
            "gridcolor": "white",
            "gridwidth": 2,
            "linecolor": "white",
            "showbackground": true,
            "ticks": "",
            "zerolinecolor": "white"
           }
          },
          "shapedefaults": {
           "line": {
            "color": "#2a3f5f"
           }
          },
          "ternary": {
           "aaxis": {
            "gridcolor": "white",
            "linecolor": "white",
            "ticks": ""
           },
           "baxis": {
            "gridcolor": "white",
            "linecolor": "white",
            "ticks": ""
           },
           "bgcolor": "#E5ECF6",
           "caxis": {
            "gridcolor": "white",
            "linecolor": "white",
            "ticks": ""
           }
          },
          "title": {
           "x": 0.05
          },
          "xaxis": {
           "automargin": true,
           "gridcolor": "white",
           "linecolor": "white",
           "ticks": "",
           "title": {
            "standoff": 15
           },
           "zerolinecolor": "white",
           "zerolinewidth": 2
          },
          "yaxis": {
           "automargin": true,
           "gridcolor": "white",
           "linecolor": "white",
           "ticks": "",
           "title": {
            "standoff": 15
           },
           "zerolinecolor": "white",
           "zerolinewidth": 2
          }
         }
        },
        "title": {
         "text": "Average Activity Duration (Minutes): Raw vs Simulated"
        },
        "xaxis": {
         "anchor": "y",
         "domain": [
          0,
          1
         ],
         "tickangle": -45,
         "title": {
          "text": "Activity"
         }
        },
        "yaxis": {
         "anchor": "x",
         "domain": [
          0,
          1
         ],
         "title": {
          "text": "Avg Duration (minutes)"
         }
        }
       }
      }
     },
     "metadata": {},
     "output_type": "display_data"
    }
   ],
   "source": [
    "plot_avg_duration_per_activity(raw_df_test, simulated_logs_df, time_unit=\"minutes\")"
   ]
  },
  {
   "cell_type": "markdown",
   "metadata": {},
   "source": [
    "Here we see something suspicious. The simulated durations are way way shorter (their average) compared to the ground truth."
   ]
  },
  {
   "cell_type": "code",
   "execution_count": 147,
   "metadata": {},
   "outputs": [
    {
     "data": {
      "application/vnd.plotly.v1+json": {
       "config": {
        "plotlyServerURL": "https://plot.ly"
       },
       "data": [
        {
         "bingroup": "x",
         "hovertemplate": "activity=Check application form completeness<br>Duration (minutes)=%{x}<br>count=%{y}<extra></extra>",
         "legendgroup": "",
         "marker": {
          "color": "indianred",
          "pattern": {
           "shape": ""
          }
         },
         "name": "",
         "nbinsx": 200,
         "orientation": "v",
         "showlegend": false,
         "type": "histogram",
         "x": {
          "bdata": "qaROQBNJS0ADnTbQafM+QMUgsHJozUBAxreK2DovQUA830+Nl2BYQD4K16Nw/RFArpE305cQM0DW6pjgweQ0QAu1pnnHTUBAmZZr5M3UR0DVeOkmMUgeQDQRNjy9vkRA1sVtNIDXHEBR2ht8Ydo4QHZPHhZqBTFAD5wzovSFjkClBxhwqV3CP5KmVJx9mBVAvQhAyQpr1j/njCjtDf4DQKLZYqQEUjtAql0mnVvrPEDu68A5I0oyQMw18mb6kvk/LUMc6+IWFkD2K4pEjvoaQBMXbXuoSjpA8hykupOiDEAaB4TD+D4/QJ1b+xVFEiBAKhVnHz7FUEAX3PysH4gDQEku/yH99vw/gSnwO+NQrkDhVekBBlwgQNH9r009xRVAf0WRyFHjJUCjSxJelR4tQI5QRm/LehlAkX77OnAKS0BNzmOnMqNBQDq0yHa+zy9AKcjiEe/TMUBChRB9ZAAUQBlOrGawvNo/+1xtxf6CJUCvSg8w4CIhQM+LAJSswC1Aam/whclsO0BjggfzhFKOQEOwl5M9DxNA2YSh+19bMkDgmePv8VQ3QKWYlmvk7TBAi0e8T2gsDED1JS7a9uArQOSoyXnsNBJA3gIJih8HQkCGp1fKMrQqQFH/RiijZyFAKoG6bjd6U0AVIPeaC5E6QOn+16aeKjNAMEymCkbtREB0/2tTTyE/QI1yQ2ZBWxZAA8JhfKvAMUC/M8ff4/kYQAOdNtCpa45AtYFOG+hUOEAikaMm511DQHzNhaQptTdA9JGBKfBzSUATqxksrz82QBTTco28aS9ADN3/2tQzEUDnRQBKVhA4QEoxLdfIayZA+J05/h43MEBelR5gwKUoQJvmHafoiCVAVTAqqRN4RUDinz9aifYgQGWtjgke1DdANIC3QOJWkEC9mb7ERauOQOx248rGICxA46WbxCCQH0CnMp+GggwVQKae8tV7VwtA0pSKsw+vIkCa4+/xHGQ7QJF++zpwXiRAzRYjJVAXCkDVwj9/tDIVQBlwqV0m/RtAAG+BBMUP9z/2vAhAyYoMQDG+VcTW1UBAWj8QMw5IJEBaZDvfT400QAbL65sO3zxA1XjpJjHQMkCzNMoNWUaPQPyExiYMLS1AftPhDsFKjkCDL0ymCkbiP7bz/dR4iStAffXeBTevKkBTdCSX/zATQFUwKqkTjElAeuxU5tNsQUBH4XoUroczQCAcxreKGAhAumsJ+aBn2z92mXRu7VcRQNOXuGjboypA4lgXt9HAB0DCYXyriGlDQHKKjuTyu0VA+uq9C27+FUB3d3d310CuQOHmZ/1Ak65AcYdgLyf7AEA7t/YriiQUQME5I0p7szZAM32Ji7ZdE0DPZtXnaksTQEEWj3ifUBRATRWMSuoE5D/DHYK9nMxCQGSFNagQOjdAsN674OYPQkBHTc5jp3ItQNHYhKH7/zZAvnfBzc+KM0BeJp1b+xUMQE6HOwS7jY9A48rGcKIpjkBUnH34DFs3QPCFyVTBKDdAIBzGt4p4LUDHKTqSyz8TQOEwvlXElgpAZ2mUGzLrMUCSy39Iv00kQOVhodY03zlA+uq9C26+HkCUrLAGFXJDQOauJeSD3i9Al0nn1n4FIECKQWDl0Mo9QG+mL3HR9jxAih9j7lpC5j9ZPOJ9QhMpQOF35vj7iJBAAAAAAADAEUDOqs/VVlQzQC1oR5ck/CVAT4ppuUYeIkB13W5c2RjOPx9gwKV2IUdAo0jkqMk5BUCDwMqhRYYqQLohs6AdnSNAOrTIdr7fKkCThFelBzgfQPW52or9RRxAgLdAguIHL0CRD3o2qzYwQPs3Qhm9zSBAu5NiWq7pMEBmHBAOI5OOQH6x5BdLfiRAq2BUUieQM0B5n9DYhMEaQMt8GgqyaCdAV8oyxLE+KUD1JS7a9lD1PzbQaQOdNuM/klz+Q/phSkBLWYY41kUsQAN4CyQoDiZAkOpOiml5I0A+eVioNc3gP/P6psMdYhdAw64AudfgTEB2vp8aL13xP1rQji5JADZAvnrvgps/GkAPVQv//NHQP2PJL5Z8y49Ax7q4jQZw9D+QMXctIbc+QIuzD59hNxVAxW00gLd4QUBNzmOnMq8iQM3MzMzM3D9Aj1N0JJdPMUAR7OVkz3s3QLPqc7UVX0tAKjqSy3/ICUDd/9rUUyJDQL8OnDOizDlAjG8VsXWWBUD5nTn+Hm8TQG3n+6mxPq5A7lpCPmhIrkA5Z0Rpb/DmP56DVHdSbEpAqhb++aP1IEDXgXNGlK45QP32deCcsRVApVFuyCxoGkAQfWRgCqwxQJDqToppbURAGnYFyL3m6z8Nltc3HQ41QAMJih9jrg1ASVD8GHPPP0A=",
          "dtype": "f8"
         },
         "xaxis": "x11",
         "yaxis": "y11"
        },
        {
         "bingroup": "x",
         "hovertemplate": "activity=AML check<br>Duration (minutes)=%{x}<br>count=%{y}<extra></extra>",
         "legendgroup": "",
         "marker": {
          "color": "indianred",
          "pattern": {
           "shape": ""
          }
         },
         "name": "",
         "nbinsx": 200,
         "orientation": "v",
         "showlegend": false,
         "type": "histogram",
         "x": {
          "bdata": "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",
          "dtype": "f8"
         },
         "xaxis": "x12",
         "yaxis": "y12"
        },
        {
         "bingroup": "x",
         "hovertemplate": "activity=Check credit history<br>Duration (minutes)=%{x}<br>count=%{y}<extra></extra>",
         "legendgroup": "",
         "marker": {
          "color": "indianred",
          "pattern": {
           "shape": ""
          }
         },
         "name": "",
         "nbinsx": 200,
         "orientation": "v",
         "showlegend": false,
         "type": "histogram",
         "x": {
          "bdata": "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",
          "dtype": "f8"
         },
         "xaxis": "x9",
         "yaxis": "y9"
        },
        {
         "bingroup": "x",
         "hovertemplate": "activity=Appraise property<br>Duration (minutes)=%{x}<br>count=%{y}<extra></extra>",
         "legendgroup": "",
         "marker": {
          "color": "indianred",
          "pattern": {
           "shape": ""
          }
         },
         "name": "",
         "nbinsx": 200,
         "orientation": "v",
         "showlegend": false,
         "type": "histogram",
         "x": {
          "bdata": "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",
          "dtype": "f8"
         },
         "xaxis": "x10",
         "yaxis": "y10"
        },
        {
         "bingroup": "x",
         "hovertemplate": "activity=Assess loan risk<br>Duration (minutes)=%{x}<br>count=%{y}<extra></extra>",
         "legendgroup": "",
         "marker": {
          "color": "indianred",
          "pattern": {
           "shape": ""
          }
         },
         "name": "",
         "nbinsx": 200,
         "orientation": "v",
         "showlegend": false,
         "type": "histogram",
         "x": {
          "bdata": "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",
          "dtype": "f8"
         },
         "xaxis": "x7",
         "yaxis": "y7"
        },
        {
         "bingroup": "x",
         "hovertemplate": "activity=Reject application<br>Duration (minutes)=%{x}<br>count=%{y}<extra></extra>",
         "legendgroup": "",
         "marker": {
          "color": "indianred",
          "pattern": {
           "shape": ""
          }
         },
         "name": "",
         "nbinsx": 200,
         "orientation": "v",
         "showlegend": false,
         "type": "histogram",
         "x": {
          "bdata": "AAAAAAAAJEAAAAAAAAAkQAAAAAAAACRAAAAAAAAAJEAAAAAAAAAkQAAAAAAAACRAAAAAAAAAJEAAAAAAAAAkQAAAAAAAACRAAAAAAAAAJEAAAAAAAAAkQAAAAAAAACRAAAAAAAAAJEAAAAAAAAAkQAAAAAAAACRAAAAAAAAAJEAAAAAAAAAkQAAAAAAAACRAAAAAAAAAJEAAAAAAAAAkQAAAAAAAACRAAAAAAAAAJEAAAAAAAAAkQAAAAAAAACRAAAAAAAAAJEAAAAAAAAAkQAAAAAAAACRAAAAAAAAAJEAAAAAAAAAkQAAAAAAAACRAAAAAAAAAJEAAAAAAAAAkQAAAAAAAACRAAAAAAAAAJEAAAAAAAAAkQAAAAAAAACRAAAAAAAAAJEAAAAAAAAAkQAAAAAAAACRAAAAAAAAAJEAAAAAAAAAkQAAAAAAAACRAAAAAAAAAJEAAAAAAAAAkQAAAAAAAACRAAAAAAAAAJEAAAAAAAAAkQAAAAAAAACRAAAAAAAAAJEAAAAAAAAAkQAAAAAAAACRAAAAAAAAAJEAAAAAAAAAkQAAAAAAAUI5AAAAAAAAAJEAAAAAAAAAkQAAAAAAAACRAAAAAAAAAJEAAAAAAAAAkQAAAAAAAACRAAAAAAAAAJEAAAAAAAAAkQAAAAAAAACRAAAAAAAAAJEAAAAAAAAAkQAAAAAAAACRAAAAAAAAAJEAAAAAAAAAkQAAAAAAAACRAAAAAAAAAJEAAAAAAAAAkQAAAAAAAACRAAAAAAAAAJEAAAAAAAAAkQAAAAAAAACRAAAAAAAAAJEAAAAAAAAAkQAAAAAAAACRAAAAAAAAAJEAAAAAAABSuQAAAAAAAACRAAAAAAAAAJEAAAAAAAAAkQAAAAAAAACRAAAAAAAAAJEA=",
          "dtype": "f8"
         },
         "xaxis": "x8",
         "yaxis": "y8"
        },
        {
         "bingroup": "x",
         "hovertemplate": "activity=Design loan offer<br>Duration (minutes)=%{x}<br>count=%{y}<extra></extra>",
         "legendgroup": "",
         "marker": {
          "color": "indianred",
          "pattern": {
           "shape": ""
          }
         },
         "name": "",
         "nbinsx": 200,
         "orientation": "v",
         "showlegend": false,
         "type": "histogram",
         "x": {
          "bdata": "/vmjlWgOTEAfhetRuF4FQI25awn5mDdALpCg+DEmKkC/DpwzojQJQG40gLdAwidAP8bctYT8DkA7cM6I0u4zQMmb6UtcXDFARWydpVHKQkByHjuV+TT0Pz3lq/cu+BNAt/YrikSO7j+ZJ+rfCGXaP14mnVv7VR9AiWNd3EYD+D/SlIqzD0cwQK9KDzDgUuA/t6zVMcGD2T+Dm5/1A4k7QGMThu5/bRlAO0uj3JBZ4T9+seQXS378P64its7SyBhA+qOVaLYYM0BrvHSTGKQUQJmWa+TNpC5ANoYTqxlkNkDmQtKUijMIQBsv3SQGESRAUm7ILGjH9D/y93gOUl0rQIwAlKywpjdA0B+tRLOFD0A9LNSa5m0vQNIA3gIJCvg/wx2CvZxsI0AwlvxiyZ8vQLSjSxJeleY/t9EA3gIJMUCPCR7MEzULQEMc6+I2WiJAThi6/7Up8z+O4cRqBnsjQN3/2tRT/gFARWydpVHeNUBZzWB5fXs2QNbqmODBrDNAduPKxnDiCEBSk/PYqcwdQGHD0ytlmR9A3f/a1FOuIkAfGZgCv3MZQFmDCiH6SARAK4cW2c63HkAbCrJ4xDsFQGU+DQVZBDZA8tV7F9zMOECgP1qJZts8QEzIBz2bVds/irDh6ZXSIkAlCa9KDzBHQBqYAr8zpytAlUBdtxsXMEDj7/EcpPoBQOHBPFH/xiJA5PIf0m9f4T8ZldQJaLZGQDU5j53KHBVATc5jp7IDj0D1lK/euwAsQBUg95oLqRtAyxDHurjtFUBOYhBYOXQNQNQuk86tnS5Ao9yQWdCO9z86baDTBl5FQPSRgSnwIzdA/ITGJgxNO0A2GsBbIBEkQBx8YTJV4DdANMoNmQUNLUCCLB7xPqExQJGjJuexU/U/O5X5NBSEFUAOT6+UZVg1QE2pOPvwWSZA4umVsgyBM0A0yg2ZBc00QBp2Bci9ZhRAm8Hy+qbD4z/7XG3F/kJBQJstRkqgvjxA97829ZRPL0AvSXhVesAYQFcRW2dpVBdApATqut04BkB90LNZ9Uk0QKyIrbM0+i5A2YSh+19bDUB++Ay7AkQWQApD9782ZSNAHe4Q7OV0JkAxUgJ13W7UP7wqPcCAaylAukbeTF8iHEA/fIZdAXL2P+0vuycPOzdAYzixmsESE0CiauGfPxoTQDKfhoIsPhxANBE2PL1S4z9eJp1b+5UCQFBobMLQzSFAW0I+6NmcLUA=",
          "dtype": "f8"
         },
         "xaxis": "x5",
         "yaxis": "y5"
        },
        {
         "bingroup": "x",
         "hovertemplate": "activity=Approve loan offer<br>Duration (minutes)=%{x}<br>count=%{y}<extra></extra>",
         "legendgroup": "",
         "marker": {
          "color": "indianred",
          "pattern": {
           "shape": ""
          }
         },
         "name": "",
         "nbinsx": 200,
         "orientation": "v",
         "showlegend": false,
         "type": "histogram",
         "x": {
          "bdata": "AAAAAAAANEAAAAAAAAA0QAAAAAAAADRAAAAAAAAANEAAAAAAAAA0QAAAAAAAADRAAAAAAAAANEAAAAAAAAA0QAAAAAAAADRAAAAAAAAANEAAAAAAAAA0QAAAAAAAADRAAAAAAAAANEAAAAAAAAA0QAAAAAAAADRAAAAAAAAANEAAAAAAAAA0QAAAAAAAADRAAAAAAAAANEAAAAAAAAA0QAAAAAAAADRAAAAAAAAANEAAAAAAAAA0QAAAAAAAADRAAAAAAAAANEAAAAAAAAA0QAAAAAAAADRAAAAAAAAANEAAAAAAAAA0QAAAAAAAADRAAAAAAAAANEAAAAAAAAA0QAAAAAAAADRAAAAAAAAANEAAAAAAAAA0QAAAAAAAADRAAAAAAAAANEAAAAAAAAA0QAAAAAAAADRAAAAAAAAANEAAAAAAAAA0QAAAAAAAADRAAAAAAAAANEAAAAAAAAA0QAAAAAAAADRAAAAAAAAANEAAAAAAAAA0QAAAAAAAADRAAAAAAAAANEAAAAAAAAA0QAAAAAAAADRAAAAAAAAANEAAAAAAAAA0QAAAAAAAADRAAAAAAAAANEAAAAAAAAA0QAAAAAAAADRAAAAAAAAANEAAAAAAAAA0QAAAAAAAADRAAAAAAAAANEAAAAAAAAA0QAAAAAAAADRAAAAAAAAANEAAAAAAAAA0QAAAAAAAADRAAAAAAAAANEAAAAAAAAA0QAAAAAAAADRAAAAAAAAANEAAAAAAAAA0QAAAAAAAADRAAAAAAAAANEAAAAAAAAA0QAAAAAAAADRAAAAAAAAANEAAAAAAAAA0QAAAAAAAADRAAAAAAAAANEAAAAAAAAA0QAAAAAAAADRAAAAAAAAANEAAAAAAAAA0QAAAAAAAADRAAAAAAAAANEAAAAAAAAA0QAAAAAAAADRAAAAAAACgjkAAAAAAAKCOQAAAAAAAADRAAAAAAAAANEAAAAAAAAA0QAAAAAAAADRAAAAAAAAANEAAAAAAAAA0QAAAAAAAADRAAAAAAAAANEAAAAAAAAA0QAAAAAAAADRAAAAAAAAANEAAAAAAAAA0QAAAAAAAADRAAAAAAAAANEAAAAAAAAA0QAAAAAAAADRAAAAAAAAANEAAAAAAAAA0QAAAAAAAADRAAAAAAAAANEAAAAAAAAA0QAAAAAAAADRAAAAAAAAANEAAAAAAAAA0QAAAAAAAADRAAAAAAAAANEA=",
          "dtype": "f8"
         },
         "xaxis": "x6",
         "yaxis": "y6"
        },
        {
         "bingroup": "x",
         "hovertemplate": "activity=Cancel application<br>Duration (minutes)=%{x}<br>count=%{y}<extra></extra>",
         "legendgroup": "",
         "marker": {
          "color": "indianred",
          "pattern": {
           "shape": ""
          }
         },
         "name": "",
         "nbinsx": 200,
         "orientation": "v",
         "showlegend": false,
         "type": "histogram",
         "x": {
          "bdata": "AAAAAAAAFEAAAAAAAAAUQAAAAAAAABRAAAAAAAAAFEAAAAAAAAAUQAAAAAAAABRAAAAAAAAAFEAAAAAAAAAUQAAAAAAAABRAAAAAAAAAFEAAAAAAAAAUQAAAAAAAABRAAAAAAAAAFEAAAAAAAAAUQAAAAAAAABRAAAAAAAAAFEAAAAAAAAAUQAAAAAAAABRAAAAAAAAAFEAAAAAAAAAUQAAAAAAAABRAAAAAAAAAFEAAAAAAAAAUQAAAAAAAABRAAAAAAAAAFEAAAAAAAAAUQAAAAAAAABRAAAAAAAAAFEAAAAAAAAAUQAAAAAAAABRAAAAAAAAAFEAAAAAAAAAUQAAAAAAAABRAAAAAAAAAFEAAAAAAAAAUQAAAAAAAABRAAAAAAAAAFEAAAAAAAAAUQAAAAAAAABRAAAAAAAAAFEAAAAAAAAAUQAAAAAAAABRAAAAAAAAAFEAAAAAAAAAUQAAAAAAAABRAAAAAAAAAFEAAAAAAAAAUQAAAAAAAABRAAAAAAAAAFEAAAAAAAAAUQAAAAAAAABRAAAAAAAAAFEAAAAAAAAAUQAAAAAAAABRAAAAAAAAAFEAAAAAAAAAUQAAAAAAAABRAAAAAAAAAFEAAAAAAAAAUQAAAAAAAABRAAAAAAAAAFEAAAAAAAAAUQAAAAAAAABRAAAAAAAAAFEAAAAAAAAAUQA==",
          "dtype": "f8"
         },
         "xaxis": "x3",
         "yaxis": "y3"
        },
        {
         "bingroup": "x",
         "hovertemplate": "activity=Return application back to applicant<br>Duration (minutes)=%{x}<br>count=%{y}<extra></extra>",
         "legendgroup": "",
         "marker": {
          "color": "indianred",
          "pattern": {
           "shape": ""
          }
         },
         "name": "",
         "nbinsx": 200,
         "orientation": "v",
         "showlegend": false,
         "type": "histogram",
         "x": {
          "bdata": "AAAAAAAAFEAAAAAAAAAUQAAAAAAAABRAAAAAAAAAFEAAAAAAAAAUQAAAAAAAABRAAAAAAAAAFEAAAAAAAAAUQAAAAAAAABRAAAAAAAAAFEAAAAAAAAAUQAAAAAAAABRAAAAAAAAAFEAAAAAAAAAUQAAAAAAAABRAAAAAAAAAFEAAAAAAAAAUQAAAAAAAABRAAAAAAAAAFEAAAAAAAAAUQA==",
          "dtype": "f8"
         },
         "xaxis": "x4",
         "yaxis": "y4"
        },
        {
         "bingroup": "x",
         "hovertemplate": "activity=Applicant completes form<br>Duration (minutes)=%{x}<br>count=%{y}<extra></extra>",
         "legendgroup": "",
         "marker": {
          "color": "indianred",
          "pattern": {
           "shape": ""
          }
         },
         "name": "",
         "nbinsx": 200,
         "orientation": "v",
         "showlegend": false,
         "type": "histogram",
         "x": {
          "bdata": "AAAAAAAATkAAAAAAAOCPQAAAAAAAAE5AAAAAAAAATkAAAAAAAABOQAAAAAAAAE5AAAAAAAAATkAAAAAAAOCPQAAAAAAAAE5AAAAAAAAATkAAAAAAAABOQAAAAAAAAE5AAAAAAAAATkAAAAAAAABOQAAAAAAAAE5AAAAAAAAATkAAAAAAAABOQAAAAAAAAE5AAAAAAAAATkAAAAAAAABOQA==",
          "dtype": "f8"
         },
         "xaxis": "x",
         "yaxis": "y"
        },
        {
         "bingroup": "x",
         "hovertemplate": "activity=Approve application<br>Duration (minutes)=%{x}<br>count=%{y}<extra></extra>",
         "legendgroup": "",
         "marker": {
          "color": "indianred",
          "pattern": {
           "shape": ""
          }
         },
         "name": "",
         "nbinsx": 200,
         "orientation": "v",
         "showlegend": false,
         "type": "histogram",
         "x": {
          "bdata": "AAAAAAAAFEAAAAAAAAAUQAAAAAAAKI5AAAAAAAAAFEAAAAAAAAAUQAAAAAAAABRAAAAAAAAAFEAAAAAAAAAUQAAAAAAAABRAAAAAAAAAFEAAAAAAAAAUQAAAAAAAABRAAAAAAAAAFEAAAAAAAAAUQAAAAAAAABRAAAAAAAAojkAAAAAAAAAUQAAAAAAAABRAAAAAAAAAFEAAAAAAAAAUQAAAAAAAABRAAAAAAAAAFEAAAAAAAAAUQAAAAAAAABRAAAAAAAAAFEAAAAAAAAAUQAAAAAAAABRAAAAAAAAAFEAAAAAAAAAUQAAAAAAAABRAAAAAAAAAFEAAAAAAAAAUQAAAAAAAABRAAAAAAAAAFEAAAAAAAAAUQAAAAAAAABRAAAAAAAAAFEAAAAAAAAAUQAAAAAAAABRAAAAAAAAAFEAAAAAAAAAUQAAAAAAAABRAAAAAAAAAFEAAAAAAAAAUQAAAAAAAABRAAAAAAAAAFEAAAAAAAAAUQAAAAAAAABRAAAAAAAAAFEAAAAAAAAAUQA==",
          "dtype": "f8"
         },
         "xaxis": "x2",
         "yaxis": "y2"
        }
       ],
       "layout": {
        "annotations": [
         {
          "font": {},
          "showarrow": false,
          "text": "activity=Applicant completes form",
          "x": 0.245,
          "xanchor": "center",
          "xref": "paper",
          "y": 0.10833333333333331,
          "yanchor": "bottom",
          "yref": "paper"
         },
         {
          "font": {},
          "showarrow": false,
          "text": "activity=Approve application",
          "x": 0.755,
          "xanchor": "center",
          "xref": "paper",
          "y": 0.10833333333333331,
          "yanchor": "bottom",
          "yref": "paper"
         },
         {
          "font": {},
          "showarrow": false,
          "text": "activity=Cancel application",
          "x": 0.245,
          "xanchor": "center",
          "xref": "paper",
          "y": 0.2866666666666666,
          "yanchor": "bottom",
          "yref": "paper"
         },
         {
          "font": {},
          "showarrow": false,
          "text": "activity=Return application back to applicant",
          "x": 0.755,
          "xanchor": "center",
          "xref": "paper",
          "y": 0.2866666666666666,
          "yanchor": "bottom",
          "yref": "paper"
         },
         {
          "font": {},
          "showarrow": false,
          "text": "activity=Design loan offer",
          "x": 0.245,
          "xanchor": "center",
          "xref": "paper",
          "y": 0.46499999999999997,
          "yanchor": "bottom",
          "yref": "paper"
         },
         {
          "font": {},
          "showarrow": false,
          "text": "activity=Approve loan offer",
          "x": 0.755,
          "xanchor": "center",
          "xref": "paper",
          "y": 0.46499999999999997,
          "yanchor": "bottom",
          "yref": "paper"
         },
         {
          "font": {},
          "showarrow": false,
          "text": "activity=Assess loan risk",
          "x": 0.245,
          "xanchor": "center",
          "xref": "paper",
          "y": 0.6433333333333332,
          "yanchor": "bottom",
          "yref": "paper"
         },
         {
          "font": {},
          "showarrow": false,
          "text": "activity=Reject application",
          "x": 0.755,
          "xanchor": "center",
          "xref": "paper",
          "y": 0.6433333333333332,
          "yanchor": "bottom",
          "yref": "paper"
         },
         {
          "font": {},
          "showarrow": false,
          "text": "activity=Check credit history",
          "x": 0.245,
          "xanchor": "center",
          "xref": "paper",
          "y": 0.8216666666666665,
          "yanchor": "bottom",
          "yref": "paper"
         },
         {
          "font": {},
          "showarrow": false,
          "text": "activity=Appraise property",
          "x": 0.755,
          "xanchor": "center",
          "xref": "paper",
          "y": 0.8216666666666665,
          "yanchor": "bottom",
          "yref": "paper"
         },
         {
          "font": {},
          "showarrow": false,
          "text": "activity=Check application form completeness",
          "x": 0.245,
          "xanchor": "center",
          "xref": "paper",
          "y": 0.9999999999999999,
          "yanchor": "bottom",
          "yref": "paper"
         },
         {
          "font": {},
          "showarrow": false,
          "text": "activity=AML check",
          "x": 0.755,
          "xanchor": "center",
          "xref": "paper",
          "y": 0.9999999999999999,
          "yanchor": "bottom",
          "yref": "paper"
         }
        ],
        "barmode": "relative",
        "height": 800,
        "legend": {
         "tracegroupgap": 0
        },
        "template": {
         "data": {
          "bar": [
           {
            "error_x": {
             "color": "#2a3f5f"
            },
            "error_y": {
             "color": "#2a3f5f"
            },
            "marker": {
             "line": {
              "color": "#E5ECF6",
              "width": 0.5
             },
             "pattern": {
              "fillmode": "overlay",
              "size": 10,
              "solidity": 0.2
             }
            },
            "type": "bar"
           }
          ],
          "barpolar": [
           {
            "marker": {
             "line": {
              "color": "#E5ECF6",
              "width": 0.5
             },
             "pattern": {
              "fillmode": "overlay",
              "size": 10,
              "solidity": 0.2
             }
            },
            "type": "barpolar"
           }
          ],
          "carpet": [
           {
            "aaxis": {
             "endlinecolor": "#2a3f5f",
             "gridcolor": "white",
             "linecolor": "white",
             "minorgridcolor": "white",
             "startlinecolor": "#2a3f5f"
            },
            "baxis": {
             "endlinecolor": "#2a3f5f",
             "gridcolor": "white",
             "linecolor": "white",
             "minorgridcolor": "white",
             "startlinecolor": "#2a3f5f"
            },
            "type": "carpet"
           }
          ],
          "choropleth": [
           {
            "colorbar": {
             "outlinewidth": 0,
             "ticks": ""
            },
            "type": "choropleth"
           }
          ],
          "contour": [
           {
            "colorbar": {
             "outlinewidth": 0,
             "ticks": ""
            },
            "colorscale": [
             [
              0,
              "#0d0887"
             ],
             [
              0.1111111111111111,
              "#46039f"
             ],
             [
              0.2222222222222222,
              "#7201a8"
             ],
             [
              0.3333333333333333,
              "#9c179e"
             ],
             [
              0.4444444444444444,
              "#bd3786"
             ],
             [
              0.5555555555555556,
              "#d8576b"
             ],
             [
              0.6666666666666666,
              "#ed7953"
             ],
             [
              0.7777777777777778,
              "#fb9f3a"
             ],
             [
              0.8888888888888888,
              "#fdca26"
             ],
             [
              1,
              "#f0f921"
             ]
            ],
            "type": "contour"
           }
          ],
          "contourcarpet": [
           {
            "colorbar": {
             "outlinewidth": 0,
             "ticks": ""
            },
            "type": "contourcarpet"
           }
          ],
          "heatmap": [
           {
            "colorbar": {
             "outlinewidth": 0,
             "ticks": ""
            },
            "colorscale": [
             [
              0,
              "#0d0887"
             ],
             [
              0.1111111111111111,
              "#46039f"
             ],
             [
              0.2222222222222222,
              "#7201a8"
             ],
             [
              0.3333333333333333,
              "#9c179e"
             ],
             [
              0.4444444444444444,
              "#bd3786"
             ],
             [
              0.5555555555555556,
              "#d8576b"
             ],
             [
              0.6666666666666666,
              "#ed7953"
             ],
             [
              0.7777777777777778,
              "#fb9f3a"
             ],
             [
              0.8888888888888888,
              "#fdca26"
             ],
             [
              1,
              "#f0f921"
             ]
            ],
            "type": "heatmap"
           }
          ],
          "histogram": [
           {
            "marker": {
             "pattern": {
              "fillmode": "overlay",
              "size": 10,
              "solidity": 0.2
             }
            },
            "type": "histogram"
           }
          ],
          "histogram2d": [
           {
            "colorbar": {
             "outlinewidth": 0,
             "ticks": ""
            },
            "colorscale": [
             [
              0,
              "#0d0887"
             ],
             [
              0.1111111111111111,
              "#46039f"
             ],
             [
              0.2222222222222222,
              "#7201a8"
             ],
             [
              0.3333333333333333,
              "#9c179e"
             ],
             [
              0.4444444444444444,
              "#bd3786"
             ],
             [
              0.5555555555555556,
              "#d8576b"
             ],
             [
              0.6666666666666666,
              "#ed7953"
             ],
             [
              0.7777777777777778,
              "#fb9f3a"
             ],
             [
              0.8888888888888888,
              "#fdca26"
             ],
             [
              1,
              "#f0f921"
             ]
            ],
            "type": "histogram2d"
           }
          ],
          "histogram2dcontour": [
           {
            "colorbar": {
             "outlinewidth": 0,
             "ticks": ""
            },
            "colorscale": [
             [
              0,
              "#0d0887"
             ],
             [
              0.1111111111111111,
              "#46039f"
             ],
             [
              0.2222222222222222,
              "#7201a8"
             ],
             [
              0.3333333333333333,
              "#9c179e"
             ],
             [
              0.4444444444444444,
              "#bd3786"
             ],
             [
              0.5555555555555556,
              "#d8576b"
             ],
             [
              0.6666666666666666,
              "#ed7953"
             ],
             [
              0.7777777777777778,
              "#fb9f3a"
             ],
             [
              0.8888888888888888,
              "#fdca26"
             ],
             [
              1,
              "#f0f921"
             ]
            ],
            "type": "histogram2dcontour"
           }
          ],
          "mesh3d": [
           {
            "colorbar": {
             "outlinewidth": 0,
             "ticks": ""
            },
            "type": "mesh3d"
           }
          ],
          "parcoords": [
           {
            "line": {
             "colorbar": {
              "outlinewidth": 0,
              "ticks": ""
             }
            },
            "type": "parcoords"
           }
          ],
          "pie": [
           {
            "automargin": true,
            "type": "pie"
           }
          ],
          "scatter": [
           {
            "fillpattern": {
             "fillmode": "overlay",
             "size": 10,
             "solidity": 0.2
            },
            "type": "scatter"
           }
          ],
          "scatter3d": [
           {
            "line": {
             "colorbar": {
              "outlinewidth": 0,
              "ticks": ""
             }
            },
            "marker": {
             "colorbar": {
              "outlinewidth": 0,
              "ticks": ""
             }
            },
            "type": "scatter3d"
           }
          ],
          "scattercarpet": [
           {
            "marker": {
             "colorbar": {
              "outlinewidth": 0,
              "ticks": ""
             }
            },
            "type": "scattercarpet"
           }
          ],
          "scattergeo": [
           {
            "marker": {
             "colorbar": {
              "outlinewidth": 0,
              "ticks": ""
             }
            },
            "type": "scattergeo"
           }
          ],
          "scattergl": [
           {
            "marker": {
             "colorbar": {
              "outlinewidth": 0,
              "ticks": ""
             }
            },
            "type": "scattergl"
           }
          ],
          "scattermap": [
           {
            "marker": {
             "colorbar": {
              "outlinewidth": 0,
              "ticks": ""
             }
            },
            "type": "scattermap"
           }
          ],
          "scattermapbox": [
           {
            "marker": {
             "colorbar": {
              "outlinewidth": 0,
              "ticks": ""
             }
            },
            "type": "scattermapbox"
           }
          ],
          "scatterpolar": [
           {
            "marker": {
             "colorbar": {
              "outlinewidth": 0,
              "ticks": ""
             }
            },
            "type": "scatterpolar"
           }
          ],
          "scatterpolargl": [
           {
            "marker": {
             "colorbar": {
              "outlinewidth": 0,
              "ticks": ""
             }
            },
            "type": "scatterpolargl"
           }
          ],
          "scatterternary": [
           {
            "marker": {
             "colorbar": {
              "outlinewidth": 0,
              "ticks": ""
             }
            },
            "type": "scatterternary"
           }
          ],
          "surface": [
           {
            "colorbar": {
             "outlinewidth": 0,
             "ticks": ""
            },
            "colorscale": [
             [
              0,
              "#0d0887"
             ],
             [
              0.1111111111111111,
              "#46039f"
             ],
             [
              0.2222222222222222,
              "#7201a8"
             ],
             [
              0.3333333333333333,
              "#9c179e"
             ],
             [
              0.4444444444444444,
              "#bd3786"
             ],
             [
              0.5555555555555556,
              "#d8576b"
             ],
             [
              0.6666666666666666,
              "#ed7953"
             ],
             [
              0.7777777777777778,
              "#fb9f3a"
             ],
             [
              0.8888888888888888,
              "#fdca26"
             ],
             [
              1,
              "#f0f921"
             ]
            ],
            "type": "surface"
           }
          ],
          "table": [
           {
            "cells": {
             "fill": {
              "color": "#EBF0F8"
             },
             "line": {
              "color": "white"
             }
            },
            "header": {
             "fill": {
              "color": "#C8D4E3"
             },
             "line": {
              "color": "white"
             }
            },
            "type": "table"
           }
          ]
         },
         "layout": {
          "annotationdefaults": {
           "arrowcolor": "#2a3f5f",
           "arrowhead": 0,
           "arrowwidth": 1
          },
          "autotypenumbers": "strict",
          "coloraxis": {
           "colorbar": {
            "outlinewidth": 0,
            "ticks": ""
           }
          },
          "colorscale": {
           "diverging": [
            [
             0,
             "#8e0152"
            ],
            [
             0.1,
             "#c51b7d"
            ],
            [
             0.2,
             "#de77ae"
            ],
            [
             0.3,
             "#f1b6da"
            ],
            [
             0.4,
             "#fde0ef"
            ],
            [
             0.5,
             "#f7f7f7"
            ],
            [
             0.6,
             "#e6f5d0"
            ],
            [
             0.7,
             "#b8e186"
            ],
            [
             0.8,
             "#7fbc41"
            ],
            [
             0.9,
             "#4d9221"
            ],
            [
             1,
             "#276419"
            ]
           ],
           "sequential": [
            [
             0,
             "#0d0887"
            ],
            [
             0.1111111111111111,
             "#46039f"
            ],
            [
             0.2222222222222222,
             "#7201a8"
            ],
            [
             0.3333333333333333,
             "#9c179e"
            ],
            [
             0.4444444444444444,
             "#bd3786"
            ],
            [
             0.5555555555555556,
             "#d8576b"
            ],
            [
             0.6666666666666666,
             "#ed7953"
            ],
            [
             0.7777777777777778,
             "#fb9f3a"
            ],
            [
             0.8888888888888888,
             "#fdca26"
            ],
            [
             1,
             "#f0f921"
            ]
           ],
           "sequentialminus": [
            [
             0,
             "#0d0887"
            ],
            [
             0.1111111111111111,
             "#46039f"
            ],
            [
             0.2222222222222222,
             "#7201a8"
            ],
            [
             0.3333333333333333,
             "#9c179e"
            ],
            [
             0.4444444444444444,
             "#bd3786"
            ],
            [
             0.5555555555555556,
             "#d8576b"
            ],
            [
             0.6666666666666666,
             "#ed7953"
            ],
            [
             0.7777777777777778,
             "#fb9f3a"
            ],
            [
             0.8888888888888888,
             "#fdca26"
            ],
            [
             1,
             "#f0f921"
            ]
           ]
          },
          "colorway": [
           "#636efa",
           "#EF553B",
           "#00cc96",
           "#ab63fa",
           "#FFA15A",
           "#19d3f3",
           "#FF6692",
           "#B6E880",
           "#FF97FF",
           "#FECB52"
          ],
          "font": {
           "color": "#2a3f5f"
          },
          "geo": {
           "bgcolor": "white",
           "lakecolor": "white",
           "landcolor": "#E5ECF6",
           "showlakes": true,
           "showland": true,
           "subunitcolor": "white"
          },
          "hoverlabel": {
           "align": "left"
          },
          "hovermode": "closest",
          "mapbox": {
           "style": "light"
          },
          "paper_bgcolor": "white",
          "plot_bgcolor": "#E5ECF6",
          "polar": {
           "angularaxis": {
            "gridcolor": "white",
            "linecolor": "white",
            "ticks": ""
           },
           "bgcolor": "#E5ECF6",
           "radialaxis": {
            "gridcolor": "white",
            "linecolor": "white",
            "ticks": ""
           }
          },
          "scene": {
           "xaxis": {
            "backgroundcolor": "#E5ECF6",
            "gridcolor": "white",
            "gridwidth": 2,
            "linecolor": "white",
            "showbackground": true,
            "ticks": "",
            "zerolinecolor": "white"
           },
           "yaxis": {
            "backgroundcolor": "#E5ECF6",
            "gridcolor": "white",
            "gridwidth": 2,
            "linecolor": "white",
            "showbackground": true,
            "ticks": "",
            "zerolinecolor": "white"
           },
           "zaxis": {
            "backgroundcolor": "#E5ECF6",
            "gridcolor": "white",
            "gridwidth": 2,
            "linecolor": "white",
            "showbackground": true,
            "ticks": "",
            "zerolinecolor": "white"
           }
          },
          "shapedefaults": {
           "line": {
            "color": "#2a3f5f"
           }
          },
          "ternary": {
           "aaxis": {
            "gridcolor": "white",
            "linecolor": "white",
            "ticks": ""
           },
           "baxis": {
            "gridcolor": "white",
            "linecolor": "white",
            "ticks": ""
           },
           "bgcolor": "#E5ECF6",
           "caxis": {
            "gridcolor": "white",
            "linecolor": "white",
            "ticks": ""
           }
          },
          "title": {
           "x": 0.05
          },
          "xaxis": {
           "automargin": true,
           "gridcolor": "white",
           "linecolor": "white",
           "ticks": "",
           "title": {
            "standoff": 15
           },
           "zerolinecolor": "white",
           "zerolinewidth": 2
          },
          "yaxis": {
           "automargin": true,
           "gridcolor": "white",
           "linecolor": "white",
           "ticks": "",
           "title": {
            "standoff": 15
           },
           "zerolinecolor": "white",
           "zerolinewidth": 2
          }
         }
        },
        "title": {
         "text": "Activity Duration Distributions (Raw Logs)"
        },
        "xaxis": {
         "anchor": "y",
         "domain": [
          0,
          0.49
         ],
         "title": {
          "text": "Duration (minutes)"
         }
        },
        "xaxis10": {
         "anchor": "y10",
         "domain": [
          0.51,
          1
         ],
         "matches": "x",
         "showticklabels": false
        },
        "xaxis11": {
         "anchor": "y11",
         "domain": [
          0,
          0.49
         ],
         "matches": "x",
         "showticklabels": false
        },
        "xaxis12": {
         "anchor": "y12",
         "domain": [
          0.51,
          1
         ],
         "matches": "x",
         "showticklabels": false
        },
        "xaxis2": {
         "anchor": "y2",
         "domain": [
          0.51,
          1
         ],
         "matches": "x",
         "title": {
          "text": "Duration (minutes)"
         }
        },
        "xaxis3": {
         "anchor": "y3",
         "domain": [
          0,
          0.49
         ],
         "matches": "x",
         "showticklabels": false
        },
        "xaxis4": {
         "anchor": "y4",
         "domain": [
          0.51,
          1
         ],
         "matches": "x",
         "showticklabels": false
        },
        "xaxis5": {
         "anchor": "y5",
         "domain": [
          0,
          0.49
         ],
         "matches": "x",
         "showticklabels": false
        },
        "xaxis6": {
         "anchor": "y6",
         "domain": [
          0.51,
          1
         ],
         "matches": "x",
         "showticklabels": false
        },
        "xaxis7": {
         "anchor": "y7",
         "domain": [
          0,
          0.49
         ],
         "matches": "x",
         "showticklabels": false
        },
        "xaxis8": {
         "anchor": "y8",
         "domain": [
          0.51,
          1
         ],
         "matches": "x",
         "showticklabels": false
        },
        "xaxis9": {
         "anchor": "y9",
         "domain": [
          0,
          0.49
         ],
         "matches": "x",
         "showticklabels": false
        },
        "yaxis": {
         "anchor": "x",
         "domain": [
          0,
          0.10833333333333331
         ],
         "title": {
          "text": "count"
         }
        },
        "yaxis10": {
         "anchor": "x10",
         "domain": [
          0.7133333333333333,
          0.8216666666666665
         ],
         "matches": "y",
         "showticklabels": false
        },
        "yaxis11": {
         "anchor": "x11",
         "domain": [
          0.8916666666666666,
          0.9999999999999999
         ],
         "matches": "y",
         "title": {
          "text": "count"
         }
        },
        "yaxis12": {
         "anchor": "x12",
         "domain": [
          0.8916666666666666,
          0.9999999999999999
         ],
         "matches": "y",
         "showticklabels": false
        },
        "yaxis2": {
         "anchor": "x2",
         "domain": [
          0,
          0.10833333333333331
         ],
         "matches": "y",
         "showticklabels": false
        },
        "yaxis3": {
         "anchor": "x3",
         "domain": [
          0.17833333333333332,
          0.2866666666666666
         ],
         "matches": "y",
         "title": {
          "text": "count"
         }
        },
        "yaxis4": {
         "anchor": "x4",
         "domain": [
          0.17833333333333332,
          0.2866666666666666
         ],
         "matches": "y",
         "showticklabels": false
        },
        "yaxis5": {
         "anchor": "x5",
         "domain": [
          0.35666666666666663,
          0.46499999999999997
         ],
         "matches": "y",
         "title": {
          "text": "count"
         }
        },
        "yaxis6": {
         "anchor": "x6",
         "domain": [
          0.35666666666666663,
          0.46499999999999997
         ],
         "matches": "y",
         "showticklabels": false
        },
        "yaxis7": {
         "anchor": "x7",
         "domain": [
          0.5349999999999999,
          0.6433333333333332
         ],
         "matches": "y",
         "title": {
          "text": "count"
         }
        },
        "yaxis8": {
         "anchor": "x8",
         "domain": [
          0.5349999999999999,
          0.6433333333333332
         ],
         "matches": "y",
         "showticklabels": false
        },
        "yaxis9": {
         "anchor": "x9",
         "domain": [
          0.7133333333333333,
          0.8216666666666665
         ],
         "matches": "y",
         "title": {
          "text": "count"
         }
        }
       }
      }
     },
     "metadata": {},
     "output_type": "display_data"
    }
   ],
   "source": [
    "\n",
    "raw_df_test['start_timestamp'] = pd.to_datetime(raw_df_test['start_timestamp'])\n",
    "raw_df_test['end_timestamp'] = pd.to_datetime(raw_df_test['end_timestamp'])\n",
    "raw_df_test['duration_minutes'] = (raw_df_test['end_timestamp'] - raw_df_test['start_timestamp']).dt.total_seconds() / 60\n",
    "\n",
    "fig = px.histogram(raw_df_test,\n",
    "                   x='duration_minutes',\n",
    "                   facet_col='activity',\n",
    "                   facet_col_wrap=2,\n",
    "                   nbins=200,\n",
    "                   title=\"Activity Duration Distributions (Raw Logs)\",\n",
    "                   labels={'duration_minutes': 'Duration (minutes)'},\n",
    "                   color_discrete_sequence=['indianred'])\n",
    "\n",
    "fig.update_layout(height=800)\n",
    "fig.show()\n"
   ]
  },
  {
   "cell_type": "code",
   "execution_count": null,
   "metadata": {},
   "outputs": [],
   "source": []
  },
  {
   "cell_type": "code",
   "execution_count": null,
   "metadata": {},
   "outputs": [],
   "source": []
  },
  {
   "cell_type": "code",
   "execution_count": null,
   "metadata": {},
   "outputs": [],
   "source": []
  },
  {
   "cell_type": "code",
   "execution_count": null,
   "metadata": {},
   "outputs": [],
   "source": []
  },
  {
   "cell_type": "code",
   "execution_count": null,
   "metadata": {},
   "outputs": [],
   "source": []
  },
  {
   "cell_type": "code",
   "execution_count": null,
   "metadata": {},
   "outputs": [],
   "source": []
  },
  {
   "cell_type": "code",
   "execution_count": null,
   "metadata": {},
   "outputs": [],
   "source": []
  },
  {
   "cell_type": "markdown",
   "metadata": {},
   "source": [
    "Load data"
   ]
  },
  {
   "cell_type": "code",
   "execution_count": 100,
   "metadata": {},
   "outputs": [],
   "source": [
    "raw_logs = pd.read_csv(\"../../raw_data/LoanApp.csv.gz\", compression='gzip')\n",
    "# simulated_logs = pd.read_csv(\"../../simulated_data/LoanApp.csv/main_results/simulated_log_0.csv\")\n",
    "simulated_logs = pd.read_csv(\"../../simulated_data/LoanApp.csv/main_results/simulated_log_1.csv\")\n",
    "my_logs = pd.read_csv(\"naive_simulator_logs.csv\")\n",
    "\n",
    "# First, randomly sample 200 unique case_ids\n",
    "sampled_case_ids = raw_logs['case_id'].drop_duplicates().sample(n=200, random_state=42)"
   ]
  },
  {
   "cell_type": "code",
   "execution_count": 101,
   "metadata": {},
   "outputs": [],
   "source": [
    "# Then, filter the dataset to only include rows with those case_ids\n",
    "sampled_raw_logs = raw_logs[raw_logs['case_id'].isin(sampled_case_ids)]"
   ]
  },
  {
   "cell_type": "markdown",
   "metadata": {},
   "source": [
    "Calculate Circle Time"
   ]
  },
  {
   "cell_type": "code",
   "execution_count": 144,
   "metadata": {},
   "outputs": [],
   "source": [
    "def calculate_cycle_time(df, start_column, end_column):\n",
    "    temp = df.copy()\n",
    "    try:\n",
    "        temp['start_time'] = pd.to_datetime(df[start_column])\n",
    "    except:\n",
    "        temp['start_time'] = pd.to_datetime(df[start_column], utc=True, format=\"mixed\")\n",
    "    try:\n",
    "        temp['end_time'] = pd.to_datetime(df[end_column])\n",
    "    except:\n",
    "        temp['end_time'] = pd.to_datetime(df[end_column], utc=True, format=\"mixed\")\n",
    "\n",
    "    grouped = temp.groupby('case_id').agg(start=('start_time', 'min'), end=('end_time', 'max'))\n",
    "    grouped['cycle_time'] = (grouped['end'] - grouped['start']).dt.total_seconds()/60 # minites\n",
    "    return grouped"
   ]
  },
  {
   "cell_type": "code",
   "execution_count": 98,
   "metadata": {},
   "outputs": [],
   "source": [
    "# temp = my_logs.copy()\n",
    "# temp['start_time'] = pd.to_datetime(temp['start'], utc=True, format=\"mixed\")\n",
    "# temp['end_time'] = pd.to_datetime(temp['end'], utc=True, format=\"mixed\")\n",
    "# grouped = temp.groupby('case_id').agg(start=('start_time', 'min'), end=('end_time', 'max'))\n",
    "# grouped['cycle_time'] = (grouped['end'] - grouped['start']).dt.total_seconds()/60 # minites\n",
    "# grouped.reset_index(inplace=True)\n",
    "# grouped"
   ]
  },
  {
   "cell_type": "markdown",
   "metadata": {},
   "source": [
    "Compare Average Circle Times"
   ]
  },
  {
   "cell_type": "code",
   "execution_count": 103,
   "metadata": {},
   "outputs": [
    {
     "name": "stdout",
     "output_type": "stream",
     "text": [
      "Real average cycle time: 633.71 minutes\n",
      "Simulated average cycle time: 714.50 minutes\n",
      "Naively Simulated average cycle time: 520.85 minutes\n"
     ]
    }
   ],
   "source": [
    "real_cycle_times = calculate_cycle_time(sampled_raw_logs, 'start_time', 'end_time')\n",
    "simulator_cycle_times = calculate_cycle_time(simulated_logs, 'start_timestamp', 'end_timestamp')\n",
    "naive_simulator_cycle_times = calculate_cycle_time(my_logs, 'start', 'end')\n",
    "\n",
    "print(f\"Real average cycle time: {real_cycle_times.mean():.2f} minutes\")\n",
    "print(f\"Simulated average cycle time: {simulator_cycle_times.mean():.2f} minutes\")\n",
    "print(f\"Naively Simulated average cycle time: {naive_simulator_cycle_times.mean():.2f} minutes\")"
   ]
  },
  {
   "cell_type": "code",
   "execution_count": 105,
   "metadata": {},
   "outputs": [
    {
     "data": {
      "image/png": "[encoded data removed]",
      "text/plain": [
       "<Figure size 640x480 with 1 Axes>"
      ]
     },
     "metadata": {},
     "output_type": "display_data"
    }
   ],
   "source": [
    "import matplotlib.pyplot as plt\n",
    "\n",
    "real_counts = sampled_raw_logs.groupby('case_id').size()\n",
    "naive_counts = my_logs.groupby('case_id').size()\n",
    "\n",
    "plt.hist(real_counts, bins=30, alpha=0.5, label='Real Logs')\n",
    "plt.hist(naive_counts, bins=30, alpha=0.5, label='Naive Simulator')\n",
    "plt.xlabel('Number of activities per case')\n",
    "plt.ylabel('Number of cases')\n",
    "plt.legend()\n",
    "plt.title('Activity counts per case')\n",
    "plt.show()\n"
   ]
  },
  {
   "cell_type": "code",
   "execution_count": 108,
   "metadata": {},
   "outputs": [
    {
     "data": {
      "text/html": [
       "<div>\n",
       "<style scoped>\n",
       "    .dataframe tbody tr th:only-of-type {\n",
       "        vertical-align: middle;\n",
       "    }\n",
       "\n",
       "    .dataframe tbody tr th {\n",
       "        vertical-align: top;\n",
       "    }\n",
       "\n",
       "    .dataframe thead th {\n",
       "        text-align: right;\n",
       "    }\n",
       "</style>\n",
       "<table border=\"1\" class=\"dataframe\">\n",
       "  <thead>\n",
       "    <tr style=\"text-align: right;\">\n",
       "      <th></th>\n",
       "      <th>case_id</th>\n",
       "      <th>agent</th>\n",
       "      <th>activity_name</th>\n",
       "      <th>start_timestamp</th>\n",
       "      <th>end_timestamp</th>\n",
       "      <th>TimeStep</th>\n",
       "      <th>resource</th>\n",
       "    </tr>\n",
       "  </thead>\n",
       "  <tbody>\n",
       "    <tr>\n",
       "      <th>0</th>\n",
       "      <td>0</td>\n",
       "      <td>0</td>\n",
       "      <td>Check application form completeness</td>\n",
       "      <td>2023-04-20 08:00:00+00:00</td>\n",
       "      <td>2023-04-20 08:05:36.308585737+00:00</td>\n",
       "      <td>0</td>\n",
       "      <td>Clerk-000001</td>\n",
       "    </tr>\n",
       "    <tr>\n",
       "      <th>1</th>\n",
       "      <td>0</td>\n",
       "      <td>1</td>\n",
       "      <td>Check credit history</td>\n",
       "      <td>2023-04-20 08:05:36.308585737+00:00</td>\n",
       "      <td>2023-04-20 09:26:05.375334973+00:00</td>\n",
       "      <td>1</td>\n",
       "      <td>Clerk-000002</td>\n",
       "    </tr>\n",
       "    <tr>\n",
       "      <th>3</th>\n",
       "      <td>0</td>\n",
       "      <td>6</td>\n",
       "      <td>Appraise property</td>\n",
       "      <td>2023-04-20 09:26:05.375334973+00:00</td>\n",
       "      <td>2023-04-20 09:26:31.074338936+00:00</td>\n",
       "      <td>3</td>\n",
       "      <td>Appraiser-000002</td>\n",
       "    </tr>\n",
       "    <tr>\n",
       "      <th>6</th>\n",
       "      <td>0</td>\n",
       "      <td>2</td>\n",
       "      <td>AML check</td>\n",
       "      <td>2023-04-20 09:26:31.074338936+00:00</td>\n",
       "      <td>2023-04-20 09:36:18.883347487+00:00</td>\n",
       "      <td>6</td>\n",
       "      <td>AML Investigator-000001</td>\n",
       "    </tr>\n",
       "    <tr>\n",
       "      <th>8</th>\n",
       "      <td>0</td>\n",
       "      <td>16</td>\n",
       "      <td>Assess loan risk</td>\n",
       "      <td>2023-04-20 09:36:18.883347487+00:00</td>\n",
       "      <td>2023-04-20 09:56:18.883347487+00:00</td>\n",
       "      <td>8</td>\n",
       "      <td>Loan Officer-000004</td>\n",
       "    </tr>\n",
       "    <tr>\n",
       "      <th>13</th>\n",
       "      <td>0</td>\n",
       "      <td>0</td>\n",
       "      <td>Reject application</td>\n",
       "      <td>2023-04-20 09:56:18.883347487+00:00</td>\n",
       "      <td>2023-04-20 10:06:18.883347487+00:00</td>\n",
       "      <td>13</td>\n",
       "      <td>Clerk-000001</td>\n",
       "    </tr>\n",
       "  </tbody>\n",
       "</table>\n",
       "</div>"
      ],
      "text/plain": [
       "    case_id  agent                        activity_name  \\\n",
       "0         0      0  Check application form completeness   \n",
       "1         0      1                 Check credit history   \n",
       "3         0      6                    Appraise property   \n",
       "6         0      2                            AML check   \n",
       "8         0     16                     Assess loan risk   \n",
       "13        0      0                   Reject application   \n",
       "\n",
       "                        start_timestamp                        end_timestamp  \\\n",
       "0             2023-04-20 08:00:00+00:00  2023-04-20 08:05:36.308585737+00:00   \n",
       "1   2023-04-20 08:05:36.308585737+00:00  2023-04-20 09:26:05.375334973+00:00   \n",
       "3   2023-04-20 09:26:05.375334973+00:00  2023-04-20 09:26:31.074338936+00:00   \n",
       "6   2023-04-20 09:26:31.074338936+00:00  2023-04-20 09:36:18.883347487+00:00   \n",
       "8   2023-04-20 09:36:18.883347487+00:00  2023-04-20 09:56:18.883347487+00:00   \n",
       "13  2023-04-20 09:56:18.883347487+00:00  2023-04-20 10:06:18.883347487+00:00   \n",
       "\n",
       "    TimeStep                 resource  \n",
       "0          0             Clerk-000001  \n",
       "1          1             Clerk-000002  \n",
       "3          3         Appraiser-000002  \n",
       "6          6  AML Investigator-000001  \n",
       "8          8      Loan Officer-000004  \n",
       "13        13             Clerk-000001  "
      ]
     },
     "execution_count": 108,
     "metadata": {},
     "output_type": "execute_result"
    }
   ],
   "source": [
    "simulated_logs[simulated_logs['case_id'] == 0]"
   ]
  },
  {
   "cell_type": "code",
   "execution_count": 110,
   "metadata": {},
   "outputs": [
    {
     "data": {
      "text/html": [
       "<div>\n",
       "<style scoped>\n",
       "    .dataframe tbody tr th:only-of-type {\n",
       "        vertical-align: middle;\n",
       "    }\n",
       "\n",
       "    .dataframe tbody tr th {\n",
       "        vertical-align: top;\n",
       "    }\n",
       "\n",
       "    .dataframe thead th {\n",
       "        text-align: right;\n",
       "    }\n",
       "</style>\n",
       "<table border=\"1\" class=\"dataframe\">\n",
       "  <thead>\n",
       "    <tr style=\"text-align: right;\">\n",
       "      <th></th>\n",
       "      <th>case_id</th>\n",
       "      <th>resource</th>\n",
       "      <th>activity</th>\n",
       "      <th>start_time</th>\n",
       "      <th>end_time</th>\n",
       "    </tr>\n",
       "  </thead>\n",
       "  <tbody>\n",
       "    <tr>\n",
       "      <th>66</th>\n",
       "      <td>10</td>\n",
       "      <td>Clerk-000006</td>\n",
       "      <td>Check application form completeness</td>\n",
       "      <td>2023-02-09T13:00:00.000</td>\n",
       "      <td>2023-02-09T13:08:51.232</td>\n",
       "    </tr>\n",
       "    <tr>\n",
       "      <th>67</th>\n",
       "      <td>10</td>\n",
       "      <td>Clerk-000002</td>\n",
       "      <td>Check credit history</td>\n",
       "      <td>2023-02-09T13:08:51.232</td>\n",
       "      <td>2023-02-09T13:12:14.665</td>\n",
       "    </tr>\n",
       "    <tr>\n",
       "      <th>73</th>\n",
       "      <td>10</td>\n",
       "      <td>Appraiser-000002</td>\n",
       "      <td>Appraise property</td>\n",
       "      <td>2023-02-09T13:08:51.232</td>\n",
       "      <td>2023-02-09T13:29:47.376</td>\n",
       "    </tr>\n",
       "    <tr>\n",
       "      <th>79</th>\n",
       "      <td>10</td>\n",
       "      <td>AML Investigator-000001</td>\n",
       "      <td>AML check</td>\n",
       "      <td>2023-02-09T13:08:51.232</td>\n",
       "      <td>2023-02-09T13:50:42.043</td>\n",
       "    </tr>\n",
       "    <tr>\n",
       "      <th>83</th>\n",
       "      <td>10</td>\n",
       "      <td>Loan Officer-000002</td>\n",
       "      <td>Assess loan risk</td>\n",
       "      <td>2023-02-09T13:50:42.043</td>\n",
       "      <td>2023-02-09T14:10:42.043</td>\n",
       "    </tr>\n",
       "    <tr>\n",
       "      <th>84</th>\n",
       "      <td>10</td>\n",
       "      <td>Clerk-000002</td>\n",
       "      <td>Reject application</td>\n",
       "      <td>2023-02-09T14:10:42.043</td>\n",
       "      <td>2023-02-09T14:20:42.043</td>\n",
       "    </tr>\n",
       "  </tbody>\n",
       "</table>\n",
       "</div>"
      ],
      "text/plain": [
       "    case_id                 resource                             activity  \\\n",
       "66       10             Clerk-000006  Check application form completeness   \n",
       "67       10             Clerk-000002                 Check credit history   \n",
       "73       10         Appraiser-000002                    Appraise property   \n",
       "79       10  AML Investigator-000001                            AML check   \n",
       "83       10      Loan Officer-000002                     Assess loan risk   \n",
       "84       10             Clerk-000002                   Reject application   \n",
       "\n",
       "                 start_time                 end_time  \n",
       "66  2023-02-09T13:00:00.000  2023-02-09T13:08:51.232  \n",
       "67  2023-02-09T13:08:51.232  2023-02-09T13:12:14.665  \n",
       "73  2023-02-09T13:08:51.232  2023-02-09T13:29:47.376  \n",
       "79  2023-02-09T13:08:51.232  2023-02-09T13:50:42.043  \n",
       "83  2023-02-09T13:50:42.043  2023-02-09T14:10:42.043  \n",
       "84  2023-02-09T14:10:42.043  2023-02-09T14:20:42.043  "
      ]
     },
     "execution_count": 110,
     "metadata": {},
     "output_type": "execute_result"
    }
   ],
   "source": [
    "raw_logs[raw_logs['case_id'] == 10]"
   ]
  }
 ],
 "metadata": {
  "kernelspec": {
   "display_name": "venv",
   "language": "python",
   "name": "python3"
  },
  "language_info": {
   "codemirror_mode": {
    "name": "ipython",
    "version": 3
   },
   "file_extension": ".py",
   "mimetype": "text/x-python",
   "name": "python",
   "nbconvert_exporter": "python",
   "pygments_lexer": "ipython3",
   "version": "3.11.10"
  }
 },
 "nbformat": 4,
 "nbformat_minor": 2
}
