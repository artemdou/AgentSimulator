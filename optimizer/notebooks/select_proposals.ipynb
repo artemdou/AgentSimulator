{
 "cells": [
  {
   "cell_type": "code",
   "execution_count": 1,
   "metadata": {},
   "outputs": [],
   "source": [
    "import sys\n",
    "import os\n",
    "\n",
    "# Add project root to sys.path\n",
    "sys.path.append(os.path.abspath(os.path.join(\"../..\")))  # if you're in optimizer/\n",
    "\n",
    "import pandas as pd\n",
    "from source.utils import sample_from_distribution\n",
    "import random\n",
    "import numpy as np\n",
    "import datetime\n",
    "import pytz\n",
    "import itertools\n",
    "from collections import defaultdict\n"
   ]
  },
  {
   "cell_type": "markdown",
   "metadata": {},
   "source": [
    "Load stuff"
   ]
  },
  {
   "cell_type": "code",
   "execution_count": 2,
   "metadata": {},
   "outputs": [],
   "source": [
    "import pickle\n",
    "\n",
    "with open(\"../parameters/simulation_parameters.pkl\", \"rb\") as f:\n",
    "    sim_params = pickle.load(f)"
   ]
  },
  {
   "cell_type": "markdown",
   "metadata": {},
   "source": [
    "Explore prefixes"
   ]
  },
  {
   "cell_type": "code",
   "execution_count": 136,
   "metadata": {},
   "outputs": [],
   "source": [
    "transition_probabilities = sim_params['transition_probabilities']\n",
    "agent_transition_probabilities = sim_params['agent_transition_probabilities']"
   ]
  },
  {
   "cell_type": "code",
   "execution_count": 125,
   "metadata": {},
   "outputs": [],
   "source": [
    "def compute_transition_weight(\n",
    "    performed: list[str],\n",
    "    last_agent: int,\n",
    "    transition_probabilities: dict,\n",
    "    agent_transition_probabilities: dict,\n",
    "    is_orchestrated: float,\n",
    "    proposal_agent: int,\n",
    "    activity: str,\n",
    ") -> float:\n",
    "    \"\"\"\n",
    "    Weights regarding historic behavior:\n",
    "    - If the process is autonomous then we only need the agent_transition_probabilities\n",
    "    - If the process is orchestrated then we need to use transition_probabilities\n",
    "\n",
    "    Weights regarding optimization:\n",
    "    - tbd\n",
    "\n",
    "    Returns:\n",
    "    - joint_waigt: float\n",
    "    \"\"\"\n",
    "    if not performed:\n",
    "        return 0.0  # First activity → no context for prediction\n",
    "    \n",
    "    if is_orchestrated:\n",
    "        prefix = tuple(performed)\n",
    "        # P(activity | prefix, agent)\n",
    "        agent_sim_weight = transition_probabilities.get(prefix, {}).get(proposal_agent, {}).get(activity, 0.0)\n",
    "    else:\n",
    "        last_activity = performed[-1]\n",
    "        # P(agent, activity | last_agent, last_activity)\n",
    "        agent_sim_weight = agent_transition_probabilities.get(last_agent, {}).get(last_activity, {}).get(proposal_agent, {}).get(activity, 0.0)\n",
    "\n",
    "    transition_weight = agent_sim_weight\n",
    "    \n",
    "    return transition_weight"
   ]
  },
  {
   "cell_type": "code",
   "execution_count": null,
   "metadata": {},
   "outputs": [],
   "source": [
    "performed_activities=  ['Check application form completeness']\n",
    "last_agent = 10\n",
    "transition_probabilities = sim_params['transition_probabilities']\n",
    "agent_transition_probabilities = sim_params['agent_transition_probabilities']\n",
    "proposal_agent = 1\n",
    "proposed_activity = 'Check credit history'\n",
    "is_orchestrated = sim_params['central_orchestration']\n"
   ]
  },
  {
   "cell_type": "code",
   "execution_count": 132,
   "metadata": {},
   "outputs": [
    {
     "data": {
      "text/plain": [
       "0.025"
      ]
     },
     "execution_count": 132,
     "metadata": {},
     "output_type": "execute_result"
    }
   ],
   "source": [
    "compute_transition_weight(\n",
    "    performed_activities,\n",
    "    last_agent,\n",
    "    transition_probabilities,\n",
    "    agent_transition_probabilities,\n",
    "    is_orchestrated,\n",
    "    proposal_agent,\n",
    "    proposed_activity,\n",
    ") \n",
    "    "
   ]
  },
  {
   "cell_type": "code",
   "execution_count": 143,
   "metadata": {},
   "outputs": [
    {
     "name": "stdout",
     "output_type": "stream",
     "text": [
      "['1']\n",
      "['3']\n",
      "['1']\n",
      "['3']\n",
      "['1']\n",
      "['3']\n",
      "['3']\n",
      "['3']\n",
      "['1']\n",
      "['2']\n"
     ]
    }
   ],
   "source": [
    "import random\n",
    "\n",
    "p = ['1','2','3']\n",
    "w = [0.034, 0.009, 0.06]\n",
    "\n",
    "\n",
    "for i in range(0,10):\n",
    "    res = random.choices(p, weights=w, k=1)\n",
    "    print(res)\n",
    "\n"
   ]
  },
  {
   "cell_type": "code",
   "execution_count": 152,
   "metadata": {},
   "outputs": [
    {
     "data": {
      "text/plain": [
       "{2: {'AML check': 0.14166666666666666},\n",
       " 3: {'Appraise property': 0.20833333333333334},\n",
       " 7: {'AML check': 0.125},\n",
       " 10: {'Check credit history': 0.025},\n",
       " 6: {'Appraise property': 0.13333333333333333},\n",
       " 5: {'Check credit history': 0.03333333333333333,\n",
       "  'Return application back to applicant': 0.008333333333333333},\n",
       " 8: {'Return application back to applicant': 0.041666666666666664,\n",
       "  'Check credit history': 0.09166666666666666},\n",
       " 9: {'Return application back to applicant': 0.025,\n",
       "  'Check credit history': 0.025},\n",
       " 4: {'Check credit history': 0.041666666666666664,\n",
       "  'Return application back to applicant': 0.016666666666666666},\n",
       " 1: {'Check credit history': 0.041666666666666664,\n",
       "  'Return application back to applicant': 0.008333333333333333},\n",
       " 0: {'Return application back to applicant': 0.008333333333333333,\n",
       "  'Check credit history': 0.025}}"
      ]
     },
     "execution_count": 152,
     "metadata": {},
     "output_type": "execute_result"
    }
   ],
   "source": [
    "agent_transition_probabilities[12]['Check application form completeness']"
   ]
  },
  {
   "cell_type": "code",
   "execution_count": 153,
   "metadata": {},
   "outputs": [
    {
     "data": {
      "text/plain": [
       "{7: {'AML check': 0.14754098360655737},\n",
       " 1: {'Check credit history': 0.06557377049180328,\n",
       "  'Return application back to applicant': 0.01639344262295082},\n",
       " 2: {'AML check': 0.16393442622950818},\n",
       " 10: {'Check credit history': 0.05737704918032787,\n",
       "  'Return application back to applicant': 0.04918032786885246},\n",
       " 6: {'Appraise property': 0.09016393442622951},\n",
       " 8: {'Check credit history': 0.04918032786885246,\n",
       "  'Return application back to applicant': 0.00819672131147541},\n",
       " 4: {'Return application back to applicant': 0.00819672131147541,\n",
       "  'Check credit history': 0.06557377049180328},\n",
       " 3: {'Appraise property': 0.14754098360655737},\n",
       " 12: {'Return application back to applicant': 0.00819672131147541,\n",
       "  'Check credit history': 0.04918032786885246},\n",
       " 5: {'Check credit history': 0.03278688524590164,\n",
       "  'Return application back to applicant': 0.01639344262295082},\n",
       " 0: {'Check credit history': 0.02459016393442623}}"
      ]
     },
     "execution_count": 153,
     "metadata": {},
     "output_type": "execute_result"
    }
   ],
   "source": [
    "agent_transition_probabilities[9]['Check application form completeness']"
   ]
  },
  {
   "cell_type": "code",
   "execution_count": 148,
   "metadata": {},
   "outputs": [
    {
     "data": {
      "text/plain": [
       "{6: {'Appraise property': 0.11818181818181818},\n",
       " 10: {'Check credit history': 0.03636363636363636,\n",
       "  'Return application back to applicant': 0.01818181818181818},\n",
       " 5: {'Check credit history': 0.06363636363636363,\n",
       "  'Return application back to applicant': 0.00909090909090909},\n",
       " 7: {'AML check': 0.19090909090909092},\n",
       " 8: {'Check credit history': 0.07272727272727272,\n",
       "  'Return application back to applicant': 0.00909090909090909},\n",
       " 2: {'AML check': 0.1},\n",
       " 3: {'Appraise property': 0.13636363636363635},\n",
       " 0: {'Check credit history': 0.07272727272727272,\n",
       "  'Return application back to applicant': 0.00909090909090909},\n",
       " 12: {'Check credit history': 0.03636363636363636,\n",
       "  'Return application back to applicant': 0.03636363636363636},\n",
       " 9: {'Check credit history': 0.02727272727272727,\n",
       "  'Return application back to applicant': 0.00909090909090909},\n",
       " 1: {'Return application back to applicant': 0.00909090909090909,\n",
       "  'Check credit history': 0.045454545454545456}}"
      ]
     },
     "execution_count": 148,
     "metadata": {},
     "output_type": "execute_result"
    }
   ],
   "source": [
    "sim_params['agent_transition_probabilities'][4]['Check application form completeness']"
   ]
  },
  {
   "cell_type": "code",
   "execution_count": 9,
   "metadata": {},
   "outputs": [
    {
     "data": {
      "text/plain": [
       "dict_keys(['Check application form completeness', 'Cancel application', 'Check credit history', 'Reject application', 'Approve application', 'Return application back to applicant'])"
      ]
     },
     "execution_count": 9,
     "metadata": {},
     "output_type": "execute_result"
    }
   ],
   "source": [
    "probabilities = sim_params['agent_transition_probabilities']\n",
    "probabilities[0].keys()"
   ]
  },
  {
   "cell_type": "code",
   "execution_count": 11,
   "metadata": {},
   "outputs": [
    {
     "data": {
      "text/plain": [
       "{1: {'Check credit history': 0.07377049180327869,\n",
       "  'Return application back to applicant': 0.00819672131147541},\n",
       " 6: {'Appraise property': 0.1557377049180328},\n",
       " 3: {'Appraise property': 0.16393442622950818},\n",
       " 5: {'Check credit history': 0.05737704918032787},\n",
       " 4: {'Check credit history': 0.05737704918032787,\n",
       "  'Return application back to applicant': 0.00819672131147541},\n",
       " 2: {'AML check': 0.13934426229508196},\n",
       " 8: {'Check credit history': 0.08196721311475409},\n",
       " 12: {'Return application back to applicant': 0.01639344262295082,\n",
       "  'Check credit history': 0.02459016393442623},\n",
       " 9: {'Return application back to applicant': 0.03278688524590164,\n",
       "  'Check credit history': 0.04918032786885246},\n",
       " 10: {'Check credit history': 0.02459016393442623,\n",
       "  'Return application back to applicant': 0.00819672131147541},\n",
       " 7: {'AML check': 0.09836065573770492}}"
      ]
     },
     "execution_count": 11,
     "metadata": {},
     "output_type": "execute_result"
    }
   ],
   "source": [
    "probabilities[0]['Check application form completeness']"
   ]
  },
  {
   "cell_type": "code",
   "execution_count": null,
   "metadata": {},
   "outputs": [
    {
     "data": {
      "text/plain": [
       "{'AML check': 1,\n",
       " 'Applicant completes form': 3,\n",
       " 'Appraise property': 1,\n",
       " 'Approve application': 1,\n",
       " 'Approve loan offer': 1,\n",
       " 'Assess loan risk': 1,\n",
       " 'Cancel application': 1,\n",
       " 'Check application form completeness': 4,\n",
       " 'Check credit history': 1,\n",
       " 'Design loan offer': 1,\n",
       " 'Reject application': 1,\n",
       " 'Return application back to applicant': 3,\n",
       " 'zzz_end': 1}"
      ]
     },
     "execution_count": 154,
     "metadata": {},
     "output_type": "execute_result"
    }
   ],
   "source": [
    "sim_params['max_activity_count_per_case'][]"
   ]
  }
 ],
 "metadata": {
  "kernelspec": {
   "display_name": "venv",
   "language": "python",
   "name": "python3"
  },
  "language_info": {
   "codemirror_mode": {
    "name": "ipython",
    "version": 3
   },
   "file_extension": ".py",
   "mimetype": "text/x-python",
   "name": "python",
   "nbconvert_exporter": "python",
   "pygments_lexer": "ipython3",
   "version": "3.11.10"
  }
 },
 "nbformat": 4,
 "nbformat_minor": 2
}
