{
 "cells": [
  {
   "cell_type": "code",
   "execution_count": 3,
   "metadata": {},
   "outputs": [],
   "source": [
    "import os\n",
    "import sys\n",
    "import pandas as pd\n",
    "\n",
    "# Get the absolute path to optimizer/source\n",
    "notebook_dir = os.path.dirname(os.path.abspath(__file__)) if '__file__' in globals() else os.getcwd()\n",
    "source_dir = os.path.abspath(os.path.join(notebook_dir, '..', 'source'))\n"
   ]
  },
  {
   "cell_type": "code",
   "execution_count": 4,
   "metadata": {},
   "outputs": [],
   "source": [
    "# Add optimizer/source to sys.path\n",
    "if source_dir not in sys.path:\n",
    "    sys.path.insert(0, source_dir)\n",
    "\n",
    "# Now import modules directly from source/\n",
    "from state import Case, Agent\n",
    "from simulation import Simulation\n",
    "from optimizer import prepare_inputs\n",
    "from utils import (\n",
    "    discover_post_conditions,\n",
    "    extract_all_successors,\n",
    "    mine_concurrent_activities,\n",
    "    extract_xor_groups_from_cooccurrence,\n",
    "    discover_prerequisites_from_log,\n",
    "    validate_simulated_log,\n",
    ")\n",
    "from activity_rules import ActivityRules"
   ]
  },
  {
   "cell_type": "code",
   "execution_count": 5,
   "metadata": {},
   "outputs": [],
   "source": [
    "sim_params, agent_ids, durations, calendars, rules, xor, possible_cases = prepare_inputs(\"../parameters/simulation_parameters.pkl\",raw_logs_path=\"../raw_data/LoanApp.csv.gz\")\n",
    "        "
   ]
  },
  {
   "cell_type": "code",
   "execution_count": 6,
   "metadata": {},
   "outputs": [
    {
     "data": {
      "text/plain": [
       "defaultdict(list,\n",
       "            {'Check application form completeness': [['AML check',\n",
       "               'Appraise property',\n",
       "               'Check credit history'],\n",
       "              ['Return application back to applicant']],\n",
       "             'Check credit history': [['AML check', 'Appraise property'],\n",
       "              ['Assess loan risk']],\n",
       "             'AML check': [['Appraise property', 'Check credit history'],\n",
       "              ['Assess loan risk']],\n",
       "             'Appraise property': [['Assess loan risk'],\n",
       "              ['AML check', 'Check credit history']],\n",
       "             'Assess loan risk': [['Design loan offer'],\n",
       "              ['Reject application']],\n",
       "             'Approve loan offer': [['Approve application'],\n",
       "              ['Cancel application']]})"
      ]
     },
     "execution_count": 6,
     "metadata": {},
     "output_type": "execute_result"
    }
   ],
   "source": [
    "xor"
   ]
  },
  {
   "cell_type": "code",
   "execution_count": 22,
   "metadata": {},
   "outputs": [
    {
     "data": {
      "text/plain": [
       "defaultdict(list,\n",
       "            {'Check application form completeness': [['Return application back to applicant'],\n",
       "              ['AML check', 'Appraise property', 'Check credit history']],\n",
       "             'Check credit history': [['AML check', 'Appraise property'],\n",
       "              ['Assess loan risk']],\n",
       "             'AML check': [['Appraise property', 'Check credit history'],\n",
       "              ['Assess loan risk']],\n",
       "             'Appraise property': [['AML check', 'Check credit history'],\n",
       "              ['Assess loan risk']],\n",
       "             'Assess loan risk': [['Reject application'],\n",
       "              ['Design loan offer']],\n",
       "             'Approve loan offer': [['Cancel application'],\n",
       "              ['Approve application']]})"
      ]
     },
     "execution_count": 22,
     "metadata": {},
     "output_type": "execute_result"
    }
   ],
   "source": [
    "xor"
   ]
  },
  {
   "cell_type": "code",
   "execution_count": 23,
   "metadata": {},
   "outputs": [],
   "source": [
    "def run_simulation(sim_param_path, raw_logs_path, max_cases=5, max_steps=100):\n",
    "    sim_params, agent_ids, durations, calendars, rules, xor, possible_cases = prepare_inputs(sim_param_path, raw_logs_path)\n",
    "    \n",
    "    all_logs = []\n",
    "    successful_cases = 0\n",
    "    case_counter = 0\n",
    "\n",
    "    while (successful_cases < max_cases) and (case_counter <= possible_cases):\n",
    "        print(f\"\\n🚀 Starting simulation for case {case_counter}\")\n",
    "\n",
    "        arrival_time = sim_params['case_arrival_times'][case_counter]\n",
    "        case = Case(str(case_counter), arrival_time, xor_decisions={})\n",
    "        case.performed = []\n",
    "        case.current_time = arrival_time\n",
    "\n",
    "        agents = []\n",
    "        for agent_id in agent_ids:\n",
    "            capable_acts = set(durations[agent_id].keys())\n",
    "            agents.append(Agent(agent_id, capable_activities=capable_acts, calendar=calendars[agent_id]))\n",
    "\n",
    "        sim = Simulation(\n",
    "            agents=agents,\n",
    "            cases=[case],\n",
    "            rules=rules,\n",
    "            durations=durations,\n",
    "            case_arrivals={str(case_counter): arrival_time}\n",
    "        )\n",
    "\n",
    "        step = 0\n",
    "        while not case.done and step < max_steps:\n",
    "            if not sim.tick(calendars):\n",
    "                print(f\"⚠️ No activity executed at tick {step}, aborting case {case_counter}\")\n",
    "                break\n",
    "            step += 1\n",
    "\n",
    "        if case.done:\n",
    "            print(f\"✅ Case {case_counter} completed successfully with {len(sim.log)} log entries.\")\n",
    "            all_logs.extend([entry.to_dict() for entry in sim.log])\n",
    "            successful_cases += 1\n",
    "        else:\n",
    "            print(f\"❌ Case {case_counter} did not complete. Retrying with new case.\")\n",
    "\n",
    "        print(f\"In case {case_counter} the following were performed: {case.performed}\")\n",
    "\n",
    "        case_counter += 1\n",
    "        print(f\"Performed: {case.performed}\")\n",
    "        break\n",
    "\n",
    "    df_simulated_log = pd.DataFrame(all_logs)\n",
    "    print(\"\\n✅ Simulation completed for all cases.\")\n",
    "    return df_simulated_log"
   ]
  },
  {
   "cell_type": "code",
   "execution_count": 24,
   "metadata": {},
   "outputs": [
    {
     "name": "stdout",
     "output_type": "stream",
     "text": [
      "\n",
      "🚀 Starting simulation for case 0\n",
      "Available activities: ['Check application form completeness']\n",
      "Selected activity: Check application form completeness by agent 12\n",
      "Available activities: ['Appraise property', 'AML check', 'Check credit history', 'Check application form completeness', 'Return application back to applicant']\n",
      "Selected activity: Check credit history by agent 12\n",
      "Available activities: ['Appraise property', 'AML check', 'Check application form completeness', 'Check credit history', 'Return application back to applicant']\n",
      "Selected activity: Appraise property by agent 6\n",
      "Available activities: ['AML check', 'Check application form completeness', 'Check credit history', 'Appraise property', 'Return application back to applicant']\n",
      "Selected activity: AML check by agent 2\n",
      "Available activities: ['Check application form completeness', 'Check credit history', 'AML check', 'Appraise property', 'Assess loan risk', 'Return application back to applicant']\n",
      "Selected activity: Return application back to applicant by agent 10\n",
      "Available activities: ['Applicant completes form', 'Check application form completeness', 'Check credit history', 'AML check', 'Appraise property', 'Assess loan risk', 'Return application back to applicant']\n",
      "Selected activity: Applicant completes form by agent 18\n",
      "Available activities: ['Check application form completeness', 'Check credit history', 'AML check', 'Appraise property', 'Assess loan risk', 'Return application back to applicant', 'Applicant completes form']\n",
      "Selected activity: Check credit history by agent 8\n",
      "Available activities: ['Check application form completeness', 'Check credit history', 'AML check', 'Appraise property', 'Assess loan risk', 'Return application back to applicant', 'Applicant completes form']\n",
      "Selected activity: Check application form completeness by agent 4\n",
      "Available activities: ['Appraise property', 'AML check', 'Check credit history', 'Check application form completeness', 'Assess loan risk', 'Return application back to applicant', 'Applicant completes form']\n",
      "Selected activity: Appraise property by agent 6\n",
      "Available activities: ['AML check', 'Check credit history', 'Check application form completeness', 'Appraise property', 'Assess loan risk', 'Return application back to applicant', 'Applicant completes form']\n",
      "Selected activity: AML check by agent 2\n",
      "Available activities: ['Check credit history', 'Check application form completeness', 'AML check', 'Appraise property', 'Assess loan risk', 'Return application back to applicant', 'Applicant completes form']\n",
      "Selected activity: Check credit history by agent 1\n",
      "Available activities: ['Check application form completeness', 'Check credit history', 'AML check', 'Appraise property', 'Assess loan risk', 'Return application back to applicant', 'Applicant completes form']\n",
      "Selected activity: AML check by agent 7\n",
      "Available activities: ['Check application form completeness', 'Check credit history', 'AML check', 'Appraise property', 'Assess loan risk', 'Return application back to applicant', 'Applicant completes form']\n",
      "Selected activity: Return application back to applicant by agent 4\n",
      "Available activities: ['Applicant completes form', 'Check application form completeness', 'Check credit history', 'AML check', 'Appraise property', 'Assess loan risk', 'Return application back to applicant']\n",
      "Selected activity: Applicant completes form by agent 18\n",
      "Available activities: ['Check application form completeness', 'Check credit history', 'AML check', 'Appraise property', 'Assess loan risk', 'Return application back to applicant', 'Applicant completes form']\n",
      "Selected activity: Check application form completeness by agent 10\n",
      "Available activities: ['Appraise property', 'AML check', 'Check credit history', 'Check application form completeness', 'Assess loan risk', 'Return application back to applicant', 'Applicant completes form']\n",
      "Selected activity: Return application back to applicant by agent 0\n",
      "Available activities: ['Applicant completes form', 'Check application form completeness', 'Check credit history', 'AML check', 'Appraise property', 'Assess loan risk', 'Return application back to applicant']\n",
      "Selected activity: Check application form completeness by agent 5\n",
      "Available activities: ['Applicant completes form', 'Appraise property', 'AML check', 'Check credit history', 'Check application form completeness', 'Assess loan risk', 'Return application back to applicant']\n",
      "Selected activity: Check credit history by agent 1\n",
      "Available activities: ['Applicant completes form', 'Appraise property', 'AML check', 'Check application form completeness', 'Check credit history', 'Assess loan risk', 'Return application back to applicant']\n",
      "Selected activity: AML check by agent 7\n",
      "Available activities: ['Applicant completes form', 'Appraise property', 'Check application form completeness', 'Check credit history', 'AML check', 'Assess loan risk', 'Return application back to applicant']\n",
      "⚠️ No activity executed at tick 19, aborting case 0\n",
      "❌ Case 0 did not complete. Retrying with new case.\n",
      "In case 0 the following were performed: ['Check application form completeness', 'Check credit history', 'Appraise property', 'AML check', 'Return application back to applicant', 'Applicant completes form', 'Check credit history', 'Check application form completeness', 'Appraise property', 'AML check', 'Check credit history', 'AML check', 'Return application back to applicant', 'Applicant completes form', 'Check application form completeness', 'Return application back to applicant', 'Check application form completeness', 'Check credit history', 'AML check']\n",
      "Performed: ['Check application form completeness', 'Check credit history', 'Appraise property', 'AML check', 'Return application back to applicant', 'Applicant completes form', 'Check credit history', 'Check application form completeness', 'Appraise property', 'AML check', 'Check credit history', 'AML check', 'Return application back to applicant', 'Applicant completes form', 'Check application form completeness', 'Return application back to applicant', 'Check application form completeness', 'Check credit history', 'AML check']\n",
      "\n",
      "✅ Simulation completed for all cases.\n"
     ]
    }
   ],
   "source": [
    "df = run_simulation(\"../parameters/simulation_parameters.pkl\", max_cases=5, max_steps=100, raw_logs_path=\"../raw_data/LoanApp.csv.gz\")"
   ]
  },
  {
   "cell_type": "code",
   "execution_count": 7,
   "metadata": {},
   "outputs": [
    {
     "data": {
      "text/html": [
       "<div>\n",
       "<style scoped>\n",
       "    .dataframe tbody tr th:only-of-type {\n",
       "        vertical-align: middle;\n",
       "    }\n",
       "\n",
       "    .dataframe tbody tr th {\n",
       "        vertical-align: top;\n",
       "    }\n",
       "\n",
       "    .dataframe thead th {\n",
       "        text-align: right;\n",
       "    }\n",
       "</style>\n",
       "<table border=\"1\" class=\"dataframe\">\n",
       "  <thead>\n",
       "    <tr style=\"text-align: right;\">\n",
       "      <th></th>\n",
       "    </tr>\n",
       "  </thead>\n",
       "  <tbody>\n",
       "  </tbody>\n",
       "</table>\n",
       "</div>"
      ],
      "text/plain": [
       "Empty DataFrame\n",
       "Columns: []\n",
       "Index: []"
      ]
     },
     "execution_count": 7,
     "metadata": {},
     "output_type": "execute_result"
    }
   ],
   "source": [
    "df"
   ]
  },
  {
   "cell_type": "code",
   "execution_count": 8,
   "metadata": {},
   "outputs": [],
   "source": [
    "sim_params, agent_ids, durations, calendars, rules, xor, possible_cases = prepare_inputs(\"../parameters/simulation_parameters.pkl\", \"../raw_data/LoanApp.csv.gz\")"
   ]
  },
  {
   "cell_type": "code",
   "execution_count": 9,
   "metadata": {},
   "outputs": [],
   "source": [
    "raw_logs=pd.read_csv(\"../raw_data/LoanApp.csv.gz\", compression='gzip')\n",
    "prerequisites = discover_prerequisites_from_log(raw_logs, activity_col='activity', case_col='case_id', order_by='end_time')\n",
    "post_conditions = discover_post_conditions(raw_logs)\n",
    "def find_valid_end_activities(transition_dict):\n",
    "    valid_end_activities = set()\n",
    "\n",
    "    for prefix, agent_dicts in transition_dict.items():\n",
    "        for agent_transitions in agent_dicts.values():\n",
    "            # print(agent_transitions)\n",
    "            if 'zzz_end' in agent_transitions:\n",
    "                if prefix:  # make sure prefix is not empty\n",
    "                    valid_end_activities.add(prefix[-1])  # last activity in prefix\n",
    "\n",
    "    return valid_end_activities\n",
    "\n",
    "\n",
    "\n",
    "valid_end_activities = find_valid_end_activities(sim_params[\"transition_probabilities\"])"
   ]
  },
  {
   "cell_type": "code",
   "execution_count": 10,
   "metadata": {},
   "outputs": [
    {
     "data": {
      "text/html": [
       "<div>\n",
       "<style scoped>\n",
       "    .dataframe tbody tr th:only-of-type {\n",
       "        vertical-align: middle;\n",
       "    }\n",
       "\n",
       "    .dataframe tbody tr th {\n",
       "        vertical-align: top;\n",
       "    }\n",
       "\n",
       "    .dataframe thead th {\n",
       "        text-align: right;\n",
       "    }\n",
       "</style>\n",
       "<table border=\"1\" class=\"dataframe\">\n",
       "  <thead>\n",
       "    <tr style=\"text-align: right;\">\n",
       "      <th></th>\n",
       "    </tr>\n",
       "  </thead>\n",
       "  <tbody>\n",
       "  </tbody>\n",
       "</table>\n",
       "</div>"
      ],
      "text/plain": [
       "Empty DataFrame\n",
       "Columns: []\n",
       "Index: []"
      ]
     },
     "execution_count": 10,
     "metadata": {},
     "output_type": "execute_result"
    }
   ],
   "source": [
    "df"
   ]
  },
  {
   "cell_type": "code",
   "execution_count": 11,
   "metadata": {},
   "outputs": [
    {
     "ename": "KeyError",
     "evalue": "'case_id'",
     "output_type": "error",
     "traceback": [
      "\u001b[0;31m---------------------------------------------------------------------------\u001b[0m",
      "\u001b[0;31mKeyError\u001b[0m                                  Traceback (most recent call last)",
      "Cell \u001b[0;32mIn[11], line 1\u001b[0m\n\u001b[0;32m----> 1\u001b[0m \u001b[43mvalidate_simulated_log\u001b[49m\u001b[43m(\u001b[49m\u001b[43mdf\u001b[49m\u001b[43m,\u001b[49m\u001b[43m \u001b[49m\u001b[43mprerequisites\u001b[49m\u001b[43m,\u001b[49m\u001b[43m \u001b[49m\u001b[43mpost_conditions\u001b[49m\u001b[43m,\u001b[49m\u001b[43m \u001b[49m\u001b[43mvalid_end_activities\u001b[49m\u001b[43m,\u001b[49m\u001b[43m \u001b[49m\n\u001b[1;32m      2\u001b[0m \u001b[43m                            \u001b[49m\u001b[43mcase_col\u001b[49m\u001b[38;5;241;43m=\u001b[39;49m\u001b[38;5;124;43m'\u001b[39;49m\u001b[38;5;124;43mcase_id\u001b[39;49m\u001b[38;5;124;43m'\u001b[39;49m\u001b[43m,\u001b[49m\u001b[43m \u001b[49m\u001b[43mactivity_col\u001b[49m\u001b[38;5;241;43m=\u001b[39;49m\u001b[38;5;124;43m'\u001b[39;49m\u001b[38;5;124;43mactivity\u001b[39;49m\u001b[38;5;124;43m'\u001b[39;49m\u001b[43m,\u001b[49m\u001b[43m \u001b[49m\u001b[43morder_by\u001b[49m\u001b[38;5;241;43m=\u001b[39;49m\u001b[38;5;124;43m'\u001b[39;49m\u001b[38;5;124;43mstart\u001b[39;49m\u001b[38;5;124;43m'\u001b[39;49m\u001b[43m)\u001b[49m\n",
      "File \u001b[0;32m~/Documents/github_repositories/university/AgentSimulator/optimizer/source/utils.py:237\u001b[0m, in \u001b[0;36mvalidate_simulated_log\u001b[0;34m(df, prerequisites, post_conditions, valid_end_activities, case_col, activity_col, order_by)\u001b[0m\n\u001b[1;32m    233\u001b[0m \u001b[38;5;28;01mdef\u001b[39;00m \u001b[38;5;21mvalidate_simulated_log\u001b[39m(df, prerequisites, post_conditions, valid_end_activities, \n\u001b[1;32m    234\u001b[0m                             case_col\u001b[38;5;241m=\u001b[39m\u001b[38;5;124m'\u001b[39m\u001b[38;5;124mcase_id\u001b[39m\u001b[38;5;124m'\u001b[39m, activity_col\u001b[38;5;241m=\u001b[39m\u001b[38;5;124m'\u001b[39m\u001b[38;5;124mactivity\u001b[39m\u001b[38;5;124m'\u001b[39m, order_by\u001b[38;5;241m=\u001b[39m\u001b[38;5;124m'\u001b[39m\u001b[38;5;124mstart\u001b[39m\u001b[38;5;124m'\u001b[39m):\n\u001b[1;32m    235\u001b[0m     issues \u001b[38;5;241m=\u001b[39m []\n\u001b[0;32m--> 237\u001b[0m     \u001b[38;5;28;01mfor\u001b[39;00m case_id, group \u001b[38;5;129;01min\u001b[39;00m \u001b[43mdf\u001b[49m\u001b[38;5;241;43m.\u001b[39;49m\u001b[43mgroupby\u001b[49m\u001b[43m(\u001b[49m\u001b[43mcase_col\u001b[49m\u001b[43m)\u001b[49m:\n\u001b[1;32m    238\u001b[0m         sorted_activities \u001b[38;5;241m=\u001b[39m group\u001b[38;5;241m.\u001b[39msort_values(by\u001b[38;5;241m=\u001b[39morder_by)[activity_col]\u001b[38;5;241m.\u001b[39mtolist()\n\u001b[1;32m    240\u001b[0m         \u001b[38;5;28;01mif\u001b[39;00m \u001b[38;5;129;01mnot\u001b[39;00m sorted_activities:\n",
      "File \u001b[0;32m~/Documents/github_repositories/university/AgentSimulator/venv/lib/python3.11/site-packages/pandas/core/frame.py:9183\u001b[0m, in \u001b[0;36mDataFrame.groupby\u001b[0;34m(self, by, axis, level, as_index, sort, group_keys, observed, dropna)\u001b[0m\n\u001b[1;32m   9180\u001b[0m \u001b[38;5;28;01mif\u001b[39;00m level \u001b[38;5;129;01mis\u001b[39;00m \u001b[38;5;28;01mNone\u001b[39;00m \u001b[38;5;129;01mand\u001b[39;00m by \u001b[38;5;129;01mis\u001b[39;00m \u001b[38;5;28;01mNone\u001b[39;00m:\n\u001b[1;32m   9181\u001b[0m     \u001b[38;5;28;01mraise\u001b[39;00m \u001b[38;5;167;01mTypeError\u001b[39;00m(\u001b[38;5;124m\"\u001b[39m\u001b[38;5;124mYou have to supply one of \u001b[39m\u001b[38;5;124m'\u001b[39m\u001b[38;5;124mby\u001b[39m\u001b[38;5;124m'\u001b[39m\u001b[38;5;124m and \u001b[39m\u001b[38;5;124m'\u001b[39m\u001b[38;5;124mlevel\u001b[39m\u001b[38;5;124m'\u001b[39m\u001b[38;5;124m\"\u001b[39m)\n\u001b[0;32m-> 9183\u001b[0m \u001b[38;5;28;01mreturn\u001b[39;00m \u001b[43mDataFrameGroupBy\u001b[49m\u001b[43m(\u001b[49m\n\u001b[1;32m   9184\u001b[0m \u001b[43m    \u001b[49m\u001b[43mobj\u001b[49m\u001b[38;5;241;43m=\u001b[39;49m\u001b[38;5;28;43mself\u001b[39;49m\u001b[43m,\u001b[49m\n\u001b[1;32m   9185\u001b[0m \u001b[43m    \u001b[49m\u001b[43mkeys\u001b[49m\u001b[38;5;241;43m=\u001b[39;49m\u001b[43mby\u001b[49m\u001b[43m,\u001b[49m\n\u001b[1;32m   9186\u001b[0m \u001b[43m    \u001b[49m\u001b[43maxis\u001b[49m\u001b[38;5;241;43m=\u001b[39;49m\u001b[43maxis\u001b[49m\u001b[43m,\u001b[49m\n\u001b[1;32m   9187\u001b[0m \u001b[43m    \u001b[49m\u001b[43mlevel\u001b[49m\u001b[38;5;241;43m=\u001b[39;49m\u001b[43mlevel\u001b[49m\u001b[43m,\u001b[49m\n\u001b[1;32m   9188\u001b[0m \u001b[43m    \u001b[49m\u001b[43mas_index\u001b[49m\u001b[38;5;241;43m=\u001b[39;49m\u001b[43mas_index\u001b[49m\u001b[43m,\u001b[49m\n\u001b[1;32m   9189\u001b[0m \u001b[43m    \u001b[49m\u001b[43msort\u001b[49m\u001b[38;5;241;43m=\u001b[39;49m\u001b[43msort\u001b[49m\u001b[43m,\u001b[49m\n\u001b[1;32m   9190\u001b[0m \u001b[43m    \u001b[49m\u001b[43mgroup_keys\u001b[49m\u001b[38;5;241;43m=\u001b[39;49m\u001b[43mgroup_keys\u001b[49m\u001b[43m,\u001b[49m\n\u001b[1;32m   9191\u001b[0m \u001b[43m    \u001b[49m\u001b[43mobserved\u001b[49m\u001b[38;5;241;43m=\u001b[39;49m\u001b[43mobserved\u001b[49m\u001b[43m,\u001b[49m\n\u001b[1;32m   9192\u001b[0m \u001b[43m    \u001b[49m\u001b[43mdropna\u001b[49m\u001b[38;5;241;43m=\u001b[39;49m\u001b[43mdropna\u001b[49m\u001b[43m,\u001b[49m\n\u001b[1;32m   9193\u001b[0m \u001b[43m\u001b[49m\u001b[43m)\u001b[49m\n",
      "File \u001b[0;32m~/Documents/github_repositories/university/AgentSimulator/venv/lib/python3.11/site-packages/pandas/core/groupby/groupby.py:1329\u001b[0m, in \u001b[0;36mGroupBy.__init__\u001b[0;34m(self, obj, keys, axis, level, grouper, exclusions, selection, as_index, sort, group_keys, observed, dropna)\u001b[0m\n\u001b[1;32m   1326\u001b[0m \u001b[38;5;28mself\u001b[39m\u001b[38;5;241m.\u001b[39mdropna \u001b[38;5;241m=\u001b[39m dropna\n\u001b[1;32m   1328\u001b[0m \u001b[38;5;28;01mif\u001b[39;00m grouper \u001b[38;5;129;01mis\u001b[39;00m \u001b[38;5;28;01mNone\u001b[39;00m:\n\u001b[0;32m-> 1329\u001b[0m     grouper, exclusions, obj \u001b[38;5;241m=\u001b[39m \u001b[43mget_grouper\u001b[49m\u001b[43m(\u001b[49m\n\u001b[1;32m   1330\u001b[0m \u001b[43m        \u001b[49m\u001b[43mobj\u001b[49m\u001b[43m,\u001b[49m\n\u001b[1;32m   1331\u001b[0m \u001b[43m        \u001b[49m\u001b[43mkeys\u001b[49m\u001b[43m,\u001b[49m\n\u001b[1;32m   1332\u001b[0m \u001b[43m        \u001b[49m\u001b[43maxis\u001b[49m\u001b[38;5;241;43m=\u001b[39;49m\u001b[43maxis\u001b[49m\u001b[43m,\u001b[49m\n\u001b[1;32m   1333\u001b[0m \u001b[43m        \u001b[49m\u001b[43mlevel\u001b[49m\u001b[38;5;241;43m=\u001b[39;49m\u001b[43mlevel\u001b[49m\u001b[43m,\u001b[49m\n\u001b[1;32m   1334\u001b[0m \u001b[43m        \u001b[49m\u001b[43msort\u001b[49m\u001b[38;5;241;43m=\u001b[39;49m\u001b[43msort\u001b[49m\u001b[43m,\u001b[49m\n\u001b[1;32m   1335\u001b[0m \u001b[43m        \u001b[49m\u001b[43mobserved\u001b[49m\u001b[38;5;241;43m=\u001b[39;49m\u001b[38;5;28;43;01mFalse\u001b[39;49;00m\u001b[43m \u001b[49m\u001b[38;5;28;43;01mif\u001b[39;49;00m\u001b[43m \u001b[49m\u001b[43mobserved\u001b[49m\u001b[43m \u001b[49m\u001b[38;5;129;43;01mis\u001b[39;49;00m\u001b[43m \u001b[49m\u001b[43mlib\u001b[49m\u001b[38;5;241;43m.\u001b[39;49m\u001b[43mno_default\u001b[49m\u001b[43m \u001b[49m\u001b[38;5;28;43;01melse\u001b[39;49;00m\u001b[43m \u001b[49m\u001b[43mobserved\u001b[49m\u001b[43m,\u001b[49m\n\u001b[1;32m   1336\u001b[0m \u001b[43m        \u001b[49m\u001b[43mdropna\u001b[49m\u001b[38;5;241;43m=\u001b[39;49m\u001b[38;5;28;43mself\u001b[39;49m\u001b[38;5;241;43m.\u001b[39;49m\u001b[43mdropna\u001b[49m\u001b[43m,\u001b[49m\n\u001b[1;32m   1337\u001b[0m \u001b[43m    \u001b[49m\u001b[43m)\u001b[49m\n\u001b[1;32m   1339\u001b[0m \u001b[38;5;28;01mif\u001b[39;00m observed \u001b[38;5;129;01mis\u001b[39;00m lib\u001b[38;5;241m.\u001b[39mno_default:\n\u001b[1;32m   1340\u001b[0m     \u001b[38;5;28;01mif\u001b[39;00m \u001b[38;5;28many\u001b[39m(ping\u001b[38;5;241m.\u001b[39m_passed_categorical \u001b[38;5;28;01mfor\u001b[39;00m ping \u001b[38;5;129;01min\u001b[39;00m grouper\u001b[38;5;241m.\u001b[39mgroupings):\n",
      "File \u001b[0;32m~/Documents/github_repositories/university/AgentSimulator/venv/lib/python3.11/site-packages/pandas/core/groupby/grouper.py:1043\u001b[0m, in \u001b[0;36mget_grouper\u001b[0;34m(obj, key, axis, level, sort, observed, validate, dropna)\u001b[0m\n\u001b[1;32m   1041\u001b[0m         in_axis, level, gpr \u001b[38;5;241m=\u001b[39m \u001b[38;5;28;01mFalse\u001b[39;00m, gpr, \u001b[38;5;28;01mNone\u001b[39;00m\n\u001b[1;32m   1042\u001b[0m     \u001b[38;5;28;01melse\u001b[39;00m:\n\u001b[0;32m-> 1043\u001b[0m         \u001b[38;5;28;01mraise\u001b[39;00m \u001b[38;5;167;01mKeyError\u001b[39;00m(gpr)\n\u001b[1;32m   1044\u001b[0m \u001b[38;5;28;01melif\u001b[39;00m \u001b[38;5;28misinstance\u001b[39m(gpr, Grouper) \u001b[38;5;129;01mand\u001b[39;00m gpr\u001b[38;5;241m.\u001b[39mkey \u001b[38;5;129;01mis\u001b[39;00m \u001b[38;5;129;01mnot\u001b[39;00m \u001b[38;5;28;01mNone\u001b[39;00m:\n\u001b[1;32m   1045\u001b[0m     \u001b[38;5;66;03m# Add key to exclusions\u001b[39;00m\n\u001b[1;32m   1046\u001b[0m     exclusions\u001b[38;5;241m.\u001b[39madd(gpr\u001b[38;5;241m.\u001b[39mkey)\n",
      "\u001b[0;31mKeyError\u001b[0m: 'case_id'"
     ]
    }
   ],
   "source": [
    "validate_simulated_log(df, prerequisites, post_conditions, valid_end_activities, \n",
    "                            case_col='case_id', activity_col='activity', order_by='start')"
   ]
  }
 ],
 "metadata": {
  "kernelspec": {
   "display_name": "venv",
   "language": "python",
   "name": "python3"
  },
  "language_info": {
   "codemirror_mode": {
    "name": "ipython",
    "version": 3
   },
   "file_extension": ".py",
   "mimetype": "text/x-python",
   "name": "python",
   "nbconvert_exporter": "python",
   "pygments_lexer": "ipython3",
   "version": "3.11.10"
  }
 },
 "nbformat": 4,
 "nbformat_minor": 2
}
