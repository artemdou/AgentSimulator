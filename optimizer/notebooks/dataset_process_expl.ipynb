{
 "cells": [
  {
   "cell_type": "code",
   "execution_count": 5,
   "metadata": {},
   "outputs": [],
   "source": [
    "import sys\n",
    "import os\n",
    "\n",
    "# Add project root to sys.path\n",
    "sys.path.append(os.path.abspath(os.path.join(\"../..\")))  # if you're in optimizer/\n",
    "\n",
    "import pandas as pd\n",
    "from source.utils import sample_from_distribution\n",
    "import random\n",
    "import numpy as np\n",
    "import datetime\n",
    "import pytz\n",
    "import itertools\n",
    "from collections import defaultdict\n",
    "import pickle\n"
   ]
  },
  {
   "cell_type": "code",
   "execution_count": 6,
   "metadata": {},
   "outputs": [],
   "source": [
    "logs = pd.read_csv(\"../../raw_data/LoanApp.csv.gz\", compression='gzip')\n",
    "\n",
    "with open(\"../parameters/simulation_parameters.pkl\", \"rb\") as f:\n",
    "    sim_params = pickle.load(f)"
   ]
  },
  {
   "cell_type": "code",
   "execution_count": 12,
   "metadata": {},
   "outputs": [
    {
     "data": {
      "text/plain": [
       "array(['Check application form completeness', 'Check credit history',\n",
       "       'Appraise property', 'AML check', 'Assess loan risk',\n",
       "       'Design loan offer', 'Approve loan offer', 'Cancel application',\n",
       "       'Approve application', 'Reject application',\n",
       "       'Return application back to applicant', 'Applicant completes form'],\n",
       "      dtype=object)"
      ]
     },
     "execution_count": 12,
     "metadata": {},
     "output_type": "execute_result"
    }
   ],
   "source": [
    "logs['activity'].unique()"
   ]
  },
  {
   "cell_type": "code",
   "execution_count": 10,
   "metadata": {},
   "outputs": [
    {
     "data": {
      "text/plain": [
       "dict_keys(['Role 1', 'Role 2', 'Role 3', 'Role 4', 'Role 5', 'Role 6'])"
      ]
     },
     "execution_count": 10,
     "metadata": {},
     "output_type": "execute_result"
    }
   ],
   "source": [
    "sim_params['roles'].keys()"
   ]
  }
 ],
 "metadata": {
  "kernelspec": {
   "display_name": "venv",
   "language": "python",
   "name": "python3"
  },
  "language_info": {
   "codemirror_mode": {
    "name": "ipython",
    "version": 3
   },
   "file_extension": ".py",
   "mimetype": "text/x-python",
   "name": "python",
   "nbconvert_exporter": "python",
   "pygments_lexer": "ipython3",
   "version": "3.11.10"
  }
 },
 "nbformat": 4,
 "nbformat_minor": 2
}
