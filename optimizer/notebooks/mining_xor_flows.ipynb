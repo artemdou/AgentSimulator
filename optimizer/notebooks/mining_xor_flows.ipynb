{
 "cells": [
  {
   "cell_type": "code",
   "execution_count": 1,
   "metadata": {},
   "outputs": [],
   "source": [
    "import sys\n",
    "import os\n",
    "\n",
    "# Add project root to sys.path\n",
    "sys.path.append(os.path.abspath(os.path.join(\"../..\")))  # if you're in optimizer/\n",
    "\n",
    "import pandas as pd\n",
    "from source.utils import sample_from_distribution\n",
    "import random\n",
    "import numpy as np\n",
    "import datetime\n",
    "import pytz\n",
    "import itertools"
   ]
  },
  {
   "cell_type": "code",
   "execution_count": 5,
   "metadata": {},
   "outputs": [],
   "source": [
    "import pickle\n",
    "\n",
    "with open(\"../parameters/simulation_parameters.pkl\", \"rb\") as f:\n",
    "    sim_params = pickle.load(f)\n",
    "\n",
    "sim_params.keys()\n",
    "\n",
    "transition_dict = sim_params['transition_probabilities']"
   ]
  },
  {
   "cell_type": "code",
   "execution_count": 19,
   "metadata": {},
   "outputs": [],
   "source": [
    "df = pd.read_csv(\"../../raw_data/LoanApp.csv.gz\", compression='gzip')"
   ]
  },
  {
   "cell_type": "markdown",
   "metadata": {},
   "source": [
    "Attempt from Monday"
   ]
  },
  {
   "cell_type": "code",
   "execution_count": 15,
   "metadata": {},
   "outputs": [],
   "source": [
    "def extract_all_successors(transition_dict):\n",
    "    \"\"\"\n",
    "    Converts a nested transition dictionary to a flat mapping:\n",
    "    prefix_activity → list of all possible successor activities (non-zero prob)\n",
    "\n",
    "    Parameters:\n",
    "    - transition_dict: dict of {prefix: {agent_id: {activity: prob}}}\n",
    "\n",
    "    Returns:\n",
    "    - dict of {activity: [possible next activities]}\n",
    "    \"\"\"\n",
    "    flat_successors = {}\n",
    "    seen_anchors = set()\n",
    "\n",
    "    for prefix, agent_dict in transition_dict.items():\n",
    "        if not prefix:\n",
    "            continue  # skip empty prefixes\n",
    "        if prefix[-1] in seen_anchors:\n",
    "            continue\n",
    "        anchor = prefix[-1]  # last activity in the prefix\n",
    "        seen_anchors.add(anchor)\n",
    "        # print(anchor, \":\")\n",
    "        successor_set = set()\n",
    "        for agent_transitions in agent_dict.values():\n",
    "            for act, prob in agent_transitions.items(): \n",
    "                if (act not in successor_set):\n",
    "                    # print(act, prob)\n",
    "                    if prob > 0:\n",
    "                        # print(act)\n",
    "                        successor_set.add(act)\n",
    "        # print(successor_set)\n",
    "\n",
    "        flat_successors[anchor] = sorted(successor_set)\n",
    "        # print(flat_successors[anchor])\n",
    "    # print(\"END\", flat_successors['Check application form completeness'])\n",
    "    return flat_successors\n"
   ]
  },
  {
   "cell_type": "code",
   "execution_count": 8,
   "metadata": {},
   "outputs": [],
   "source": [
    "valid_dicts = {p: a for p, a in transition_dict.items() if len(p) == 1}"
   ]
  },
  {
   "cell_type": "code",
   "execution_count": 39,
   "metadata": {},
   "outputs": [],
   "source": [
    "flat_map = extract_all_successors(valid_dicts)"
   ]
  },
  {
   "cell_type": "code",
   "execution_count": 40,
   "metadata": {},
   "outputs": [
    {
     "data": {
      "text/plain": [
       "{'Check application form completeness': ['AML check',\n",
       "  'Appraise property',\n",
       "  'Check credit history',\n",
       "  'Return application back to applicant'],\n",
       " 'Check credit history': ['AML check',\n",
       "  'Appraise property',\n",
       "  'Assess loan risk'],\n",
       " 'AML check': ['Appraise property',\n",
       "  'Assess loan risk',\n",
       "  'Check credit history'],\n",
       " 'Appraise property': ['AML check',\n",
       "  'Assess loan risk',\n",
       "  'Check credit history'],\n",
       " 'Assess loan risk': ['Design loan offer', 'Reject application'],\n",
       " 'Design loan offer': ['Approve loan offer'],\n",
       " 'Approve loan offer': ['Approve application', 'Cancel application'],\n",
       " 'Cancel application': ['zzz_end'],\n",
       " 'Approve application': ['zzz_end'],\n",
       " 'Reject application': ['zzz_end'],\n",
       " 'Return application back to applicant': ['Applicant completes form'],\n",
       " 'Applicant completes form': ['Check application form completeness']}"
      ]
     },
     "execution_count": 40,
     "metadata": {},
     "output_type": "execute_result"
    }
   ],
   "source": [
    "flat_map"
   ]
  },
  {
   "cell_type": "code",
   "execution_count": 44,
   "metadata": {},
   "outputs": [],
   "source": [
    "from collections import defaultdict\n",
    "\n",
    "def extract_xor_groups_from_cooccurrence(successor_map, co_occurrence_map):\n",
    "    \"\"\"\n",
    "    Builds XOR groups from a simplified co-occurrence map.\n",
    "    Each group is a list of activities that co-occur with each other.\n",
    "    XOR is inferred between groups that do not co-occur with each other.\n",
    "\n",
    "    Returns:\n",
    "    - xor_groups: {anchor: list of mutually exclusive groups (each group is a list of activities)}\n",
    "    \"\"\"\n",
    "    xor_groups = defaultdict(list)\n",
    "\n",
    "    for anchor, successors in successor_map.items():\n",
    "        if not successors:\n",
    "            continue\n",
    "\n",
    "        remaining = set(successors)\n",
    "        groups = []\n",
    "\n",
    "        while remaining:\n",
    "            act = remaining.pop()\n",
    "            group = {act}\n",
    "\n",
    "            # Collect all activities that co-occur with 'act'\n",
    "            for other in list(remaining):\n",
    "                if (\n",
    "                    act in co_occurrence_map.get(other, []) or\n",
    "                    other in co_occurrence_map.get(act, [])\n",
    "                ):\n",
    "                    group.add(other)\n",
    "                    remaining.remove(other)\n",
    "\n",
    "            groups.append(sorted(group))\n",
    "\n",
    "        if len(groups) > 1:\n",
    "            xor_groups[anchor] = groups\n",
    "\n",
    "    return xor_groups\n"
   ]
  },
  {
   "cell_type": "code",
   "execution_count": 49,
   "metadata": {},
   "outputs": [],
   "source": [
    "import pandas as pd\n",
    "from collections import defaultdict\n",
    "\n",
    "def mine_concurrent_activities(df, case_col='case_id', activity_col='activity',\n",
    "                                start_col='start_time', end_col='end_time'):\n",
    "    \"\"\"\n",
    "    For each activity, detect other activities that can run concurrently\n",
    "    by overlapping time windows in the same case.\n",
    "\n",
    "    Parameters:\n",
    "    - df: Event log with case_id, activity, start_time, end_time\n",
    "\n",
    "    Returns:\n",
    "    - co_occurrence: dict {activity: [other activities that overlapped with it]}\n",
    "    \"\"\"\n",
    "    df = df.copy()\n",
    "    df[start_col] = pd.to_datetime(df[start_col])\n",
    "    df[end_col] = pd.to_datetime(df[end_col])\n",
    "\n",
    "    co_occurrence = defaultdict(set)\n",
    "\n",
    "    for case_id, group in df.groupby(case_col):\n",
    "        group = group.sort_values(by=start_col)\n",
    "        for i, row_i in group.iterrows():\n",
    "            act_i, start_i, end_i = row_i[activity_col], row_i[start_col], row_i[end_col]\n",
    "            for j, row_j in group.iterrows():\n",
    "                if i == j:\n",
    "                    continue\n",
    "                act_j, start_j, end_j = row_j[activity_col], row_j[start_col], row_j[end_col]\n",
    "                # Check for overlap\n",
    "                if start_i < end_j and start_j < end_i:\n",
    "                    co_occurrence[act_i].add(act_j)\n",
    "\n",
    "    # Convert sets to sorted lists\n",
    "    return {act: sorted(list(others)) for act, others in co_occurrence.items()}\n"
   ]
  },
  {
   "cell_type": "code",
   "execution_count": 50,
   "metadata": {},
   "outputs": [
    {
     "name": "stdout",
     "output_type": "stream",
     "text": [
      "Check credit history can run concurrently with: ['AML check', 'Appraise property']\n",
      "AML check can run concurrently with: ['Appraise property', 'Check credit history']\n",
      "Appraise property can run concurrently with: ['AML check', 'Check credit history']\n"
     ]
    }
   ],
   "source": [
    "concurrent_map = mine_concurrent_activities(df)\n",
    "\n",
    "for act, overlaps in concurrent_map.items():\n",
    "    print(f\"{act} can run concurrently with: {overlaps}\")\n"
   ]
  },
  {
   "cell_type": "code",
   "execution_count": 45,
   "metadata": {},
   "outputs": [],
   "source": [
    "def print_xor_groups(xor_groups):\n",
    "    print(\"\\n📌 XOR Groupings by Anchor Activity:\")\n",
    "    for anchor, groups in xor_groups.items():\n",
    "        print(f\"\\nAfter '{anchor}':\")\n",
    "        for i, group in enumerate(groups):\n",
    "            print(f\"  Option {i+1}: {group}\")\n"
   ]
  },
  {
   "cell_type": "code",
   "execution_count": 54,
   "metadata": {},
   "outputs": [
    {
     "name": "stdout",
     "output_type": "stream",
     "text": [
      "\n",
      "📌 XOR Groupings by Anchor Activity:\n",
      "\n",
      "After 'Check application form completeness':\n",
      "  Option 1: ['AML check', 'Appraise property', 'Check credit history']\n",
      "  Option 2: ['Return application back to applicant']\n",
      "\n",
      "After 'Check credit history':\n",
      "  Option 1: ['AML check', 'Appraise property']\n",
      "  Option 2: ['Assess loan risk']\n",
      "\n",
      "After 'AML check':\n",
      "  Option 1: ['Appraise property', 'Check credit history']\n",
      "  Option 2: ['Assess loan risk']\n",
      "\n",
      "After 'Appraise property':\n",
      "  Option 1: ['AML check', 'Check credit history']\n",
      "  Option 2: ['Assess loan risk']\n",
      "\n",
      "After 'Assess loan risk':\n",
      "  Option 1: ['Design loan offer']\n",
      "  Option 2: ['Reject application']\n",
      "\n",
      "After 'Approve loan offer':\n",
      "  Option 1: ['Cancel application']\n",
      "  Option 2: ['Approve application']\n"
     ]
    }
   ],
   "source": [
    "\n",
    "\n",
    "xor = extract_xor_groups_from_cooccurrence(flat_map, concurrent_map)\n",
    "print_xor_groups(xor)\n"
   ]
  },
  {
   "cell_type": "code",
   "execution_count": 38,
   "metadata": {},
   "outputs": [],
   "source": [
    "# next_actions = []\n",
    "# for case_id in df['case_id'].unique():\n",
    "#     case = df[df['case_id'] == case_id].reset_index(drop=True)  # Get events for this case\n",
    "#     for i in range(len(case) - 1):  # stop at second to last row\n",
    "#         if case.loc[i, 'activity'] == 'Applicant completes form':\n",
    "#             next_action = case.loc[i + 1, 'activity']\n",
    "#             if next_action not in next_actions:\n",
    "#                 next_actions.append(next_action)\n",
    "# next_actions"
   ]
  },
  {
   "cell_type": "code",
   "execution_count": null,
   "metadata": {},
   "outputs": [],
   "source": []
  },
  {
   "cell_type": "code",
   "execution_count": null,
   "metadata": {},
   "outputs": [],
   "source": []
  }
 ],
 "metadata": {
  "kernelspec": {
   "display_name": "venv",
   "language": "python",
   "name": "python3"
  },
  "language_info": {
   "codemirror_mode": {
    "name": "ipython",
    "version": 3
   },
   "file_extension": ".py",
   "mimetype": "text/x-python",
   "name": "python",
   "nbconvert_exporter": "python",
   "pygments_lexer": "ipython3",
   "version": "3.11.10"
  }
 },
 "nbformat": 4,
 "nbformat_minor": 2
}
